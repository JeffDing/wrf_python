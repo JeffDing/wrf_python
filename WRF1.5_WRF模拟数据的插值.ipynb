{
 "cells": [
  {
   "cell_type": "markdown",
   "metadata": {
    "id": "EB6345C40E9F42FA830C80BA12F9A33A",
    "jupyter": {},
    "notebookId": "6490bab2c4655e152a628c39",
    "runtime": {
     "execution_status": null,
     "status": "default"
    },
    "slideshow": {
     "slide_type": "slide"
    },
    "tags": []
   },
   "source": [
    "\n",
    "![ImageName](pic/title.jpg)  \n",
    "\n",
    "**作者：[lqy](https://www.heywhale.com/home/user/profile/5f27fd9633e1be002cc65a1d)** 华东师范大学气象学研究生、和鲸社区气象数据科学频道版主"
   ]
  },
  {
   "cell_type": "markdown",
   "metadata": {
    "id": "09F06D8F1BA84E60A850C88109D396C1",
    "jupyter": {},
    "notebookId": "6490bab2c4655e152a628c39",
    "runtime": {
     "execution_status": null,
     "status": "default"
    },
    "slideshow": {
     "slide_type": "slide"
    },
    "tags": []
   },
   "source": [
    "🐋：本项目来自和鲸社区《[气象训练营⑦：WRF模式后处理](https://www.heywhale.com/home/competition/64478fec113e81a18dc70cd1)》活动，所有教案代码都可以一键跑通，你可以 fork 后在线在线运行、调试学习、完成作业练习。  \n",
    "\n",
    "学习过程中如果你遇到任何问题，欢迎使用搜索引擎，或在 [讨论区](https://www.heywhale.com/home/competition/forumlist/64478fec113e81a18dc70cd1) 中发帖提出，我们很乐意为你提供帮助。"
   ]
  },
  {
   "cell_type": "markdown",
   "metadata": {
    "id": "3926CB76A06745A1969854927BED33F9",
    "jupyter": {},
    "notebookId": "6490bab2c4655e152a628c39",
    "runtime": {
     "execution_status": null,
     "status": "default"
    },
    "slideshow": {
     "slide_type": "slide"
    },
    "tags": []
   },
   "source": [
    "# 关卡五：WRF模拟数据的插值  \n"
   ]
  },
  {
   "cell_type": "markdown",
   "metadata": {
    "id": "45D554864E48465D859C0DD5C3CCCF1F",
    "jupyter": {},
    "notebookId": "6490bab2c4655e152a628c39",
    "runtime": {
     "execution_status": null,
     "status": "default"
    },
    "slideshow": {
     "slide_type": "slide"
    },
    "tags": []
   },
   "source": [
    "数据插值是一种空间数据的常用处理方式，其**不仅可以是时间序列插值，也可以是空间分布插值**；从插值的输入和输出数据可以分为，**点数据到格点数据、格点数据到格点数据（重采样）、格点数据到点数据（数据提取）** 三种形式；从插值的方法，可以分为**线性插值、反距离权重差值、克里金插值**等等。  \n",
    "\n",
    "这一关相对难度较大、内容较多，但提供了很多素材和示例，能够满足多种的插值场景需要。"
   ]
  },
  {
   "cell_type": "markdown",
   "metadata": {
    "id": "7C2C35C27A7D42B9BC088E03512F2443",
    "jupyter": {},
    "notebookId": "6490bab2c4655e152a628c39",
    "runtime": {
     "execution_status": null,
     "status": "default"
    },
    "slideshow": {
     "slide_type": "slide"
    },
    "tags": []
   },
   "source": [
    "## 一、关于空间插值的基本概念"
   ]
  },
  {
   "cell_type": "markdown",
   "metadata": {
    "id": "5CC150EF4C2D4881B35E0EBE797700E6",
    "jupyter": {},
    "notebookId": "6490bab2c4655e152a628c39",
    "runtime": {
     "execution_status": null,
     "status": "default"
    },
    "slideshow": {
     "slide_type": "slide"
    },
    "tags": []
   },
   "source": [
    "### 1. 什么是空间插值  \n",
    "\n",
    "**插值（Interpolation）** 是一个从已知点近似计算未知点的近似计算方法。    \n",
    "    \n",
    "**空间插值（Spatial Interpolation）** 是将离散点的测量数据转换为连续的数据曲面，以便与其它空间现象的分布模式进行比较，它包括了**空间内插和外推**两种算法。    \n",
    "    \n",
    "**空间重插值，又可以被称为空间重采样，** 实现数据在不同空间分辨率下的转换。    \n",
    "    \n"
   ]
  },
  {
   "cell_type": "markdown",
   "metadata": {
    "id": "98301B0F97BF4D41BEF6639B303FDC89",
    "jupyter": {},
    "notebookId": "6490bab2c4655e152a628c39",
    "runtime": {
     "execution_status": null,
     "status": "default"
    },
    "slideshow": {
     "slide_type": "slide"
    },
    "tags": []
   },
   "source": [
    "### 2. 空间插值的常用方法  \n",
    "\n",
    "\n",
    "**线性插值**：将模式层的数据点在垂直方向上进行线性插值，然后再按照地面高度和气压的关系，将插值结果映射到地面层。这是一种简单且广泛使用的方法，但可能会引入较大误差，特别是在高地形和不均匀地表覆盖的地区。    \n",
    "**双线性插值**：对于水平均匀网格的气象模式输出数据，可以使用双线性插值将模式层数据插值到地面层。这种方法可以保留更多的信息和精度，但需要确保网格分辨率足够高。    \n",
    "    \n",
    "需要注意的是，**不同插值方法和参数设置可能会导致不同的插值误差和结果**。通常 WRF 模拟数据并不存在缺失值，线性插值方法能最大程度保留原始模拟特征。"
   ]
  },
  {
   "cell_type": "markdown",
   "metadata": {
    "id": "BC88CD110C1F4B2680B638520EA41275",
    "jupyter": {},
    "notebookId": "6490bab2c4655e152a628c39",
    "runtime": {
     "execution_status": null,
     "status": "default"
    },
    "slideshow": {
     "slide_type": "slide"
    },
    "tags": []
   },
   "source": [
    "### 3. 关于WRF模拟数据的插值  \n",
    "\n",
    "对于WRF数据的插值，本质上也是空间插值。但是不同于传统的空间数据，WRF模拟数据的维度更高（经度、纬度、时间、高度），插值形式也更为丰富，主要可以分为以下四种类型：  \n",
    "（1）**格点到格点插值（重插值）**：非规则网格转换为规则网格  \n",
    "（2）**格点到站点插值**：根据站点提取格点的物理量  \n",
    "（3）**水平层面的插值**：获取特定气压层面的物理量  \n",
    "（4）**垂直层面的插值**：获取物理量的垂直分布特征  \n"
   ]
  },
  {
   "cell_type": "code",
   "execution_count": null,
   "metadata": {
    "collapsed": false,
    "id": "C0154887EFFC4AFBB4FFB5B6823E1A52",
    "jupyter": {
     "outputs_hidden": false
    },
    "notebookId": "6490bab2c4655e152a628c39",
    "slideshow": {
     "slide_type": "slide"
    },
    "tags": []
   },
   "outputs": [],
   "source": [
    "# 导入模块\n",
    "from scipy import interpolate\n",
    "import metpy.calc as mpcalc\n",
    "from metpy.units import units\n",
    "import xesmf as xe\n",
    "import xarray as xr\n",
    "import salem\n",
    "import numpy as np\n",
    "import matplotlib.path as mpath\n",
    "import matplotlib.pyplot as plt\n",
    "import matplotlib as mpl\n",
    "from wrf import getvar, interplevel, CoordPair, vertcross, ll_to_xy, xy_to_ll\n",
    "from netCDF4 import Dataset"
   ]
  },
  {
   "cell_type": "code",
   "execution_count": null,
   "metadata": {
    "collapsed": false,
    "id": "46942D6BE25D464FA04B5A8289BE35DC",
    "jupyter": {
     "outputs_hidden": false
    },
    "notebookId": "6490bab2c4655e152a628c39",
    "slideshow": {
     "slide_type": "slide"
    },
    "tags": []
   },
   "outputs": [],
   "source": [
    "# WRF数据目录\n",
    "wrfout_path = './dataset/wrfout/'"
   ]
  },
  {
   "cell_type": "code",
   "execution_count": null,
   "metadata": {
    "collapsed": false,
    "id": "7558408EE8CE457F95B40243DFB32C6C",
    "jupyter": {
     "outputs_hidden": false
    },
    "notebookId": "6490bab2c4655e152a628c39",
    "slideshow": {
     "slide_type": "slide"
    },
    "tags": []
   },
   "outputs": [],
   "source": [
    "# 读取 WRF 模拟数据\n",
    "wrf_file = Dataset(wrfout_path + 'wrfout_d01_2019-08-09_06_00_00')"
   ]
  },
  {
   "cell_type": "markdown",
   "metadata": {
    "id": "B0794C1EF7894DE2B3AC552BA1FAD5E5",
    "jupyter": {},
    "notebookId": "6490bab2c4655e152a628c39",
    "runtime": {
     "execution_status": null,
     "status": "default"
    },
    "slideshow": {
     "slide_type": "slide"
    },
    "tags": []
   },
   "source": [
    "## 二、WRF模拟数据的插值场景"
   ]
  },
  {
   "cell_type": "markdown",
   "metadata": {
    "id": "602767ED47D74C8795268F0D25F58E98",
    "jupyter": {},
    "notebookId": "6490bab2c4655e152a628c39",
    "runtime": {
     "execution_status": null,
     "status": "default"
    },
    "slideshow": {
     "slide_type": "slide"
    },
    "tags": []
   },
   "source": [
    "对于 WRF 模拟数据而言，我们通常有以下五种插值场景：  \n",
    "**1、插值到指定的高度层  \n",
    "2、从地面到高空的垂直插值  \n",
    "3、三维差值  \n",
    "4、二维到一维插值  \n",
    "5、非规则网格到规则网格插值**"
   ]
  },
  {
   "cell_type": "markdown",
   "metadata": {
    "id": "60254284AFDD44A0A7095B2A8C624F3F",
    "jupyter": {},
    "notebookId": "6490bab2c4655e152a628c39",
    "runtime": {
     "execution_status": null,
     "status": "default"
    },
    "slideshow": {
     "slide_type": "slide"
    },
    "tags": []
   },
   "source": [
    "### 1. 插值到指定的高度层"
   ]
  },
  {
   "cell_type": "markdown",
   "metadata": {
    "id": "219947737BBC416C848A1788D7BB5309",
    "jupyter": {},
    "notebookId": "6490bab2c4655e152a628c39",
    "runtime": {
     "execution_status": null,
     "status": "default"
    },
    "slideshow": {
     "slide_type": "slide"
    },
    "tags": []
   },
   "source": [
    "wrf-python中`interplevel`函数可以将三维数据插值到水平层上，通常是指定的高度层。"
   ]
  },
  {
   "cell_type": "code",
   "execution_count": null,
   "metadata": {
    "collapsed": false,
    "id": "462370D6BE23480D92DF00BF8EEDE8F9",
    "jupyter": {
     "outputs_hidden": false
    },
    "notebookId": "6490bab2c4655e152a628c39",
    "slideshow": {
     "slide_type": "slide"
    },
    "tags": []
   },
   "outputs": [],
   "source": [
    "# 提取位势高度\n",
    "z = getvar(wrf_file, 'z')\n",
    "# 提取高度层\n",
    "p = getvar(wrf_file, 'pressure')\n",
    "# 计算500 hPa位势高度\n",
    "ht_500 = interplevel(z, p, 500)"
   ]
  },
  {
   "cell_type": "markdown",
   "metadata": {
    "id": "17DC24F2B19841F0B2D75B4656DC5D07",
    "jupyter": {},
    "notebookId": "6490bab2c4655e152a628c39",
    "runtime": {
     "execution_status": null,
     "status": "default"
    },
    "slideshow": {
     "slide_type": "slide"
    },
    "tags": []
   },
   "source": [
    "### 2. 从地面到高空的垂直插值"
   ]
  },
  {
   "cell_type": "markdown",
   "metadata": {
    "id": "0017507950284DFABC933935B5C153FA",
    "jupyter": {},
    "notebookId": "6490bab2c4655e152a628c39",
    "runtime": {
     "execution_status": null,
     "status": "default"
    },
    "slideshow": {
     "slide_type": "slide"
    },
    "tags": []
   },
   "source": [
    "将模式层的数据按照**地面高度插值到一系列垂直层次**，然后再将这些垂直层次的数据插值到地面层。这种方法可以考虑到大气的垂直结构和稳定性，但需要考虑到下垫面的高度和物理特征。    \n",
    "    \n",
    "wrf-python中`vertcross`函数可以用来创建垂直剖面图。**为了定义垂直剖面，需要指定剖面的起始和终止点，也可以提供中心点和角度来进行剖面。**    \n",
    "    \n",
    "可以使用wrf-python中`CoordPair`对象指定起始，终止或中心点。坐标点也可以是 (x, y) 网格点或是经纬度坐标点。    \n",
    "    \n",
    "当使用经纬度坐标时，需要提供 `netCDF`文件对象或是`wrf.WrfProj`对象。    \n",
    "    \n",
    "**垂直层可以通过 levels 参数指定**。"
   ]
  },
  {
   "cell_type": "markdown",
   "metadata": {
    "id": "AE821D515138447C92354C62A4123F24",
    "jupyter": {},
    "notebookId": "6490bab2c4655e152a628c39",
    "runtime": {
     "execution_status": null,
     "status": "default"
    },
    "slideshow": {
     "slide_type": "slide"
    },
    "tags": []
   },
   "source": [
    "#### 使用网格点坐标"
   ]
  },
  {
   "cell_type": "code",
   "execution_count": null,
   "metadata": {
    "collapsed": false,
    "id": "28967D92547143D2868633ABFA95A0EF",
    "jupyter": {
     "outputs_hidden": false
    },
    "notebookId": "6490bab2c4655e152a628c39",
    "slideshow": {
     "slide_type": "slide"
    },
    "tags": []
   },
   "outputs": [],
   "source": [
    "# 根于网格坐标定义起点和终点坐标\n",
    "start_point = CoordPair(x=0, y=(z.shape[-2]-1)//2)\n",
    "end_point = CoordPair(x=-1, y=(z.shape[-2]-1)//2)\n",
    "\n",
    "# 计算垂直剖面\n",
    "# 通过设置 latlon = True，将沿着剖面线计算经纬度坐标 \n",
    "# 并且添加经纬度坐标到 xy_loc 元数据，从而帮助绘图\n",
    "p_vert = vertcross(p, z, start_point=start_point, end_point=end_point, latlon=True)\n",
    "p_vert"
   ]
  },
  {
   "cell_type": "markdown",
   "metadata": {
    "id": "780167060E7047859998898AC32EA5E6",
    "jupyter": {},
    "notebookId": "6490bab2c4655e152a628c39",
    "runtime": {
     "execution_status": null,
     "status": "default"
    },
    "slideshow": {
     "slide_type": "slide"
    },
    "tags": []
   },
   "source": [
    "#### 使用中心点和角度"
   ]
  },
  {
   "cell_type": "code",
   "execution_count": null,
   "metadata": {
    "collapsed": false,
    "id": "83EC4E95064A4A89886B2C2806A59E20",
    "jupyter": {
     "outputs_hidden": false
    },
    "notebookId": "6490bab2c4655e152a628c39",
    "slideshow": {
     "slide_type": "slide"
    },
    "tags": []
   },
   "outputs": [],
   "source": [
    "# 在网格坐标中定义中心点和角度, 中心点在网格的中心\n",
    "pivot_point = CoordPair(x=(z.shape[-1]-1)//2, y=(z.shape[-2]-1)//2)\n",
    "angle = 90.0\n",
    "\n",
    "p_vert = vertcross(p, z, pivot_point=pivot_point, angle=angle, latlon=True)\n",
    "p_vert"
   ]
  },
  {
   "cell_type": "markdown",
   "metadata": {
    "id": "F7ED5EB52F1C48EF9C3B0D3EAFC2B88A",
    "jupyter": {},
    "notebookId": "6490bab2c4655e152a628c39",
    "runtime": {
     "execution_status": null,
     "status": "default"
    },
    "slideshow": {
     "slide_type": "slide"
    },
    "tags": []
   },
   "source": [
    "#### 使用经纬度坐标"
   ]
  },
  {
   "cell_type": "code",
   "execution_count": null,
   "metadata": {
    "collapsed": false,
    "id": "ECACCC55447E4B758DBB9202662EA101",
    "jupyter": {
     "outputs_hidden": false
    },
    "notebookId": "6490bab2c4655e152a628c39",
    "slideshow": {
     "slide_type": "slide"
    },
    "tags": []
   },
   "outputs": [],
   "source": [
    "# 获取 WRF 模拟的经纬度\n",
    "lats = getvar(wrf_file, 'lat')\n",
    "lons = getvar(wrf_file, 'lon')\n",
    "\n",
    "# 使用相同的水平线，但是分别为纬度和经度\n",
    "start_lat = lats[(lats.shape[-2]-1)//2, 0]\n",
    "end_lat = lats[(lats.shape[-2]-1)//2, -1]\n",
    "start_lon = lons[(lats.shape[-2]-1)//2, 0]\n",
    "end_lon = lons[(lats.shape[-2]-1)//2, -1]\n",
    "\n",
    "# 创建剖面线\n",
    "start_point = CoordPair(lat=start_lat, lon=start_lon)\n",
    "end_point = CoordPair(lat=end_lat, lon=end_lon)\n",
    "\n",
    "# 使用经纬度坐标时，必须提供netcdf文件对象或投影对象\n",
    "p_vert = vertcross(p, z, wrfin=wrf_file, start_point=start_point, end_point=end_point, latlon=True)\n",
    "p_vert"
   ]
  },
  {
   "cell_type": "markdown",
   "metadata": {
    "id": "CB33E563442947F183CB416E99686F79",
    "jupyter": {},
    "notebookId": "6490bab2c4655e152a628c39",
    "runtime": {
     "execution_status": null,
     "status": "default"
    },
    "slideshow": {
     "slide_type": "slide"
    },
    "tags": []
   },
   "source": [
    "#### 指定垂直层"
   ]
  },
  {
   "cell_type": "code",
   "execution_count": null,
   "metadata": {
    "collapsed": false,
    "id": "CF947E3202104BE7A8B4814FE95CD70B",
    "jupyter": {
     "outputs_hidden": false
    },
    "notebookId": "6490bab2c4655e152a628c39",
    "slideshow": {
     "slide_type": "slide"
    },
    "tags": []
   },
   "outputs": [],
   "source": [
    "# 指定垂直层（单位为m）\n",
    "levels = [500, 1000, 1500, 2000, 3000]\n",
    "\n",
    "# 获取不同高度的气压值\n",
    "p_vert = vertcross(p, z, wrfin=wrf_file, levels=levels, start_point=start_point, end_point=end_point, latlon=True)\n",
    "p_vert"
   ]
  },
  {
   "cell_type": "markdown",
   "metadata": {
    "id": "540ED437A20941949A30FE83912B99A5",
    "jupyter": {},
    "notebookId": "6490bab2c4655e152a628c39",
    "runtime": {
     "execution_status": null,
     "status": "default"
    },
    "slideshow": {
     "slide_type": "slide"
    },
    "tags": []
   },
   "source": [
    "**下垫面插值是将气象模式数据插值到地面层的过程**，本质上也是垂直插值的一种。因为气象模式数据通常是以**垂直层次（pressure levels）** 输出，而地面气象观测数据是在地面测量得到的，两者之间存在高度差和温度、湿度等物理量的变化。"
   ]
  },
  {
   "cell_type": "markdown",
   "metadata": {
    "id": "7F49330FB91A4AAD9580E46959374261",
    "jupyter": {},
    "notebookId": "6490bab2c4655e152a628c39",
    "runtime": {
     "execution_status": null,
     "status": "default"
    },
    "slideshow": {
     "slide_type": "slide"
    },
    "tags": []
   },
   "source": [
    "### 3. 三维插值"
   ]
  },
  {
   "cell_type": "markdown",
   "metadata": {
    "id": "25790A091FAB4553ABA78A6D9067BD60",
    "jupyter": {},
    "notebookId": "6490bab2c4655e152a628c39",
    "runtime": {
     "execution_status": null,
     "status": "default"
    },
    "slideshow": {
     "slide_type": "slide"
    },
    "tags": []
   },
   "source": [
    "利用wrf-python中的`vinterp`函数可以对**经度、纬度和高度**三个维度同时进行插值。"
   ]
  },
  {
   "cell_type": "code",
   "execution_count": null,
   "metadata": {
    "collapsed": false,
    "id": "8421EBE7DF0A40E3BC85647C847DE694",
    "jupyter": {
     "outputs_hidden": false
    },
    "notebookId": "6490bab2c4655e152a628c39",
    "slideshow": {
     "slide_type": "slide"
    },
    "tags": []
   },
   "outputs": [],
   "source": [
    "from wrf import getvar, vinterp\n",
    "\n",
    "tk = getvar(wrf_file, \"tk\")\n",
    "# 插值 tk 到 theta-e 层\n",
    "interp_levels = [200, 300, 500, 1000]\n",
    "\n",
    "interp_field = vinterp(wrf_file,\n",
    "                       field=tk,\n",
    "                       vert_coord=\"eth\",\n",
    "                       interp_levels=interp_levels,\n",
    "                       extrapolate=True,\n",
    "                       field_type=\"tk\",\n",
    "                       log_p=True)\n",
    "interp_field"
   ]
  },
  {
   "cell_type": "markdown",
   "metadata": {
    "id": "9C83A2CBFBE34327BBEA31115161DECC",
    "jupyter": {},
    "notebookId": "6490bab2c4655e152a628c39",
    "runtime": {
     "execution_status": null,
     "status": "default"
    },
    "slideshow": {
     "slide_type": "slide"
    },
    "tags": []
   },
   "source": [
    "### 4. 二维到一维插值"
   ]
  },
  {
   "cell_type": "markdown",
   "metadata": {
    "id": "3F47CB76A18947C5B3301145E1B3B78B",
    "jupyter": {},
    "notebookId": "6490bab2c4655e152a628c39",
    "runtime": {
     "execution_status": null,
     "status": "default"
    },
    "slideshow": {
     "slide_type": "slide"
    },
    "tags": []
   },
   "source": [
    "使用`wrf.interpline`函数可以沿着一条线对2D场进行插值，这类似3D场的垂直剖面插值。为了定义插值的线，可以是线的起始和终止点。当然，也可以提供中心点和角度来进行剖面。可以使用`wrf.CoordPair`对象指定起始，终止或中心点。坐标点也可以是 (x, y) 网格点或是经纬度坐标点。当使用经纬度坐标时，需要提供netCDF文件对象或是`wrf.WrfProj`对象。"
   ]
  },
  {
   "cell_type": "markdown",
   "metadata": {
    "id": "79B4E9C0747D4CA0AADD19217DBD970B",
    "jupyter": {},
    "notebookId": "6490bab2c4655e152a628c39",
    "runtime": {
     "execution_status": null,
     "status": "default"
    },
    "slideshow": {
     "slide_type": "slide"
    },
    "tags": []
   },
   "source": [
    "#### 使用网格点坐标"
   ]
  },
  {
   "cell_type": "code",
   "execution_count": null,
   "metadata": {
    "collapsed": false,
    "id": "934A366D4A054AB2814DCABFD4132CB9",
    "jupyter": {
     "outputs_hidden": false
    },
    "notebookId": "6490bab2c4655e152a628c39",
    "slideshow": {
     "slide_type": "slide"
    },
    "tags": []
   },
   "outputs": [],
   "source": [
    "from wrf import interpline\n",
    "\n",
    "# 获取 2m 温度\n",
    "t2 = getvar(wrf_file, 'T2')\n",
    "\n",
    "# 使用起始和终止点在区域中心创建南北线\n",
    "start_point = CoordPair(x=(t2.shape[-1]-1)//2, y=0)\n",
    "end_point = CoordPair(x=(t2.shape[-1]-1)//2, y=-1)\n",
    "\n",
    "# 通过设置 latlon = True，将沿着线计算经纬度坐标 \n",
    "# 并且添加经纬度坐标到 xy_loc 元数据，从而帮助绘图\n",
    "t2_line = interpline(t2, start_point=start_point, end_point=end_point, latlon=True)\n",
    "t2_line"
   ]
  },
  {
   "cell_type": "markdown",
   "metadata": {
    "id": "6F7330FB7BD34C019E4D3D2400AEE17E",
    "jupyter": {},
    "notebookId": "6490bab2c4655e152a628c39",
    "runtime": {
     "execution_status": null,
     "status": "default"
    },
    "slideshow": {
     "slide_type": "slide"
    },
    "tags": []
   },
   "source": [
    "#### 使用中心点和角度"
   ]
  },
  {
   "cell_type": "code",
   "execution_count": null,
   "metadata": {
    "collapsed": false,
    "id": "4FF5D95435054E7590FE353C0BF4A212",
    "jupyter": {
     "outputs_hidden": false
    },
    "notebookId": "6490bab2c4655e152a628c39",
    "slideshow": {
     "slide_type": "slide"
    },
    "tags": []
   },
   "outputs": [],
   "source": [
    "# 使用中心点和角度创建南北线\n",
    "pivot_point = CoordPair((t2.shape[-1]-1)//2, (t2.shape[-2]-1)//2)\n",
    "angle = 0.0\n",
    "\n",
    "t2_line = interpline(t2, pivot_point=pivot_point, angle=angle, latlon=True)\n",
    "t2_line"
   ]
  },
  {
   "cell_type": "markdown",
   "metadata": {
    "id": "BBBCD9F48EA34B588ADA9D9658EBD998",
    "jupyter": {},
    "notebookId": "6490bab2c4655e152a628c39",
    "runtime": {
     "execution_status": null,
     "status": "default"
    },
    "slideshow": {
     "slide_type": "slide"
    },
    "tags": []
   },
   "source": [
    "### 5. 非规则网格到规则网格插值"
   ]
  },
  {
   "cell_type": "markdown",
   "metadata": {
    "id": "819FE672422C4FF88666BF8454BD262C",
    "jupyter": {},
    "notebookId": "6490bab2c4655e152a628c39",
    "runtime": {
     "execution_status": null,
     "status": "default"
    },
    "slideshow": {
     "slide_type": "slide"
    },
    "tags": []
   },
   "source": [
    "由于 WRF 模式模拟时的投影设置不一定是规则网格，例如基于兰伯特投影的 WRF 模拟需要进行重采样，以实现非规则网格到规则网格插值。"
   ]
  },
  {
   "cell_type": "code",
   "execution_count": null,
   "metadata": {
    "collapsed": false,
    "id": "25A97A301D9C4A688D585203FBF1FE58",
    "jupyter": {
     "outputs_hidden": false
    },
    "notebookId": "6490bab2c4655e152a628c39",
    "slideshow": {
     "slide_type": "slide"
    },
    "tags": []
   },
   "outputs": [],
   "source": [
    "# 设置输出的网格属性（可以根据需求自行设置分辨率）\n",
    "ds_out = xr.Dataset({\"lat\": (\"lat\", np.arange(22, 32+0.025, 0.025)),\n",
    "                     \"lon\": (\"lon\", np.arange(117, 129+0.025, 0.025))})\n",
    "ds_out"
   ]
  },
  {
   "cell_type": "code",
   "execution_count": null,
   "metadata": {
    "collapsed": false,
    "id": "E03975F9B71B4531BE2374CCF18113F6",
    "jupyter": {
     "outputs_hidden": false
    },
    "notebookId": "6490bab2c4655e152a628c39",
    "slideshow": {
     "slide_type": "slide"
    },
    "tags": []
   },
   "outputs": [],
   "source": [
    "# 用 salem 读取 WRF 模拟数据\n",
    "ds_in = salem.open_wrf_dataset(wrfout_path + 'wrfout_d01_2019-08-09_06_00_00')\n",
    "\n",
    "# 使用双线性方法执行重插值\n",
    "regridder = xe.Regridder(ds_in=ds_in, ds_out=ds_out, method='bilinear')\n",
    "regridder"
   ]
  },
  {
   "cell_type": "code",
   "execution_count": null,
   "metadata": {
    "collapsed": false,
    "id": "5FE13FFE7BDE493489DAF3477DFA91DC",
    "jupyter": {
     "outputs_hidden": false
    },
    "notebookId": "6490bab2c4655e152a628c39",
    "slideshow": {
     "slide_type": "slide"
    },
    "tags": []
   },
   "outputs": [],
   "source": [
    "# 得到2m温度变量（T2）的重插值结果\n",
    "t2_grids = regridder(ds_in.T2.isel(time=0))\n",
    "t2_grids"
   ]
  },
  {
   "cell_type": "code",
   "execution_count": null,
   "metadata": {
    "collapsed": false,
    "id": "F2B8E72FD0734C0298ED9CED2F06AA47",
    "jupyter": {
     "outputs_hidden": false
    },
    "notebookId": "6490bab2c4655e152a628c39",
    "slideshow": {
     "slide_type": "slide"
    },
    "tags": []
   },
   "outputs": [],
   "source": [
    "# 绘制2m温度变量（T2）的重插值结果\n",
    "# 此时经纬度能够直接显示出来\n",
    "t2_grids.plot(figsize=(10,6))"
   ]
  },
  {
   "cell_type": "markdown",
   "metadata": {
    "id": "33DC29B6051F4F86B41DDBE888895AA8",
    "jupyter": {},
    "notebookId": "6490bab2c4655e152a628c39",
    "runtime": {
     "execution_status": null,
     "status": "default"
    },
    "slideshow": {
     "slide_type": "slide"
    },
    "tags": []
   },
   "source": [
    "## 三、站点与格点位置的转换"
   ]
  },
  {
   "cell_type": "markdown",
   "metadata": {
    "id": "B99DF755E5D64C9D8FD00EFF461981C7",
    "jupyter": {},
    "notebookId": "6490bab2c4655e152a628c39",
    "runtime": {
     "execution_status": null,
     "status": "default"
    },
    "slideshow": {
     "slide_type": "slide"
    },
    "tags": []
   },
   "source": [
    "\n",
    "**WRF模拟的经纬度数据与格点位置数组是分开存储的，两者之间进行相互转换，可以为我们实现从格点中提取站点模拟值的功能。**  \n",
    "\n",
    "根据站点位置得到格点位置：`wrf.ll_to_xy`   （输入为经纬度、输出为格点位置）  \n",
    "\n",
    "根据格点位置得到站点位置：`wrf.xy_to_ll`    （输入为格点位置、输出为经纬度）  \n",
    "\n",
    "**注意：站点与格点位置转换本身并不涉及插值！！所以我们提取到站点模拟值就是原始格点模拟值。**"
   ]
  },
  {
   "cell_type": "markdown",
   "metadata": {
    "id": "0F7075E7E34E476D9667928C0BF2AE08",
    "jupyter": {},
    "notebookId": "6490bab2c4655e152a628c39",
    "runtime": {
     "execution_status": null,
     "status": "default"
    },
    "slideshow": {
     "slide_type": "slide"
    },
    "tags": []
   },
   "source": [
    "### 1. 根据站点位置得到格点位置"
   ]
  },
  {
   "cell_type": "code",
   "execution_count": null,
   "metadata": {
    "collapsed": false,
    "id": "098C5993468C4EB08B827BC6BFF14F84",
    "jupyter": {
     "outputs_hidden": false
    },
    "notebookId": "6490bab2c4655e152a628c39",
    "slideshow": {
     "slide_type": "slide"
    },
    "tags": []
   },
   "outputs": [],
   "source": [
    "# 得到纬度为25°N，经度为120°E所在WRF模拟的格点位置\n",
    "ll_to_xy(wrf_file, 25, 120)"
   ]
  },
  {
   "cell_type": "markdown",
   "metadata": {
    "id": "AD76499489DB438E8BFFA31A98BECEB7",
    "jupyter": {},
    "notebookId": "6490bab2c4655e152a628c39",
    "runtime": {
     "execution_status": null,
     "status": "default"
    },
    "slideshow": {
     "slide_type": "slide"
    },
    "tags": []
   },
   "source": [
    "### 2. 根据格点位置得到站点位置"
   ]
  },
  {
   "cell_type": "code",
   "execution_count": null,
   "metadata": {
    "collapsed": false,
    "id": "587AECC06510436FAEC477F721EB432C",
    "jupyter": {
     "outputs_hidden": false
    },
    "notebookId": "6490bab2c4655e152a628c39",
    "slideshow": {
     "slide_type": "slide"
    },
    "tags": []
   },
   "outputs": [],
   "source": [
    "# 获取海平面气压最低值所在的格点位置\n",
    "slp = getvar(wrf_file, 'slp')\n",
    "loc = np.where(np.array(slp == slp.min()) == True)\n",
    "loc"
   ]
  },
  {
   "cell_type": "code",
   "execution_count": null,
   "metadata": {
    "collapsed": false,
    "id": "8D870128F8AE4FA89D384AAB08007AF9",
    "jupyter": {
     "outputs_hidden": false
    },
    "notebookId": "6490bab2c4655e152a628c39",
    "slideshow": {
     "slide_type": "slide"
    },
    "tags": []
   },
   "outputs": [],
   "source": [
    "# 根据格点位置得到该点的经纬度信息\n",
    "xy_to_ll(wrf_file, 221, 203)"
   ]
  },
  {
   "cell_type": "markdown",
   "metadata": {
    "id": "8D7DDD5DB1384A9AAB9F203F309656BA",
    "jupyter": {},
    "notebookId": "6490bab2c4655e152a628c39",
    "runtime": {
     "execution_status": null,
     "status": "default"
    },
    "slideshow": {
     "slide_type": "slide"
    },
    "tags": []
   },
   "source": [
    "这样我们就知道海平面气压最低值的经纬度数据啦，位于26.58969234°N, 122.93884283°E，也就是台风中心位置。"
   ]
  },
  {
   "cell_type": "markdown",
   "metadata": {
    "id": "CB820F97456B4A14952EC4EC96FE4DA6",
    "jupyter": {},
    "notebookId": "6490bab2c4655e152a628c39",
    "runtime": {
     "execution_status": null,
     "status": "default"
    },
    "slideshow": {
     "slide_type": "slide"
    },
    "tags": []
   },
   "source": [
    "恭喜你完成了WRF后处理训练营第五关的学习材料，虽然本关卡内容涉及较多、技术性较强，但本质都是围绕**格点与格点、格点与站点**之间的转换进行的，为了让数据维度更符合我们业务和研究的需要。"
   ]
  },
  {
   "cell_type": "markdown",
   "metadata": {
    "id": "FF5523CD00D649F4953150EED235F558",
    "jupyter": {},
    "notebookId": "6490bab2c4655e152a628c39",
    "runtime": {
     "execution_status": null,
     "status": "default"
    },
    "slideshow": {
     "slide_type": "slide"
    },
    "tags": []
   },
   "source": [
    "## 闯关题  \n",
    "\n",
    "### STEP1：根据要求完成题目：  \n"
   ]
  },
  {
   "cell_type": "markdown",
   "metadata": {
    "id": "7A3DAC7C96094D378285E16BF485A1E0",
    "jupyter": {},
    "notebookId": "6490bab2c4655e152a628c39",
    "runtime": {
     "execution_status": null,
     "status": "default"
    },
    "slideshow": {
     "slide_type": "slide"
    },
    "tags": []
   },
   "source": [
    "基于`wrfout_d01_2019-08-09_06_00_00`模拟数据，  \n",
    "\n",
    "1. 将海平面气压分别重插值到0.01°和0.1°分辨率，比较插值后与原始的海平面最低气压（slp_min）的变化，单位为Pa进行取整后比较  \n",
    "A. 0.01°分辨率：slp_min**变高**；0.1°分辨率：slp_min**变高**  \n",
    "B. 0.01°分辨率：slp_min**变低**；0.1°分辨率：slp_min**变低**  \n",
    "C. 0.01°分辨率：slp_min**不变**；0.1°分辨率：slp_min**变高**  \n",
    "D. 0.01°分辨率：slp_min**变高**；0.1°分辨率：slp_min**不变**  \n",
    "\n",
    "2. 热带气旋利奇马中心（海平面气压最低值）所在位置的500hPa相对湿度是多少？（使用int函数取整，单位为%）   \n",
    "提示：在确定热带气旋中心点时，south_north 对应 Y 表示 lat，west_east 对应 X 表示 lon  \n",
    "\n",
    "3.  上海（121°E，31°N）所在的WRF格点位置的索引值是多少？（分别为west_east东西向索引值和south_north南北向索引值）  \n"
   ]
  },
  {
   "cell_type": "code",
   "execution_count": null,
   "metadata": {
    "collapsed": false,
    "id": "17F6BB661C914D2D88AB66677550805D",
    "jupyter": {
     "outputs_hidden": false
    },
    "notebookId": "6490bab2c4655e152a628c39",
    "slideshow": {
     "slide_type": "slide"
    },
    "tags": []
   },
   "outputs": [],
   "source": [
    "# 填入你的答案\n",
    "answer_1 = ''\n",
    "answer_2 = '' \n",
    "answer_3 = '' # 用数值表示索引，例如'100,100'"
   ]
  },
  {
   "cell_type": "markdown",
   "metadata": {
    "id": "7E9A1834F75F4408A4C869E3EBDF3957",
    "jupyter": {},
    "notebookId": "6490bab2c4655e152a628c39",
    "runtime": {
     "execution_status": null,
     "status": "default"
    },
    "slideshow": {
     "slide_type": "slide"
    },
    "tags": []
   },
   "source": [
    "## ⚡ 下一关预告：  \n",
    "\n",
    "下一关我们将介绍如何绘制 WRF 模拟的天气图，让你的 WRF 模拟分析能力更上一层楼~~"
   ]
  }
 ],
 "metadata": {
  "kernelspec": {
   "display_name": "Python 3 (ipykernel)",
   "language": "python",
   "name": "python3"
  },
  "language_info": {
   "codemirror_mode": {
    "name": "ipython",
    "version": 3
   },
   "file_extension": ".py",
   "mimetype": "text/x-python",
   "name": "python",
   "nbconvert_exporter": "python",
   "pygments_lexer": "ipython3",
   "version": "3.10.10"
  }
 },
 "nbformat": 4,
 "nbformat_minor": 4
}
