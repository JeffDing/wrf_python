{
 "cells": [
  {
   "cell_type": "markdown",
   "metadata": {
    "id": "3283DFDF51874F6895A9B03D524B912E",
    "jupyter": {},
    "notebookId": "64910572bf6a19bd4ca09853",
    "runtime": {
     "execution_status": null,
     "status": "default"
    },
    "slideshow": {
     "slide_type": "slide"
    },
    "tags": []
   },
   "source": [
    "\n",
    "![ImageName](pic/title.jpg)  \n",
    "\n",
    "**作者：[lqy](https://www.heywhale.com/home/user/profile/5f27fd9633e1be002cc65a1d)** 华东师范大学气象学研究生、和鲸社区气象数据科学频道版主"
   ]
  },
  {
   "cell_type": "markdown",
   "metadata": {
    "id": "717029D07E734F87A30AFE384EEA9E03",
    "jupyter": {},
    "notebookId": "64910572bf6a19bd4ca09853",
    "runtime": {
     "execution_status": null,
     "status": "default"
    },
    "slideshow": {
     "slide_type": "slide"
    },
    "tags": []
   },
   "source": [
    "🐋：本项目来自和鲸社区《[气象训练营⑦：WRF模式后处理](https://www.heywhale.com/home/competition/64478fec113e81a18dc70cd1)》活动，所有教案代码都可以一键跑通，你可以 fork 后在线在线运行、调试学习、完成作业练习。  \n",
    "\n",
    "学习过程中如果你遇到任何问题，欢迎使用搜索引擎，或在 [讨论区](https://www.heywhale.com/home/competition/forumlist/64478fec113e81a18dc70cd1) 中发帖提出，我们很乐意为你提供帮助。"
   ]
  },
  {
   "cell_type": "markdown",
   "metadata": {
    "id": "0E750719A8BD4C1C9D9EC1D69F03B922",
    "jupyter": {},
    "notebookId": "64910572bf6a19bd4ca09853",
    "runtime": {
     "execution_status": null,
     "status": "default"
    },
    "slideshow": {
     "slide_type": "slide"
    },
    "tags": []
   },
   "source": [
    "      \n",
    "# 通关题：评估台风路径和强度的模拟  \n",
    "### STEP1：根据要求完成题目：  "
   ]
  },
  {
   "cell_type": "markdown",
   "metadata": {
    "id": "7BA51DC787C64D9F93F211415C97ED91",
    "jupyter": {},
    "notebookId": "64910572bf6a19bd4ca09853",
    "runtime": {
     "execution_status": null,
     "status": "default"
    },
    "slideshow": {
     "slide_type": "slide"
    },
    "tags": []
   },
   "source": [
    "\n",
    "\n",
    "在最后的闯关题，我们通过 WRF 模式对台风的模拟评估来检验大家的学习情况：  \n",
    "\n",
    "1. 对**台风路径**模拟进行评估  \n",
    "\n",
    "2. 对**台风强度**模拟进行评估  \n",
    "\n",
    "\n",
    "\n",
    "**关键步骤解析：**  \n",
    "1. 计算WRF模拟的逐小时的海平面气压最低值，确定台风利奇马中心位置（经度和纬度）  \n",
    "\n",
    "2. 根据WRF模拟的台风利奇马中心位置，寻找近中心的10m风速最大值  \n",
    "\n",
    "3. 计算逐小时WRF模拟的台风中心与观测的台风中心的距离，并通过平均绝对值误差（MAE）评估台风路径  \n",
    "\n",
    "4. 计算逐小时WRF模拟的10m风速最大值，并通过均方根误差（RMSE）评估台风强度  "
   ]
  },
  {
   "cell_type": "markdown",
   "metadata": {
    "id": "33747114D94C43C3A6ACD625BB555F9A",
    "jupyter": {},
    "notebookId": "64910572bf6a19bd4ca09853",
    "runtime": {
     "execution_status": null,
     "status": "default"
    },
    "slideshow": {
     "slide_type": "slide"
    },
    "tags": []
   },
   "source": [
    "### 模拟数据与观测数据"
   ]
  },
  {
   "cell_type": "markdown",
   "metadata": {
    "id": "A789D3E60C12424E9B8384184F0079B5",
    "jupyter": {},
    "notebookId": "64910572bf6a19bd4ca09853",
    "runtime": {
     "execution_status": null,
     "status": "default"
    },
    "slideshow": {
     "slide_type": "slide"
    },
    "tags": []
   },
   "source": [
    "时间范围：2019年8月8日18时-8月10日18时（UTC）  \n",
    "\n",
    "模拟数据：海平面气压和10m经向风和纬向风数据，逐小时数据  \n",
    "\n",
    "观测数据：来自[中央气象台台风网](http://typhoon.nmc.cn/web.html)，如下图所示，我们可以得到每一个轨迹点的时间、经纬度、最大风速和最低气压信息。  \n",
    "\n",
    "\n",
    "\n"
   ]
  },
  {
   "cell_type": "markdown",
   "metadata": {
    "id": "FE1517E7CE7542BD94BF943D254D8CF7",
    "jupyter": {},
    "notebookId": "64910572bf6a19bd4ca09853",
    "runtime": {
     "execution_status": null,
     "status": "default"
    },
    "slideshow": {
     "slide_type": "slide"
    },
    "tags": []
   },
   "source": [
    "    \n",
    "![Image Name](pic/tfw.png)"
   ]
  },
  {
   "cell_type": "code",
   "execution_count": null,
   "metadata": {
    "collapsed": false,
    "id": "47842C5A30E44B469558535F187C5C35",
    "jupyter": {
     "outputs_hidden": false
    },
    "notebookId": "64910572bf6a19bd4ca09853",
    "slideshow": {
     "slide_type": "slide"
    },
    "tags": []
   },
   "outputs": [],
   "source": [
    "# 上述观测数据已经挂在至数据集，可以直接使用\n",
    "# 注意：观测资料中的time就是北京时间\n",
    "import pandas as pd\n",
    "\n",
    "obs_tc = pd.read_csv('./datset/liqima/obs/obs_tc.csv')\n",
    "obs_tc"
   ]
  },
  {
   "cell_type": "markdown",
   "metadata": {
    "id": "ABAC5F7FF3FE4596A0EB8D45C1C2DF00",
    "jupyter": {},
    "notebookId": "64910572bf6a19bd4ca09853",
    "runtime": {
     "execution_status": null,
     "status": "default"
    },
    "slideshow": {
     "slide_type": "slide"
    },
    "tags": []
   },
   "source": [
    "### 如何计算两点距离"
   ]
  },
  {
   "cell_type": "markdown",
   "metadata": {
    "id": "3DF94578D671427CAC99564FAE4560AE",
    "jupyter": {},
    "notebookId": "64910572bf6a19bd4ca09853",
    "runtime": {
     "execution_status": null,
     "status": "default"
    },
    "slideshow": {
     "slide_type": "slide"
    },
    "tags": []
   },
   "source": [
    "为了进行台风路径模拟评估，首先需要计算同一时刻下模拟的台风中心位置与观测的台风中心位置的距离。  \n",
    "\n",
    "我们可以利用geopy模块，根据两点的经纬度计算两点之间的距离。"
   ]
  },
  {
   "cell_type": "code",
   "execution_count": null,
   "metadata": {
    "collapsed": false,
    "id": "4FA8BD1BC80547C7AE2063AE8A766F40",
    "jupyter": {
     "outputs_hidden": false
    },
    "notebookId": "64910572bf6a19bd4ca09853",
    "slideshow": {
     "slide_type": "slide"
    },
    "tags": []
   },
   "outputs": [],
   "source": [
    "!pip install geopy==2.3.0\n",
    "\n",
    "from geopy.distance import geodesic\n",
    "\n",
    "# 输入A点和B点坐标，格式为(lat, lon)\n",
    "A = (41.49008, -71.312796)\n",
    "B = (41.499498, -81.695391)\n",
    "\n",
    "# 计算A点和B点距离\n",
    "geodesic(A, B).km"
   ]
  },
  {
   "cell_type": "markdown",
   "metadata": {
    "id": "45E299E0BBF747D8B9D6530EDF49AE83",
    "jupyter": {},
    "notebookId": "64910572bf6a19bd4ca09853",
    "runtime": {
     "execution_status": null,
     "status": "default"
    },
    "slideshow": {
     "slide_type": "slide"
    },
    "tags": []
   },
   "source": [
    "## Q1：评估台风路径模拟"
   ]
  },
  {
   "cell_type": "markdown",
   "metadata": {
    "id": "0492817D09A24FD68CFD44F1D020581A",
    "jupyter": {},
    "notebookId": "64910572bf6a19bd4ca09853",
    "runtime": {
     "execution_status": null,
     "status": "default"
    },
    "slideshow": {
     "slide_type": "slide"
    },
    "tags": []
   },
   "source": [
    "用观测和模拟的台风中心距离来表征台风路径误差。  \n",
    "**提示：由于 WRF 模拟是逐小时，观测数据是逐3小时，所以评估的时候需要基于观测数据时间进行匹配。**  \n",
    "\n",
    "**模拟评估指标：**  \n",
    "平均绝对值误差计算公式为：  \n",
    "$$  \n",
    "\\text { MAE }={\\frac{1}{m} \\sum_{i=1}^m\\left(y_i-\\hat{y}_i\\right)}  \n",
    "$$  \n",
    "\n",
    "其中，模拟值: $\\hat{\\mathbf{y}}=\\left\\{\\hat{y}_1, \\hat{y_2}, \\ldots, \\hat{y_n}\\right\\}$   ,   观测值: $\\mathbf{y}=\\left\\{y_1, y_2, \\ldots, y_n\\right\\}$  \n"
   ]
  },
  {
   "cell_type": "code",
   "execution_count": null,
   "metadata": {
    "collapsed": false,
    "id": "E2FEAEE8761148F5B81C4B845286DB04",
    "jupyter": {
     "outputs_hidden": false
    },
    "notebookId": "64910572bf6a19bd4ca09853",
    "slideshow": {
     "slide_type": "slide"
    },
    "tags": []
   },
   "outputs": [],
   "source": [
    "### 可能需要用到的模块\n",
    "import numpy as np\n",
    "import pandas as pd\n",
    "from geopy.distance import geodesic\n",
    "import matplotlib.pyplot as plt\n",
    "from netCDF4 import Dataset\n",
    "import xarray as xr\n",
    "import salem\n",
    "from wrf import getvar\n",
    "from wrf.g_wind import get_destag_wspd_wdir10\n",
    "from sklearn.metrics import mean_squared_error\n",
    "from glob import glob\n",
    "\n",
    "\n",
    "wrf_path = './dataset/liqima/sim/'\n",
    "file_list = sorted(glob(wrf_path+'wrfout*'))\n",
    "\n",
    "### （你的代码）###\n",
    "\n",
    "\n",
    "\n",
    "# 用int取整，单位为km，只需填写数值即可\n",
    "answer_1 = ''"
   ]
  },
  {
   "cell_type": "markdown",
   "metadata": {
    "id": "7E588FE01D5542C59F10A6FBCE35A718",
    "jupyter": {},
    "notebookId": "64910572bf6a19bd4ca09853",
    "runtime": {
     "execution_status": null,
     "status": "default"
    },
    "slideshow": {
     "slide_type": "slide"
    },
    "tags": []
   },
   "source": [
    "## Q2：评估台风强度模拟"
   ]
  },
  {
   "cell_type": "markdown",
   "metadata": {
    "id": "1CDA759C63C740F2BE45CCA16475EC29",
    "jupyter": {},
    "notebookId": "64910572bf6a19bd4ca09853",
    "runtime": {
     "execution_status": null,
     "status": "default"
    },
    "slideshow": {
     "slide_type": "slide"
    },
    "tags": []
   },
   "source": [
    "用风速来表征台风强度，在 WRF 模式模拟中选用10m的最大风速，并结合观测数据进行评估。  \n",
    "**提示：由于 WRF 模拟是逐小时，观测数据是逐3小时，所以评估的时候需要基于观测数据时间进行匹配。**  \n",
    "\n",
    "\n",
    "**模拟评估指标：**  \n",
    "\n",
    "均方根误差计算公式为：  \n",
    "$$  \n",
    "\\text { RMSE }=\\sqrt{\\frac{1}{m} \\sum_{i=1}^m\\left(y_i-\\hat{y}_i\\right)^2}  \n",
    "$$  \n",
    "\n",
    "其中，模拟值: $\\hat{\\mathbf{y}}=\\left\\{\\hat{y}_1, \\hat{y_2}, \\ldots, \\hat{y_n}\\right\\}$   ,   观测值: $\\mathbf{y}=\\left\\{y_1, y_2, \\ldots, y_n\\right\\}$  "
   ]
  },
  {
   "cell_type": "code",
   "execution_count": null,
   "metadata": {
    "collapsed": false,
    "id": "67A03237BCD246B691AAF43A9CF079CD",
    "jupyter": {
     "outputs_hidden": false
    },
    "notebookId": "64910572bf6a19bd4ca09853",
    "slideshow": {
     "slide_type": "slide"
    },
    "tags": []
   },
   "outputs": [],
   "source": [
    "### （你的代码）###\n",
    "\n",
    "\n",
    "# 四舍五入保留一位小数，只需填写数值即可\n",
    "answer_2 = ''"
   ]
  },
  {
   "cell_type": "markdown",
   "metadata": {
    "id": "BE1E64BFC6D840F4826B5C0B848D3D94",
    "jupyter": {},
    "notebookId": "64910572bf6a19bd4ca09853",
    "runtime": {
     "execution_status": null,
     "status": "default"
    },
    "slideshow": {
     "slide_type": "slide"
    },
    "tags": []
   },
   "source": [
    "## 后记"
   ]
  },
  {
   "cell_type": "markdown",
   "metadata": {
    "id": "63D706C98E204EB89CD2279C8D659DD6",
    "jupyter": {},
    "notebookId": "64910572bf6a19bd4ca09853",
    "runtime": {
     "execution_status": null,
     "status": "default"
    },
    "slideshow": {
     "slide_type": "slide"
    },
    "tags": []
   },
   "source": [
    "恭喜你通关WRF模式后处理训练营~~~ ✿✿ヽ(°▽°)ノ✿  \n",
    "\n",
    "本次训练营以台风利奇马的模拟为例，介绍了WRF模式后处理的基本方法和要点，让我们来回顾一下本期训练营的主要学习内容：  \n",
    "\n",
    "+ 1、了解WRF模式的模拟数据格式，利用**netcdf4、wrf-python、xarray、salem**模块实现文件读取和变量提取等常用需求。  \n",
    "\n",
    "+ 2、对WRF模拟的降雨、风速等关键气象变量进行分析和可视化，并动手制作一张模拟的天气图。  \n",
    "\n",
    "+ 3、基于WRF模拟的直接输出变量基础上，利用后处理工具计算更多的衍生变量。  \n",
    "\n",
    "+ 4、掌握站点和格点之间、格点和格点之间的插值方法，实现非标准网格到标准网格的转换。  \n",
    "\n",
    "+ 5、在平面图的绘制基础上，实现剖面图（截面图）的绘制，让高维数据得到更充分的展示。  \n",
    "\n",
    "大家也可以感受到，模式后处理需要处理大量、高维的气象变量，**利用并行计算方法，能够让你的后处理编程更简洁、更高效。**  \n",
    "\n",
    "此外，模式后处理不仅仅在于数据处理，也需要结合观测资料，去评估和检验模式，**进而分析模式偏差特征和来源，为改进和发展模式提供参考。**  \n",
    "\n",
    "最后，希望大家能更快速地解决业务和科研中面临的问题，**让数值模拟结果得到更充分地应用，在不同学科、不同行业中发挥出更大的价值！！**  \n"
   ]
  }
 ],
 "metadata": {
  "kernelspec": {
   "display_name": "Python 3 (ipykernel)",
   "language": "python",
   "name": "python3"
  },
  "language_info": {
   "codemirror_mode": {
    "name": "ipython",
    "version": 3
   },
   "file_extension": ".py",
   "mimetype": "text/x-python",
   "name": "python",
   "nbconvert_exporter": "python",
   "pygments_lexer": "ipython3",
   "version": "3.10.10"
  }
 },
 "nbformat": 4,
 "nbformat_minor": 4
}
