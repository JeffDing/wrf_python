{
 "cells": [
  {
   "cell_type": "markdown",
   "metadata": {
    "id": "8183C41AA9094FD990E349D7050429B4",
    "jupyter": {},
    "notebookId": "648e09c102479f749d0e44db",
    "runtime": {
     "execution_status": null,
     "status": "default"
    },
    "slideshow": {
     "slide_type": "slide"
    },
    "tags": []
   },
   "source": [
    "\n",
    "![ImageName](pic/title.jpg)  \n",
    "\n",
    "**作者：[lqy](https://www.heywhale.com/home/user/profile/5f27fd9633e1be002cc65a1d)** 华东师范大学气象学研究生、和鲸社区气象数据科学频道版主"
   ]
  },
  {
   "cell_type": "markdown",
   "metadata": {
    "id": "1483C1A63BEB4E039305271B6096B312",
    "jupyter": {},
    "notebookId": "648e09c102479f749d0e44db",
    "runtime": {
     "execution_status": null,
     "status": "default"
    },
    "slideshow": {
     "slide_type": "slide"
    },
    "tags": []
   },
   "source": [
    "🐋：本项目来自和鲸社区《[气象训练营⑦：WRF模式后处理](https://www.heywhale.com/home/competition/64478fec113e81a18dc70cd1)》活动，所有教案代码都可以一键跑通，你可以 fork 后在线在线运行、调试学习、完成作业练习。  \n",
    "\n",
    "学习过程中如果你遇到任何问题，欢迎使用搜索引擎，或在 [讨论区](https://www.heywhale.com/home/competition/forumlist/64478fec113e81a18dc70cd1) 中发帖提出，我们很乐意为你提供帮助。"
   ]
  },
  {
   "cell_type": "markdown",
   "metadata": {
    "id": "011EEE5EC9D348BABF842C8EF48945CF",
    "jupyter": {},
    "notebookId": "648e09c102479f749d0e44db",
    "runtime": {
     "execution_status": null,
     "status": "default"
    },
    "slideshow": {
     "slide_type": "slide"
    },
    "tags": []
   },
   "source": [
    "# 关卡二：绘制 WRF 模拟的降雨量      \n"
   ]
  },
  {
   "cell_type": "markdown",
   "metadata": {
    "id": "0E9BFF4EC7BC47A0AF04F27B5D8128EA",
    "jupyter": {},
    "notebookId": "648e09c102479f749d0e44db",
    "runtime": {
     "execution_status": null,
     "status": "default"
    },
    "slideshow": {
     "slide_type": "slide"
    },
    "tags": []
   },
   "source": [
    "上一关我们学习了 WRF 模拟数据的解析，能够提取模拟变量。那么这一关中，我们主要是**实现降雨量模拟结果的计算和可视化**，看看 WRF 模拟的台风降水结果如何？  \n",
    "\n",
    "在数据处理中，我们特别需要注意变量所表示的**物理含义以及单位**，保证计算结果的正确性。在数据可视化过程中，我们需要注意**投影设置、地图要素添加以及颜色条选取**，让地图信息**更丰富、更直观**。"
   ]
  },
  {
   "cell_type": "markdown",
   "metadata": {
    "id": "E5D99450D1184C569DA296F572AA6FBE",
    "jupyter": {},
    "notebookId": "648e09c102479f749d0e44db",
    "runtime": {
     "execution_status": null,
     "status": "default"
    },
    "slideshow": {
     "slide_type": "slide"
    },
    "tags": []
   },
   "source": [
    "## 一、两个关键指标：降雨量与降雨强度  \n",
    "\n",
    "在 WRF 模拟的众多变量中，降雨量和降雨强度是我们非常关心的变量之一，是体现一次降雨过程的重要指标，也是评价模式模拟结果的关键因素。  \n",
    "\n",
    "我们先来看一下它们的有什么区别：  \n",
    "\n",
    "* 降雨量：一段时间范围的降雨累积值（而不是某个瞬间），单位通常是 mm。  \n",
    "\n",
    "* 降雨强度：一段时间范围的降雨累积值除以时长，单位通常是 mm/h。  \n",
    "\n",
    "由此可见，只要能算出降雨量，就不难得出降雨强度。因此我们这部分的学习重点放在降雨量的计算上。  \n",
    "\n",
    "**请特别注意**：降雨量是表示一段时间段内的降雨，不同于气压、气温、风速等变量（表示某一时刻的状态）。 因此，降雨量的计算需要考虑起始时刻和结束时刻，这也是特别容易出错的地方。"
   ]
  },
  {
   "cell_type": "markdown",
   "metadata": {
    "id": "FA1619E643B6491D9C0B8568FF2044CD",
    "jupyter": {},
    "notebookId": "648e09c102479f749d0e44db",
    "runtime": {
     "execution_status": null,
     "status": "default"
    },
    "slideshow": {
     "slide_type": "slide"
    },
    "tags": []
   },
   "source": [
    "## 二、两种方法计算 WRF 模拟的降雨量  \n",
    "\n",
    "在第一关中，我们使用了**两种不同方法（salem和netcdf）** 来提取 WRF 数据变量。尽管有不同的数据读取方式，但读取的数值理论上是一致的。  \n",
    "\n",
    "本关基于不同数据读取模块，比较其计算 WRF 模拟的降雨量差异，用以验证降雨量计算结果的一致性。  \n",
    "\n",
    "\n",
    "需要注意的是，WRF 模拟的降雨量是由**三部分（深对流降水+浅对流降水+非对流降水）**组成的，这是大家往往忽略的地方。"
   ]
  },
  {
   "cell_type": "markdown",
   "metadata": {
    "id": "C3360178535D434AA30019AC5D10FE4C",
    "jupyter": {},
    "notebookId": "648e09c102479f749d0e44db",
    "runtime": {
     "execution_status": null,
     "status": "default"
    },
    "slideshow": {
     "slide_type": "slide"
    },
    "tags": []
   },
   "source": [
    "### 总降水计算公式  \n",
    "\n",
    "**总降水 = RAINNC + RAINC + RAINSH**。  \n",
    "\n",
    "其中：  \n",
    "- **RAINC（深对流降水）：**ACCUMULATED TOTAL CUMULUS PRECIPITATION。积云深对流过程产生的累积降水量，也就是模式中的积云对流参数化方案导致的降雨 (cu_physics)。对于高分辨率的模拟，比如 dx<5km，通常会将积云对流参数化方案关闭，此时 RAINC 为 0。      \n",
    "      \n",
    "- **RAINSH（浅对流降水）：**ACCUMULATED SHALLOW CUMULUS PRECIPITATION。积云对流参数化方案主要是反映深对流的降水过程，但是一些积云对流参数化方案，能够支持浅对流导致的降水，此时总降水还需要加上 RAINSH。WRF 中支持浅对流的参数化方案 (cu_physics) 有以下几种：KF，SAS，G3，BMJ，Tiedtke。WRF 中也有独立于深对流过程的浅对流方案，通过 namelist 中设置 shcu_physics。一般情况下，浅对流产生的降水量较小。根据物理参数化方案的设置可能为 0。         \n",
    "      \n",
    "- **RAINNC（非对流降水）：**ACCUMULATED TOTAL GRID SCALE PRECIPITATION。此类降雨来源于云微物理参数化方案 (mp_physics)，如大尺度抬升过程产生的凝结等微物理过程降水，也就是非对流产生的降水。     \n",
    "\n",
    "\n",
    "在大气中，**降雨可以分为对流性降雨和非对流性降雨，也可以分为固态降水[^1]和液态降水。**    \n",
    "\n",
    "[^1]: 固态降水例如雪 (SNOWC/SNOWNC)、霰 (GRAUPELC/GRAUPELNC) 等降水，它们是降水的不同相态，已经都包含在 RAINC/RAINNC 中，不需要额外添加。  \n",
    "\n",
    "在了解WRF模拟的降雨量计算公式后，让我们来看看具体怎么实现。  "
   ]
  },
  {
   "cell_type": "markdown",
   "metadata": {
    "id": "9DBCA20F7D71441CA4255289D85463BF",
    "jupyter": {},
    "notebookId": "648e09c102479f749d0e44db",
    "runtime": {
     "execution_status": null,
     "status": "default"
    },
    "slideshow": {
     "slide_type": "slide"
    },
    "tags": []
   },
   "source": [
    "### 方法一：基于 salem 读取 & 计算"
   ]
  },
  {
   "cell_type": "markdown",
   "metadata": {
    "id": "42119D8C643944A19529FB569426A157",
    "jupyter": {},
    "notebookId": "648e09c102479f749d0e44db",
    "runtime": {
     "execution_status": null,
     "status": "default"
    },
    "slideshow": {
     "slide_type": "slide"
    },
    "tags": []
   },
   "source": [
    "首先，尝试用 salem 模块读取 WRF 模拟数据，查看总降水量的三个组成部分的数值，并计算总降水量。"
   ]
  },
  {
   "cell_type": "code",
   "execution_count": null,
   "metadata": {
    "collapsed": false,
    "id": "C2C14AF009AD4927919073C5A78D662A",
    "jupyter": {
     "outputs_hidden": false
    },
    "notebookId": "648e09c102479f749d0e44db",
    "slideshow": {
     "slide_type": "slide"
    },
    "tags": []
   },
   "outputs": [],
   "source": [
    "# WRF数据目录\n",
    "wrfout_path = '/home/mw/input/typhoon9537/'"
   ]
  },
  {
   "cell_type": "markdown",
   "metadata": {
    "id": "7F710C213B90444688A051D46BA6A428",
    "jupyter": {},
    "notebookId": "648e09c102479f749d0e44db",
    "runtime": {
     "execution_status": null,
     "status": "default"
    },
    "slideshow": {
     "slide_type": "slide"
    },
    "tags": []
   },
   "source": [
    "第一次使用 `salem` 需要在 `home` 目录中创建 `.salem_cache` 文件夹，并下载 `salem-sample-data` 的数据包。为了更友好地直接导入 `salem` ，本项目已挂载社区的共享数据集[salem_cache文件集合](https://www.heywhale.com/mw/dataset/64716032b1251d62bfb38aa8/file)，再把该数据集的数据复制到 `/home/mw/.salem_cache/`  内，实现手动下载，避免卡住。"
   ]
  },
  {
   "cell_type": "code",
   "execution_count": null,
   "metadata": {
    "collapsed": false,
    "id": "C5941425F51B400C8D75DB6A5A393A79",
    "jupyter": {
     "outputs_hidden": false
    },
    "notebookId": "648e09c102479f749d0e44db",
    "slideshow": {
     "slide_type": "slide"
    },
    "tags": []
   },
   "outputs": [],
   "source": [
    "import os\n",
    "import os.path\n",
    "\n",
    "if(not os.path.exists('./salem_cache')):\n",
    "    os.mkdir('./salem_cache') # 创建后它隐形的\n",
    "\n",
    "! cp -r /home/mw/input/salem_cache05279422/salem_cache/ /home/mw/.salem_cache/ # 拷贝文件\n",
    "! ls -ll /home/mw/.salem_cache/  # 检查有无成功"
   ]
  },
  {
   "cell_type": "code",
   "execution_count": null,
   "metadata": {
    "collapsed": false,
    "id": "82E0C63BA1DD486893E3DF5ADE539CFD",
    "jupyter": {
     "outputs_hidden": false
    },
    "notebookId": "648e09c102479f749d0e44db",
    "slideshow": {
     "slide_type": "slide"
    },
    "tags": []
   },
   "outputs": [],
   "source": [
    "# 导入模块\n",
    "import salem\n",
    "# 用salem包读取数据\n",
    "ds = salem.open_wrf_dataset(wrfout_path + 'wrfout_d01_2019-08-09_06_00_00')\n",
    "ds"
   ]
  },
  {
   "cell_type": "code",
   "execution_count": null,
   "metadata": {
    "collapsed": false,
    "id": "2B0A43C1EBE447AD93BBF7EE95FA20E7",
    "jupyter": {
     "outputs_hidden": false
    },
    "notebookId": "648e09c102479f749d0e44db",
    "slideshow": {
     "slide_type": "slide"
    },
    "tags": []
   },
   "outputs": [],
   "source": [
    "# 积云深对流过程产生的累积降水量（本案例的模拟积云对流参数化关闭，此处为0）\n",
    "ds.RAINC.plot()"
   ]
  },
  {
   "cell_type": "code",
   "execution_count": null,
   "metadata": {
    "collapsed": false,
    "id": "5FBD5D256257449EB10886EBFB75582F",
    "jupyter": {
     "outputs_hidden": false
    },
    "notebookId": "648e09c102479f749d0e44db",
    "slideshow": {
     "slide_type": "slide"
    },
    "tags": []
   },
   "outputs": [],
   "source": [
    "# 积云浅对流过程产生的累积降水量（特定的积云对流参数化方案支持浅对流，本案例的模拟中积云对流参数化关闭，此处为0）\n",
    "ds.RAINSH.plot()"
   ]
  },
  {
   "cell_type": "code",
   "execution_count": null,
   "metadata": {
    "collapsed": false,
    "id": "15B58C1431E54E009A944125809B337D",
    "jupyter": {
     "outputs_hidden": false
    },
    "notebookId": "648e09c102479f749d0e44db",
    "slideshow": {
     "slide_type": "slide"
    },
    "tags": []
   },
   "outputs": [],
   "source": [
    "# 来自云微物理参数化方案的降水\n",
    "# 由于前两项为0，此处的结果即为总降雨量\n",
    "ds.RAINNC.plot()"
   ]
  },
  {
   "cell_type": "code",
   "execution_count": null,
   "metadata": {
    "collapsed": false,
    "id": "6F4D713B785042ABAF6A7FB425121BB1",
    "jupyter": {
     "outputs_hidden": false
    },
    "notebookId": "648e09c102479f749d0e44db",
    "slideshow": {
     "slide_type": "slide"
    },
    "tags": []
   },
   "outputs": [],
   "source": [
    "# 计算从模式初始时刻到当前时刻的累积降雨量\n",
    "total_rain = ds.RAINC + ds.RAINSH + ds.RAINNC\n",
    "total_rain"
   ]
  },
  {
   "cell_type": "markdown",
   "metadata": {
    "id": "BF8594E5C1444B988D789BB5D36276DC",
    "jupyter": {},
    "notebookId": "648e09c102479f749d0e44db",
    "runtime": {
     "execution_status": null,
     "status": "default"
    },
    "slideshow": {
     "slide_type": "slide"
    },
    "tags": []
   },
   "source": [
    "### 方法二：基于 netCDF4 读取 & 计算"
   ]
  },
  {
   "cell_type": "markdown",
   "metadata": {
    "id": "1EF31231E2224781B71CC81192611E34",
    "jupyter": {},
    "notebookId": "648e09c102479f749d0e44db",
    "runtime": {
     "execution_status": null,
     "status": "default"
    },
    "slideshow": {
     "slide_type": "slide"
    },
    "tags": []
   },
   "source": [
    "我们再来用 netCDF4 模块读取 WRF 模拟数据，结合 wrf-python 提取 WRF 模拟变量，同样查看总降水量的三个组成部分的数值，并计算总降水量。  \n",
    "\n",
    "一方面是看看结果是否有差异，另一方面是给大家提供两种可参考的处理流程。"
   ]
  },
  {
   "cell_type": "code",
   "execution_count": null,
   "metadata": {
    "collapsed": false,
    "id": "EC49AF27D74E4AB49ECB36E6158CDAB1",
    "jupyter": {
     "outputs_hidden": false
    },
    "notebookId": "648e09c102479f749d0e44db",
    "slideshow": {
     "slide_type": "slide"
    },
    "tags": []
   },
   "outputs": [],
   "source": [
    "# 导入模块\n",
    "from netCDF4 import Dataset\n",
    "from wrf import getvar\n",
    "# 读取 WRF 模拟数据\n",
    "wrf_file = Dataset(wrfout_path + 'wrfout_d01_2019-08-09_06_00_00')\n",
    "\n",
    "# 提取降雨量\n",
    "RAINC = getvar(wrf_file, 'RAINC')\n",
    "RAINNC = getvar(wrf_file, 'RAINNC')\n",
    "RAINSH = getvar(wrf_file, 'RAINSH')\n",
    "\n",
    "# 计算累计降雨量\n",
    "total_rain = RAINC + RAINSH + RAINNC\n",
    "total_rain"
   ]
  },
  {
   "cell_type": "code",
   "execution_count": null,
   "metadata": {
    "collapsed": false,
    "id": "D308FFB31585405E9FBB38AC2820EAE2",
    "jupyter": {
     "outputs_hidden": false
    },
    "notebookId": "648e09c102479f749d0e44db",
    "slideshow": {
     "slide_type": "slide"
    },
    "tags": []
   },
   "outputs": [],
   "source": [
    "# 绘制总降雨量的分布\n",
    "total_rain.plot()"
   ]
  },
  {
   "cell_type": "markdown",
   "metadata": {
    "id": "0E4CFC4F71B842068574DDFFA45E8B1F",
    "jupyter": {},
    "notebookId": "648e09c102479f749d0e44db",
    "runtime": {
     "execution_status": null,
     "status": "default"
    },
    "slideshow": {
     "slide_type": "slide"
    },
    "tags": []
   },
   "source": [
    "虽然用了不同的模块去读取 WRF 降雨数据，但结果是完全一样的！ **不同的读取方式并不会导致处理结果差异**，后续大家可以按自己喜欢的工具来处理。  \n",
    "      \n",
    "需要注意的是，这个 **预览图的横坐标和纵坐标不是经纬度**，无法直接看出是在哪个地方，因此，还是需要把 WRF 数据投影在地图上进行可视化。"
   ]
  },
  {
   "cell_type": "markdown",
   "metadata": {
    "id": "9F95A192CE5F4858A03E347CA3F303AA",
    "jupyter": {},
    "notebookId": "648e09c102479f749d0e44db",
    "runtime": {
     "execution_status": null,
     "status": "default"
    },
    "slideshow": {
     "slide_type": "slide"
    },
    "tags": []
   },
   "source": [
    "### ✍ 小练习：看看模式初始时刻输出的降雨量      \n",
    "      \n",
    "你认为 WRF 模拟起始时刻 `wrfout_d01_2019-08-08_18_00_00` 数据中是否会有降雨？"
   ]
  },
  {
   "cell_type": "code",
   "execution_count": null,
   "metadata": {
    "collapsed": false,
    "id": "BF9B195A15AD45F6B96B023683024C29",
    "jupyter": {
     "outputs_hidden": false
    },
    "notebookId": "648e09c102479f749d0e44db",
    "slideshow": {
     "slide_type": "slide"
    },
    "tags": []
   },
   "outputs": [],
   "source": [
    "# ...你的代码...\n",
    "\n"
   ]
  },
  {
   "cell_type": "markdown",
   "metadata": {
    "id": "C915253D9AC342F29211FB5CCCCCBAC7",
    "jupyter": {},
    "notebookId": "648e09c102479f749d0e44db",
    "runtime": {
     "execution_status": null,
     "status": "default"
    },
    "slideshow": {
     "slide_type": "slide"
    },
    "tags": []
   },
   "source": [
    "## 三、获取绘图所需的基础信息"
   ]
  },
  {
   "cell_type": "markdown",
   "metadata": {
    "id": "30E1028278704D4BB1DA283C18D6CD31",
    "jupyter": {},
    "notebookId": "648e09c102479f749d0e44db",
    "runtime": {
     "execution_status": null,
     "status": "default"
    },
    "slideshow": {
     "slide_type": "slide"
    },
    "tags": []
   },
   "source": [
    "正式绘图前先获取 **经纬度、地图投影和时间** 等信息。  \n",
    "\n",
    "我们需要注意两点，地图投影通常是选取 WRF 模式运行时设置的投影，WRF 模式的时间是世界协调时（UTC），需要+8小时转换为北京时间。"
   ]
  },
  {
   "cell_type": "code",
   "execution_count": null,
   "metadata": {
    "collapsed": false,
    "id": "4692F54CAA6144478FC03D9B657CEC21",
    "jupyter": {
     "outputs_hidden": false
    },
    "notebookId": "648e09c102479f749d0e44db",
    "slideshow": {
     "slide_type": "slide"
    },
    "tags": []
   },
   "outputs": [],
   "source": [
    "# 导入模块\n",
    "from wrf import to_np, getvar, get_cartopy, geo_bounds, cartopy_xlim, cartopy_ylim, latlon_coords"
   ]
  },
  {
   "cell_type": "markdown",
   "metadata": {
    "id": "7DDE91AA36A141B0AF200E624785FF5A",
    "jupyter": {},
    "notebookId": "648e09c102479f749d0e44db",
    "runtime": {
     "execution_status": null,
     "status": "default"
    },
    "slideshow": {
     "slide_type": "slide"
    },
    "tags": []
   },
   "source": [
    "### 1. 提取 WRF 经纬度数组"
   ]
  },
  {
   "cell_type": "code",
   "execution_count": null,
   "metadata": {
    "collapsed": false,
    "id": "5B5CC1B42688401B9CE265E117AD29A2",
    "jupyter": {
     "outputs_hidden": false
    },
    "notebookId": "648e09c102479f749d0e44db",
    "slideshow": {
     "slide_type": "slide"
    },
    "tags": []
   },
   "outputs": [],
   "source": [
    "# 提取WRF模拟的经纬度数组\n",
    "# 这里通过RAINC数组获取经纬度数组，当然也可以换成其他变量\n",
    "lats, lons = latlon_coords(RAINC)\n",
    "print(lats.shape)\n",
    "print(lons.shape)"
   ]
  },
  {
   "cell_type": "markdown",
   "metadata": {
    "id": "8C14B73EF2304409A9F38970114876B7",
    "jupyter": {},
    "notebookId": "648e09c102479f749d0e44db",
    "runtime": {
     "execution_status": null,
     "status": "default"
    },
    "slideshow": {
     "slide_type": "slide"
    },
    "tags": []
   },
   "source": [
    "### 2. 提取 WRF 地理边界"
   ]
  },
  {
   "cell_type": "code",
   "execution_count": null,
   "metadata": {
    "collapsed": false,
    "id": "FB236EBBFD0E45F29AD7B5A628D092A5",
    "jupyter": {
     "outputs_hidden": false
    },
    "notebookId": "648e09c102479f749d0e44db",
    "slideshow": {
     "slide_type": "slide"
    },
    "tags": []
   },
   "outputs": [],
   "source": [
    "# 提取WRF模拟的地理边界\n",
    "# 这里通过RAINC数组获取地理边界，当然也可以换成其他变量\n",
    "bounds = geo_bounds(RAINC)\n",
    "bounds"
   ]
  },
  {
   "cell_type": "markdown",
   "metadata": {
    "id": "3FF87E2871FE4139B4DF5EAD07F801CB",
    "jupyter": {},
    "notebookId": "648e09c102479f749d0e44db",
    "runtime": {
     "execution_status": null,
     "status": "default"
    },
    "slideshow": {
     "slide_type": "slide"
    },
    "tags": []
   },
   "source": [
    "### 3. 提取 WRF 投影设置"
   ]
  },
  {
   "cell_type": "code",
   "execution_count": null,
   "metadata": {
    "collapsed": false,
    "id": "988584E4C09A4B7DB5A3B2EB1F3B0543",
    "jupyter": {
     "outputs_hidden": false
    },
    "notebookId": "648e09c102479f749d0e44db",
    "slideshow": {
     "slide_type": "slide"
    },
    "tags": []
   },
   "outputs": [],
   "source": [
    "# 提取WRF模拟的投影设置\n",
    "# 在读取的变量属性中，我们可以查看到如下描述投影的字段\n",
    "# +proj=lcc +lat_0=27 +lon_0=123 +lat_1=20 +lat_2=40 +x_0=0 +y_0=0 +R=6370000 +units=m +no_defs\n",
    "# get_cartopy可以帮助我们直接提取投影属性，供Cartopy绘图使用\n",
    "# 这里通过RAINC数组获取地图投影，当然也可以换成其他变量\n",
    "wrf_proj = get_cartopy(RAINC)\n",
    "wrf_proj"
   ]
  },
  {
   "cell_type": "markdown",
   "metadata": {
    "id": "48E188D301E449EBACE2709F116257DB",
    "jupyter": {},
    "notebookId": "648e09c102479f749d0e44db",
    "runtime": {
     "execution_status": null,
     "status": "default"
    },
    "slideshow": {
     "slide_type": "slide"
    },
    "tags": []
   },
   "source": [
    "### 4. 提取 WRF 的起止时间"
   ]
  },
  {
   "cell_type": "code",
   "execution_count": null,
   "metadata": {
    "collapsed": false,
    "id": "8BC61C706A7A4DBD9EC0F01E5A01CB5E",
    "jupyter": {
     "outputs_hidden": false
    },
    "notebookId": "648e09c102479f749d0e44db",
    "slideshow": {
     "slide_type": "slide"
    },
    "tags": []
   },
   "outputs": [],
   "source": [
    "# 提取WRF模拟的起止时间\n",
    "from datetime import datetime\n",
    "import numpy as np\n",
    "\n",
    "# 我们可以用datetime模块输入WRF起始时刻的时间戳\n",
    "time_start = datetime(2019, 8, 8, 18, 0)\n",
    "\n",
    "# 将datetime64[ns]格式转换为datetime格式时间戳\n",
    "time_end = np.array(ds.time)\n",
    "time_end = datetime.strptime(str(time_end[0].astype('datetime64[ms]')), '%Y-%m-%dT%H:%M:%S.%f')\n",
    "time_end"
   ]
  },
  {
   "cell_type": "markdown",
   "metadata": {
    "id": "498EA58AD4144B918421D53FC2036EEE",
    "jupyter": {},
    "notebookId": "648e09c102479f749d0e44db",
    "runtime": {
     "execution_status": null,
     "status": "default"
    },
    "slideshow": {
     "slide_type": "slide"
    },
    "tags": []
   },
   "source": [
    "通过以上4步，我们已经获取了降雨量绘图的基本信息，后续我们就可以进行地图可视化的编程啦~"
   ]
  },
  {
   "cell_type": "markdown",
   "metadata": {
    "id": "C15B3F36B07846CF8C231473F2A07B53",
    "jupyter": {},
    "notebookId": "648e09c102479f749d0e44db",
    "runtime": {
     "execution_status": null,
     "status": "default"
    },
    "slideshow": {
     "slide_type": "slide"
    },
    "tags": []
   },
   "source": [
    "### ✍ 小练习：时间戳处理"
   ]
  },
  {
   "cell_type": "markdown",
   "metadata": {
    "id": "35A62726DE064E90906B29C29E3E2842",
    "jupyter": {},
    "notebookId": "648e09c102479f749d0e44db",
    "runtime": {
     "execution_status": null,
     "status": "default"
    },
    "slideshow": {
     "slide_type": "slide"
    },
    "tags": []
   },
   "source": [
    "我们很容易能根据WRF模拟数据的文件名获取当前时刻，但如何智能地获取初始时刻（start_time） 变量？    \n",
    "      \n",
    "提示：尽管xtime显示的是当前的时刻，但在description中有初始时刻（start_time）的记录  \n",
    "![ImageName](https://cdn.kesci.com/upload/image/rqxjnrj30v.png)      \n"
   ]
  },
  {
   "cell_type": "code",
   "execution_count": null,
   "metadata": {
    "collapsed": false,
    "id": "80258B01472349B9959089B68743458D",
    "jupyter": {
     "outputs_hidden": false
    },
    "notebookId": "648e09c102479f749d0e44db",
    "slideshow": {
     "slide_type": "slide"
    },
    "tags": []
   },
   "outputs": [],
   "source": [
    "# ...你的代码...\n"
   ]
  },
  {
   "cell_type": "markdown",
   "metadata": {
    "id": "7A6E2594A3EE4726894409BE277E5D42",
    "jupyter": {},
    "notebookId": "648e09c102479f749d0e44db",
    "runtime": {
     "execution_status": null,
     "status": "default"
    },
    "slideshow": {
     "slide_type": "slide"
    },
    "tags": []
   },
   "source": [
    "## 四、基于 Cartopy 绘制 WRF 模拟的降雨量"
   ]
  },
  {
   "cell_type": "markdown",
   "metadata": {
    "id": "A40DBE1339E549189A8FE20C255F84C3",
    "jupyter": {},
    "notebookId": "648e09c102479f749d0e44db",
    "runtime": {
     "execution_status": null,
     "status": "default"
    },
    "slideshow": {
     "slide_type": "slide"
    },
    "tags": []
   },
   "source": [
    "**[Cartopy](https://scitools.org.uk/cartopy/docs/latest/)** 旨在使用最简单直观的方式生成地图，并提供对 matplotlib 友好的协作接口，是 Python 中进行空间数据可视化的常用模块。  \n",
    "\n",
    "\n",
    "在 Cartopy 中，每种投影都是一个类，被存放在 cartopy.crs 模块中，crs 即坐标参考系统（Coordinate Reference Systems）。 **[支持的投影列表点击这里查看](https://scitools.org.uk/cartopy/docs/v0.15/crs/projections.html)**  \n",
    "\n",
    "\n",
    "**Cartopy 地图绘制的基本流程**：  \n",
    "\n",
    "+ 创建画布。  \n",
    "+ 通过指定 projection 参数，创建 GeoAxes 对象。  \n",
    "+ 调用 GeoAxes 的方法画图。  \n",
    "\t+ GeoAxes 用法扩展（部分常用）  \n",
    "\t+ set_global：让地图的显示范围扩展至投影的最大范围。例如，对 PlateCarree 投影的 ax 使用后，地图会变成全球的。  \n",
    "\t+ set_extent：给出元组 (x0, x1, y0, y1) 以限制地图的显示范围。  \n",
    "\t+ set_xticks：设置 x 轴的刻度。  \n",
    "\t+ set_yticks：设置 y 轴的刻度。  \n",
    "\t+ gridlines：给地图添加网格线。  \n",
    "\t+ coastlines：在地图上绘制海岸线。  \n",
    "\t+ stock_img：给地图添加低分辨率的地形图背景。  \n",
    "\t+ add_feature：给地图添加特征（例如陆地或海洋的填充、河流等）。  \n",
    "\n",
    "承接前面第三部分的工作成果，接下来重点就是利用Cartopy模块进行 **WRF 模拟的降雨量空间分布可视化**。"
   ]
  },
  {
   "cell_type": "markdown",
   "metadata": {
    "id": "979A78EE41C3439D9BEE398FD7D8CD12",
    "jupyter": {},
    "notebookId": "648e09c102479f749d0e44db",
    "runtime": {
     "execution_status": null,
     "status": "default"
    },
    "slideshow": {
     "slide_type": "slide"
    },
    "tags": []
   },
   "source": [
    "### 1. 导入绘图模块  \n",
    "\n",
    "我们在这里一次性导入本关所需要使用的模块"
   ]
  },
  {
   "cell_type": "code",
   "execution_count": null,
   "metadata": {
    "collapsed": false,
    "id": "82472B473FAA4DC68D2A3C5965FE8C45",
    "jupyter": {
     "outputs_hidden": false
    },
    "notebookId": "648e09c102479f749d0e44db",
    "slideshow": {
     "slide_type": "slide"
    },
    "tags": []
   },
   "outputs": [],
   "source": [
    "# 导入数据读取模块\n",
    "import numpy as np\n",
    "import pandas as pd\n",
    "from netCDF4 import Dataset\n",
    "import xarray as xr\n",
    "\n",
    "# 导入可视化模块\n",
    "import matplotlib.pyplot as plt\n",
    "from matplotlib.cm import get_cmap\n",
    "import cartopy.crs as ccrs\n",
    "import cartopy.feature as cfeature\n",
    "import cartopy.io.shapereader as shpreader\n",
    "from cartopy.mpl.ticker import LongitudeFormatter, LatitudeFormatter\n",
    "from cartopy.mpl.gridliner import LATITUDE_FORMATTER, LONGITUDE_FORMATTER\n",
    "import shapely.geometry as sgeom\n",
    "import cmaps\n",
    "\n",
    "# 导入辅助模块\n",
    "from glob import glob\n",
    "from copy import copy"
   ]
  },
  {
   "cell_type": "markdown",
   "metadata": {
    "id": "D8559326D07645FD8FCE043F06A5E1C8",
    "jupyter": {},
    "notebookId": "648e09c102479f749d0e44db",
    "runtime": {
     "execution_status": null,
     "status": "default"
    },
    "slideshow": {
     "slide_type": "slide"
    },
    "tags": []
   },
   "source": [
    "### 2. 基于 pcolormesh 绘制格点数据  \n",
    "\n",
    "WRF 模拟的物理量都属于格点数据，具有空间信息，降雨量亦是如此。首先，我们试试用[**pcolormesh**](https://matplotlib.org/stable/api/_as_gen/matplotlib.pyplot.pcolormesh.html)方法，就是通过格点来展示降雨量数据。"
   ]
  },
  {
   "cell_type": "code",
   "execution_count": null,
   "metadata": {
    "collapsed": false,
    "id": "52B244F79DC04B92B846107241748CEA",
    "jupyter": {
     "outputs_hidden": false
    },
    "notebookId": "648e09c102479f749d0e44db",
    "slideshow": {
     "slide_type": "slide"
    },
    "tags": []
   },
   "outputs": [],
   "source": [
    "fig = plt.figure(figsize=(10,8))\n",
    "# 设置地图投影\n",
    "ax = plt.axes(projection=wrf_proj)\n",
    "# 设置地图范围\n",
    "ax.set_xlim(cartopy_xlim(RAINC))\n",
    "ax.set_ylim(cartopy_ylim(RAINC))\n",
    "# 绘制降雨量分布（pcolormesh方法进行格点绘制）\n",
    "im = ax.pcolormesh(to_np(lons), \n",
    "                   to_np(lats), \n",
    "                   to_np(total_rain), \n",
    "                   vmin=0, \n",
    "                   vmax=200, \n",
    "                   cmap=cmaps.WhiteBlueGreenYellowRed, \n",
    "                   transform=ccrs.PlateCarree())\n",
    "# 为降雨量添加colorbar\n",
    "cbar = plt.colorbar(im, ax=ax, extend='max', shrink=1)\n",
    "cbar.set_label('Rainfall (mm)', fontdict={'size':20})\n",
    "cbar.ax.tick_params(labelsize=20)\n",
    "# 添加经纬度网格线\n",
    "ax.gridlines(color='black', linestyle='dotted')\n",
    "# 设置标签大小\n",
    "plt.tick_params(labelsize=15)\n",
    "# 添加标题\n",
    "plt.title('08-08 1800 - 08-09 0600(UTC)', loc='left', fontsize=20)\n",
    "plt.show()"
   ]
  },
  {
   "cell_type": "markdown",
   "metadata": {
    "id": "F5F36661BCA341F8961B94DE98361BFB",
    "jupyter": {},
    "notebookId": "648e09c102479f749d0e44db",
    "runtime": {
     "execution_status": null,
     "status": "default"
    },
    "slideshow": {
     "slide_type": "slide"
    },
    "tags": []
   },
   "source": [
    "### ✍ 小练习：基于 contourf （等值线填充）绘制格点数据  \n",
    "      \n",
    "除了用[**pcolormesh**](https://matplotlib.org/stable/api/_as_gen/matplotlib.pyplot.pcolormesh.html)方法以外，还可以用[**contourf**](https://matplotlib.org/stable/api/_as_gen/matplotlib.pyplot.contourf.html#matplotlib.pyplot.contourf)，即通过等值线填充来绘制，两者的示意图如下图所示。  \n",
    "\n",
    "![Image Name](pic/contourf.png)  \n"
   ]
  },
  {
   "cell_type": "code",
   "execution_count": null,
   "metadata": {
    "collapsed": false,
    "id": "4EF3A28560C0412C9D4C0C380BA601ED",
    "jupyter": {
     "outputs_hidden": false
    },
    "notebookId": "648e09c102479f749d0e44db",
    "slideshow": {
     "slide_type": "slide"
    },
    "tags": []
   },
   "outputs": [],
   "source": [
    "### （你的代码） ###\n",
    "## 通过等值线填充绘制降雨量分布\n",
    "\n",
    "\n"
   ]
  },
  {
   "cell_type": "markdown",
   "metadata": {
    "id": "A1CF30A856894DAEABE20C28FF69EE0D",
    "jupyter": {},
    "notebookId": "648e09c102479f749d0e44db",
    "runtime": {
     "execution_status": null,
     "status": "default"
    },
    "slideshow": {
     "slide_type": "slide"
    },
    "tags": []
   },
   "source": [
    "### 优化：添加地理矢量数据  \n",
    "\n",
    "没有地图要素数据，我们很难直观看出这个台风降雨具体在哪些区域。因此，**提供地图要素（国界线、海岸线等）作为背景信息是十分有必要的**。"
   ]
  },
  {
   "cell_type": "code",
   "execution_count": null,
   "metadata": {
    "collapsed": false,
    "id": "F3527B5AF081481C8B1C21F446BD64D4",
    "jupyter": {
     "outputs_hidden": false
    },
    "notebookId": "648e09c102479f749d0e44db",
    "slideshow": {
     "slide_type": "slide"
    },
    "tags": []
   },
   "outputs": [],
   "source": [
    "# 创建一个画布\n",
    "fig = plt.figure(figsize=(10,8))\n",
    "# 设置地图投影\n",
    "ax = plt.axes(projection=wrf_proj)\n",
    "# 设置地图范围\n",
    "ax.set_xlim(cartopy_xlim(RAINC))\n",
    "ax.set_ylim(cartopy_ylim(RAINC))\n",
    "\n",
    "# 读取国界线\n",
    "province = shpreader.Reader('/home/mw/input/data5246/中国地图/China_provinces/China_provinces.shp')\n",
    "# 读取九段线\n",
    "nineline = shpreader.Reader('/home/mw/input/data5246/中国地图/China_10-dash_line/China_10-dash_line.shp')\n",
    "# 绘制国界线\n",
    "ax.add_geometries(province.geometries(), \n",
    "                  crs=ccrs.PlateCarree(), \n",
    "                  linewidth=0.5, \n",
    "                  edgecolor='k',\n",
    "                  facecolor='none',\n",
    "                  zorder=2)\n",
    "# 绘制九段线\n",
    "ax.add_geometries(nineline.geometries(), \n",
    "                  crs=ccrs.PlateCarree(), \n",
    "                  linewidth=0.5,\n",
    "                  color='k',\n",
    "                  zorder=2)\n",
    "# 绘制降雨量分布（pcolormesh方法进行格点绘制）\n",
    "im = ax.pcolormesh(to_np(lons), \n",
    "                   to_np(lats), \n",
    "                   to_np(total_rain), \n",
    "                   vmin=0, \n",
    "                   vmax=200, \n",
    "                   cmap=cmaps.WhiteBlueGreenYellowRed, \n",
    "                   transform=ccrs.PlateCarree())\n",
    "# 为降雨量添加colorbar\n",
    "cbar = plt.colorbar(im, ax=ax, extend='max', shrink=1)\n",
    "cbar.set_label('Rainfall (mm)', fontdict={'size':20})\n",
    "cbar.ax.tick_params(labelsize=20)\n",
    "# 添加经纬度网格线\n",
    "ax.gridlines(color='black', linestyle='dotted')\n",
    "# 设置标签大小\n",
    "plt.tick_params(labelsize=15)\n",
    "# 添加标题\n",
    "plt.title('08-08 1800 - 08-09 0600(UTC)', loc='left', fontsize=20)\n",
    "plt.show()"
   ]
  },
  {
   "cell_type": "markdown",
   "metadata": {
    "id": "45155467A9754AF68B4D5306038D541F",
    "jupyter": {},
    "notebookId": "648e09c102479f749d0e44db",
    "runtime": {
     "execution_status": null,
     "status": "default"
    },
    "slideshow": {
     "slide_type": "slide"
    },
    "tags": []
   },
   "source": [
    "### 优化：对非等经纬度投影添加经纬度标签  \n",
    "\n",
    "由于Cartopy尚不能对非等经纬投影添加经纬度标签，因此我们需要自定义函数来额外实现这一功能。"
   ]
  },
  {
   "cell_type": "code",
   "execution_count": null,
   "metadata": {
    "collapsed": false,
    "id": "CCE9F7771499455EA52C40D6BC6D59A1",
    "jupyter": {
     "outputs_hidden": false
    },
    "notebookId": "648e09c102479f749d0e44db",
    "slideshow": {
     "slide_type": "slide"
    },
    "tags": []
   },
   "outputs": [],
   "source": [
    "'''\n",
    "参考Andrew Dawson 提供的解决方法: https://gist.github.com/ajdawson/dd536f786741e987ae4e\n",
    "'''\n",
    "# 给出一个假定为矩形的LineString，返回对应于矩形给定边的直线。\n",
    "def find_side(ls, side):\n",
    "    \"\"\"\n",
    "    Given a shapely LineString which is assumed to be rectangular, return the\n",
    "    line corresponding to a given side of the rectangle.\n",
    "    \"\"\"\n",
    "    minx, miny, maxx, maxy = ls.bounds\n",
    "    points = {'left': [(minx, miny), (minx, maxy)],\n",
    "              'right': [(maxx, miny), (maxx, maxy)],\n",
    "              'bottom': [(minx, miny), (maxx, miny)],\n",
    "              'top': [(minx, maxy), (maxx, maxy)],}\n",
    "    return sgeom.LineString(points[side])\n",
    "\n",
    "# 在兰伯特投影的底部X轴上绘制刻度线\n",
    "def lambert_xticks(ax, ticks):\n",
    "    \"\"\"Draw ticks on the bottom x-axis of a Lambert Conformal projection.\"\"\"\n",
    "    te = lambda xy: xy[0]\n",
    "    lc = lambda t, n, b: np.vstack((np.zeros(n) + t, np.linspace(b[2], b[3], n))).T\n",
    "    xticks, xticklabels = _lambert_ticks(ax, ticks, 'bottom', lc, te)\n",
    "    ax.xaxis.tick_bottom()\n",
    "    ax.set_xticks(xticks)\n",
    "    ax.set_xticklabels([ax.xaxis.get_major_formatter()(xtick) for xtick in xticklabels])\n",
    "\n",
    "# 在兰伯特投影的左侧y轴上绘制刻度线\n",
    "def lambert_yticks(ax, ticks):\n",
    "    \"\"\"Draw ricks on the left y-axis of a Lamber Conformal projection.\"\"\"\n",
    "    te = lambda xy: xy[1]\n",
    "    lc = lambda t, n, b: np.vstack((np.linspace(b[0], b[1], n), np.zeros(n) + t)).T\n",
    "    yticks, yticklabels = _lambert_ticks(ax, ticks, 'left', lc, te)\n",
    "    ax.yaxis.tick_left()\n",
    "    ax.set_yticks(yticks)\n",
    "    ax.set_yticklabels([ax.yaxis.get_major_formatter()(ytick) for ytick in yticklabels])\n",
    "\n",
    "# 获取兰伯特投影中底部X轴或左侧y轴的刻度线位置和标签\n",
    "def _lambert_ticks(ax, ticks, tick_location, line_constructor, tick_extractor):\n",
    "    \"\"\"Get the tick locations and labels for an axis of a Lambert Conformal projection.\"\"\"\n",
    "    outline_patch = sgeom.LineString(ax.outline_patch.get_path().vertices.tolist())\n",
    "    axis = find_side(outline_patch, tick_location)\n",
    "    n_steps = 30\n",
    "    extent = ax.get_extent(ccrs.PlateCarree())\n",
    "    _ticks = []\n",
    "    for t in ticks:\n",
    "        xy = line_constructor(t, n_steps, extent)\n",
    "        proj_xyz = ax.projection.transform_points(ccrs.Geodetic(), xy[:, 0], xy[:, 1])\n",
    "        xyt = proj_xyz[..., :2]\n",
    "        ls = sgeom.LineString(xyt.tolist())\n",
    "        locs = axis.intersection(ls)\n",
    "        if not locs:\n",
    "            tick = [None]\n",
    "        else:\n",
    "            tick = tick_extractor(locs.xy)\n",
    "        _ticks.append(tick[0])\n",
    "    # Remove ticks that aren't visible: \n",
    "    ticklabels = copy(ticks)\n",
    "    while True:\n",
    "        try:\n",
    "            index = _ticks.index(None)\n",
    "        except ValueError:\n",
    "            break\n",
    "        _ticks.pop(index)\n",
    "        ticklabels.pop(index)\n",
    "    return _ticks, ticklabels"
   ]
  },
  {
   "cell_type": "code",
   "execution_count": null,
   "metadata": {
    "collapsed": false,
    "id": "E3007AE2349047B2AB80C0DAB288119C",
    "jupyter": {
     "outputs_hidden": false
    },
    "notebookId": "648e09c102479f749d0e44db",
    "slideshow": {
     "slide_type": "slide"
    },
    "tags": []
   },
   "outputs": [],
   "source": [
    "# 创建一个画布\n",
    "fig = plt.figure(figsize=(10,8))\n",
    "# 设置地图投影\n",
    "ax = plt.axes(projection=wrf_proj)\n",
    "# 设置地图范围\n",
    "ax.set_xlim(cartopy_xlim(RAINC))\n",
    "ax.set_ylim(cartopy_ylim(RAINC))\n",
    "\n",
    "# 读取国界线\n",
    "province = shpreader.Reader('/home/mw/input/data5246/中国地图/China_provinces/China_provinces.shp')\n",
    "# 读取九段线\n",
    "nineline = shpreader.Reader('/home/mw/input/data5246/中国地图/China_10-dash_line/China_10-dash_line.shp')\n",
    "# 绘制国界线\n",
    "ax.add_geometries(province.geometries(), \n",
    "                  crs=ccrs.PlateCarree(), \n",
    "                  linewidth=0.5, \n",
    "                  edgecolor='k',\n",
    "                  facecolor='none',\n",
    "                  zorder=2)\n",
    "# 绘制九段线\n",
    "ax.add_geometries(nineline.geometries(), \n",
    "                  crs=ccrs.PlateCarree(), \n",
    "                  linewidth=0.5,\n",
    "                  color='k',\n",
    "                  zorder=2)\n",
    "# 绘制降雨量分布（pcolormesh方法进行格点绘制）\n",
    "im = ax.pcolormesh(to_np(lons), \n",
    "                   to_np(lats), \n",
    "                   to_np(total_rain), \n",
    "                   vmin=0, \n",
    "                   vmax=200, \n",
    "                   cmap=cmaps.WhiteBlueGreenYellowRed, \n",
    "                   transform=ccrs.PlateCarree())\n",
    "# 为降雨量添加colorbar\n",
    "cbar = plt.colorbar(im, ax=ax, extend='max', shrink=1)\n",
    "cbar.set_label('Rainfall (mm)', fontdict={'size':20})\n",
    "cbar.ax.tick_params(labelsize=20)\n",
    "# 添加经纬度网格线\n",
    "ax.gridlines(color='black', linestyle='dotted')\n",
    "# 添加经纬度标签\n",
    "xticks = list(np.arange(100,140,2))\n",
    "yticks = list(np.arange(20,40,2))\n",
    "fig.canvas.draw()\n",
    "ax.xaxis.set_major_formatter(LONGITUDE_FORMATTER) \n",
    "ax.yaxis.set_major_formatter(LATITUDE_FORMATTER)\n",
    "lambert_xticks(ax, xticks)\n",
    "lambert_yticks(ax, yticks)\n",
    "# 设置标签大小\n",
    "plt.tick_params(labelsize=15)\n",
    "# 添加标题\n",
    "plt.title('08-08 1800 - 08-09 0600(UTC)', loc='left', fontsize=20)\n",
    "plt.show()"
   ]
  },
  {
   "cell_type": "markdown",
   "metadata": {
    "id": "6EC7C7E122714B238F4A283250DBF29F",
    "jupyter": {},
    "notebookId": "648e09c102479f749d0e44db",
    "runtime": {
     "execution_status": null,
     "status": "default"
    },
    "slideshow": {
     "slide_type": "slide"
    },
    "tags": []
   },
   "source": [
    "### 小练习：绘制小时降雨量与累积降雨量（用组图形式展示）  \n",
    "\n",
    "时间范围：2019年8月8日19时（UTC）-2019年8月9日6时（UTC），区域范围与上图保持一致。"
   ]
  },
  {
   "cell_type": "code",
   "execution_count": null,
   "metadata": {
    "collapsed": false,
    "id": "7024F0344B074C80B5B4C687D86ED315",
    "jupyter": {
     "outputs_hidden": false
    },
    "notebookId": "648e09c102479f749d0e44db",
    "slideshow": {
     "slide_type": "slide"
    },
    "tags": []
   },
   "outputs": [],
   "source": [
    "### （你的代码） ###\n",
    "## 绘制累积降雨量组图\n",
    "\n",
    "\n",
    "## 绘制小时降雨量组图\n",
    "\n"
   ]
  },
  {
   "cell_type": "markdown",
   "metadata": {
    "id": "21CD4FED9D5045D5B45EDE2FDDBB72BB",
    "jupyter": {},
    "notebookId": "648e09c102479f749d0e44db",
    "runtime": {
     "execution_status": null,
     "status": "default"
    },
    "slideshow": {
     "slide_type": "slide"
    },
    "tags": []
   },
   "source": [
    "恭喜你完成了 WRF 后处理训练营第二关的学习材料，了解 **WRF 模拟的降雨量的组成与计算**，并且学会了在**地图上可视化 WRF 模拟数据**的技能。"
   ]
  },
  {
   "cell_type": "markdown",
   "metadata": {
    "id": "038ABCDFAB5A4C48A3FC9A910CE6C2EA",
    "jupyter": {},
    "notebookId": "648e09c102479f749d0e44db",
    "runtime": {
     "execution_status": null,
     "status": "default"
    },
    "slideshow": {
     "slide_type": "slide"
    },
    "tags": []
   },
   "source": [
    "## 闯关题  \n",
    "\n",
    "### STEP1：根据要求完成题目"
   ]
  },
  {
   "cell_type": "markdown",
   "metadata": {
    "id": "2A39EC84B59A4A3D990A221DC50FEFDF",
    "jupyter": {},
    "notebookId": "648e09c102479f749d0e44db",
    "runtime": {
     "execution_status": null,
     "status": "default"
    },
    "slideshow": {
     "slide_type": "slide"
    },
    "tags": []
   },
   "source": [
    "1. 案例中绘图用的是投影是？      \n",
    "A. 兰伯特方位等积投影      \n",
    "B. 兰勃特等角圆锥投影      \n",
    "C. 墨卡托投影（正轴等角切圆柱投影）      \n",
    "D. 等距方位投影      \n",
    "      \n",
    "2. 累积降雨量的正确计算公式为？      \n",
    "A. 总降水 = RAINNC + RAINC      \n",
    "B. 总降水 = RAINNC + RAINSH      \n",
    "C. 总降水 = RAINC + RAINSH      \n",
    "D. 总降水 = RAINNC + RAINC + RAINSH      \n",
    "          \n",
    "3. 从 WRF 模拟初始时刻 2019-08-08_18_00_00（UTC）到 2019-08-09_06_00_00（UTC），累积降雨量最大值和小时降雨量最大值分别为多少 mm？（使用 round 取整）  \n",
    "\n",
    "提示： 可以用 [xarray.DataArray.diff](https://docs.xarray.dev/en/stable/generated/xarray.DataArray.diff.html) 来求差值（根据累积降雨量计算小时降雨量） "
   ]
  },
  {
   "cell_type": "code",
   "execution_count": null,
   "metadata": {
    "collapsed": false,
    "id": "F813C1544CCD4A3188660C0C4143ABDA",
    "jupyter": {
     "outputs_hidden": false
    },
    "notebookId": "648e09c102479f749d0e44db",
    "slideshow": {
     "slide_type": "slide"
    },
    "tags": []
   },
   "outputs": [],
   "source": [
    "# 填入你的答案，注意大小写\n",
    "answer_1 = ''\n",
    "answer_2 = ''\n",
    "answer_3 = ''  # 累积降雨量最大值（使用 round 取整）\n",
    "answer_4 = ''  # 小时降雨量最大值（使用 round 取整）"
   ]
  },
  {
   "cell_type": "markdown",
   "metadata": {
    "id": "ABEBEEBF00A14E15980AFFE55FBEE859",
    "jupyter": {},
    "notebookId": "648e09c102479f749d0e44db",
    "runtime": {
     "execution_status": null,
     "status": "default"
    },
    "slideshow": {
     "slide_type": "slide"
    },
    "tags": []
   },
   "source": [
    "## ⚡ 下一关预告：  \n",
    "\n",
    "下一关我们将介绍 WRF 模拟的风场绘制，依然会涉及到本关中的地图绘制要点，看看 WRF 对台风风场的模拟能力如何？"
   ]
  }
 ],
 "metadata": {
  "kernelspec": {
   "display_name": "Python 3 (ipykernel)",
   "language": "python",
   "name": "python3"
  },
  "language_info": {
   "codemirror_mode": {
    "name": "ipython",
    "version": 3
   },
   "file_extension": ".py",
   "mimetype": "text/x-python",
   "name": "python",
   "nbconvert_exporter": "python",
   "pygments_lexer": "ipython3",
   "version": "3.7.10"
  }
 },
 "nbformat": 4,
 "nbformat_minor": 4
}
