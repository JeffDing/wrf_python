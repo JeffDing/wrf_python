{
 "cells": [
  {
   "cell_type": "markdown",
   "metadata": {
    "id": "CBB8F1929F1C42718E2D626598B9ED91",
    "jupyter": {},
    "notebookId": "648f9cdd02479f749d2849c2",
    "runtime": {
     "execution_status": null,
     "status": "default"
    },
    "slideshow": {
     "slide_type": "slide"
    },
    "tags": []
   },
   "source": [
    "\n",
    "![ImageName](pic/title.jpg)  \n",
    "\n",
    "**作者：[lqy](https://www.heywhale.com/home/user/profile/5f27fd9633e1be002cc65a1d)** 华东师范大学气象学研究生、和鲸社区气象数据科学频道版主"
   ]
  },
  {
   "cell_type": "markdown",
   "metadata": {
    "id": "5082D8D0B396429486BB075C9BB1063E",
    "jupyter": {},
    "notebookId": "648f9cdd02479f749d2849c2",
    "runtime": {
     "execution_status": null,
     "status": "default"
    },
    "slideshow": {
     "slide_type": "slide"
    },
    "tags": []
   },
   "source": [
    "🐋：本项目来自和鲸社区《[气象训练营⑦：WRF模式后处理](https://www.heywhale.com/home/competition/64478fec113e81a18dc70cd1)》活动，所有教案代码都可以一键跑通，你可以 fork 后在线在线运行、调试学习、完成作业练习。  \n",
    "\n",
    "学习过程中如果你遇到任何问题，欢迎使用搜索引擎，或在 [讨论区](https://www.heywhale.com/home/competition/forumlist/64478fec113e81a18dc70cd1) 中发帖提出，我们很乐意为你提供帮助。"
   ]
  },
  {
   "cell_type": "markdown",
   "metadata": {
    "id": "7DF65F5FAD18417AA486A3D892847F77",
    "jupyter": {},
    "notebookId": "648f9cdd02479f749d2849c2",
    "runtime": {
     "execution_status": null,
     "status": "default"
    },
    "slideshow": {
     "slide_type": "slide"
    },
    "tags": []
   },
   "source": [
    "# 关卡三：绘制WRF模拟的风场"
   ]
  },
  {
   "cell_type": "markdown",
   "metadata": {
    "id": "1C525E640BF747B19D3113CC51BE8623",
    "jupyter": {},
    "notebookId": "648f9cdd02479f749d2849c2",
    "runtime": {
     "execution_status": null,
     "status": "default"
    },
    "slideshow": {
     "slide_type": "slide"
    },
    "tags": []
   },
   "source": [
    "## 一、风速数据有何不同"
   ]
  },
  {
   "cell_type": "markdown",
   "metadata": {
    "id": "5B63C22F3D064B10AA7A32CF2CFCCD58",
    "jupyter": {},
    "notebookId": "648f9cdd02479f749d2849c2",
    "runtime": {
     "execution_status": null,
     "status": "default"
    },
    "slideshow": {
     "slide_type": "slide"
    },
    "tags": []
   },
   "source": [
    "在上一关卡中，我们介绍了**瞬时变量和累积变量**的差异，与数据所表示的时间有关。当然，WRF数据还可以分为**矢量数据和标量数据**。矢量数据是包含运动方向和大小的，标量数据则是只有大小。其中，大部分变量都是标量数据，而风速是一个很典型的矢量数据。不仅如此，**风速可以用U风速（纬向）和V风速（经向），也可以用风速大小和风向大小来加以表示**，具有很大的灵活性。  \n",
    "  \n",
    "此外，**风速是在环流场分析中必不可少的变量**，在业务和科研中都被广泛使用。"
   ]
  },
  {
   "cell_type": "markdown",
   "metadata": {
    "id": "81C6882878E34C8B98BE6299D13CF0FC",
    "jupyter": {},
    "notebookId": "648f9cdd02479f749d2849c2",
    "runtime": {
     "execution_status": null,
     "status": "default"
    },
    "slideshow": {
     "slide_type": "slide"
    },
    "tags": []
   },
   "source": [
    "## 二、提取WRF模拟的风速数据"
   ]
  },
  {
   "cell_type": "markdown",
   "metadata": {
    "id": "9B6FC9E3EC21402984A839B8DF7046B9",
    "jupyter": {},
    "notebookId": "648f9cdd02479f749d2849c2",
    "runtime": {
     "execution_status": null,
     "status": "default"
    },
    "slideshow": {
     "slide_type": "slide"
    },
    "tags": []
   },
   "source": [
    "不同于降雨量，**风速不仅有近地面风速、还有高空风速，具有高度层信息**。  \n",
    "  \n",
    "**变量名怎么找？就是关卡1提到的这个网址：https://wrf-python.readthedocs.io/en/latest/user_api/generated/wrf.getvar.html**  \n",
    "  \n",
    "get_var可以直接提取如下变量：  \n",
    "  \n",
    "**近地面风速（模式输出的通常是10m高度）**：  \n",
    "+ wspd_wdir10：网格坐标上的10米风速在风向（10m Wind Speed and Direction (wind_from_direction) in Grid Coordinates）  \n",
    "+ uvmet10_wspd_wdir：地理坐标上的10米风速在风向（10m Wind Speed and Direction (wind_from_direction) Rotated to Earth Coordinates）  \n",
    "  \n",
    "**不同高度层的风速**：  \n",
    "+ ua：纬向风速（U-component of Wind on Mass Points）  \n",
    "+ va：经向风速（V-component of Wind on Mass Points）  \n",
    "  \n",
    "风速这个变量有点特殊，它跟坐标表示方式有关，**有网格坐标和地理坐标两种提取方式**。  \n",
    "  \n",
    "下面，我们来看看这两种提取方式存在差异吗？"
   ]
  },
  {
   "cell_type": "code",
   "execution_count": null,
   "metadata": {
    "collapsed": false,
    "id": "C64B0286C8374C1E8DE15A83BB441FE7",
    "jupyter": {
     "outputs_hidden": false
    },
    "notebookId": "648f9cdd02479f749d2849c2",
    "slideshow": {
     "slide_type": "slide"
    },
    "tags": []
   },
   "outputs": [],
   "source": [
    "# WRF数据目录\n",
    "wrfout_path = './dataset/wrfout/'"
   ]
  },
  {
   "cell_type": "code",
   "execution_count": null,
   "metadata": {
    "collapsed": false,
    "id": "9CDC1DF238E94E91860F1B0A27905A7E",
    "jupyter": {
     "outputs_hidden": false
    },
    "notebookId": "648f9cdd02479f749d2849c2",
    "slideshow": {
     "slide_type": "slide"
    },
    "tags": []
   },
   "outputs": [],
   "source": [
    "# 导入模块\n",
    "from netCDF4 import Dataset\n",
    "from wrf import getvar"
   ]
  },
  {
   "cell_type": "markdown",
   "metadata": {
    "id": "99DD289A655A4B478BF7A1C98C9F9D94",
    "jupyter": {},
    "notebookId": "648f9cdd02479f749d2849c2",
    "runtime": {
     "execution_status": null,
     "status": "default"
    },
    "slideshow": {
     "slide_type": "slide"
    },
    "tags": []
   },
   "source": [
    "### 1. 网格坐标上的风速"
   ]
  },
  {
   "cell_type": "markdown",
   "metadata": {
    "id": "56BCBDE6F5C24352811CD1B1FAF432DD",
    "jupyter": {},
    "notebookId": "648f9cdd02479f749d2849c2",
    "runtime": {
     "execution_status": null,
     "status": "default"
    },
    "slideshow": {
     "slide_type": "slide"
    },
    "tags": []
   },
   "source": [
    "网格坐标上的风速即 WRF 模拟的每个格点上的风速大小及风向"
   ]
  },
  {
   "cell_type": "code",
   "execution_count": null,
   "metadata": {
    "collapsed": false,
    "id": "64E28102A61E456D9EC7820CB59B0F1E",
    "jupyter": {
     "outputs_hidden": false
    },
    "notebookId": "648f9cdd02479f749d2849c2",
    "slideshow": {
     "slide_type": "slide"
    },
    "tags": []
   },
   "outputs": [],
   "source": [
    "wrf_file = Dataset(wrfout_path + 'wrfout_d01_2019-08-09_06_00_00')\n",
    "# 提取网格坐标上的风速\n",
    "wspd_wdir10 = getvar(wrf_file, 'wspd_wdir10', timeidx=0)\n",
    "wspd_wdir10"
   ]
  },
  {
   "cell_type": "code",
   "execution_count": null,
   "metadata": {
    "collapsed": false,
    "id": "F801971DB6824536B59F059FE75353BE",
    "jupyter": {
     "outputs_hidden": false
    },
    "notebookId": "648f9cdd02479f749d2849c2",
    "scrolled": true,
    "slideshow": {
     "slide_type": "slide"
    },
    "tags": []
   },
   "outputs": [],
   "source": [
    "# 快速预览网格坐标上的风速大小\n",
    "wspd10 = wspd_wdir10[0]\n",
    "wspd10.plot()"
   ]
  },
  {
   "cell_type": "markdown",
   "metadata": {
    "id": "F6C4A389134A4C398940911357F910FD",
    "jupyter": {},
    "notebookId": "648f9cdd02479f749d2849c2",
    "runtime": {
     "execution_status": null,
     "status": "default"
    },
    "slideshow": {
     "slide_type": "slide"
    },
    "tags": []
   },
   "source": [
    "### 2. 地理坐标上的风速"
   ]
  },
  {
   "cell_type": "markdown",
   "metadata": {
    "id": "5A3EFFD152DE4D6683D24368EB2BDEDD",
    "jupyter": {},
    "notebookId": "648f9cdd02479f749d2849c2",
    "runtime": {
     "execution_status": null,
     "status": "default"
    },
    "slideshow": {
     "slide_type": "slide"
    },
    "tags": []
   },
   "source": [
    "由于 WRF 模拟的地图投影设置可能与标准经纬度网格存在差异，而在地理坐标系上风速的表达与原始的格点模拟之间会存在一定的差异，因此，在地图上绘制风速的时候需要进行适当地转换。"
   ]
  },
  {
   "cell_type": "code",
   "execution_count": null,
   "metadata": {
    "collapsed": false,
    "id": "DC1F19FB326648CE8D7878D0DADB22FF",
    "jupyter": {
     "outputs_hidden": false
    },
    "notebookId": "648f9cdd02479f749d2849c2",
    "slideshow": {
     "slide_type": "slide"
    },
    "tags": []
   },
   "outputs": [],
   "source": [
    "# 提取地理坐标上的风速\n",
    "uvmet10_wspd_wdir = getvar(wrf_file, 'uvmet10_wspd_wdir', timeidx=0)\n",
    "uvmet10_wspd_wdir"
   ]
  },
  {
   "cell_type": "code",
   "execution_count": null,
   "metadata": {
    "collapsed": false,
    "id": "27349DC22D53485A9E344A515E676FFB",
    "jupyter": {
     "outputs_hidden": false
    },
    "notebookId": "648f9cdd02479f749d2849c2",
    "slideshow": {
     "slide_type": "slide"
    },
    "tags": []
   },
   "outputs": [],
   "source": [
    "# 快速预览地理坐标上的风速\n",
    "uvmet10_wspd = uvmet10_wspd_wdir[0]\n",
    "uvmet10_wspd.plot()"
   ]
  },
  {
   "cell_type": "markdown",
   "metadata": {
    "id": "0F795DB2DDDD4955A9BEA2D162955601",
    "jupyter": {},
    "notebookId": "648f9cdd02479f749d2849c2",
    "runtime": {
     "execution_status": null,
     "status": "default"
    },
    "slideshow": {
     "slide_type": "slide"
    },
    "tags": []
   },
   "source": [
    "### 3. 两种风速表达的差异"
   ]
  },
  {
   "cell_type": "markdown",
   "metadata": {
    "id": "2030459467D243B890E99FDD46AA23ED",
    "jupyter": {},
    "notebookId": "648f9cdd02479f749d2849c2",
    "runtime": {
     "execution_status": null,
     "status": "default"
    },
    "slideshow": {
     "slide_type": "slide"
    },
    "tags": []
   },
   "source": [
    "乍一看，没啥区别，但真的完全一样吗？我们通过作差的方式，绘制一下两者差异的分布，可以看出还是存在一定差异的，但是数值在1e-6，远远小于我们风速本身的数值。"
   ]
  },
  {
   "cell_type": "code",
   "execution_count": null,
   "metadata": {
    "collapsed": false,
    "id": "E093AFA26C4A4543A786FCE1CD2A41BA",
    "jupyter": {
     "outputs_hidden": false
    },
    "notebookId": "648f9cdd02479f749d2849c2",
    "slideshow": {
     "slide_type": "slide"
    },
    "tags": []
   },
   "outputs": [],
   "source": [
    "# 绘制wspd10和uvmet10_wspd的差异\n",
    "(wspd10-uvmet10_wspd).plot()"
   ]
  },
  {
   "cell_type": "markdown",
   "metadata": {
    "id": "EC3D97874C714C79B8ACB6CFEB41553D",
    "jupyter": {},
    "notebookId": "648f9cdd02479f749d2849c2",
    "runtime": {
     "execution_status": null,
     "status": "default"
    },
    "slideshow": {
     "slide_type": "slide"
    },
    "tags": []
   },
   "source": [
    "尽管风速上的差异数量级非常小，但还存在风向上的差异。我们通常都是在地理坐标系上画图的，因此用`uvmet10_wspd_wdir`更合适些。  \n",
    "\n",
    "![Image Name](pic/wspd.png)  \n",
    "\n",
    "如果想深入了解两者的差异，推荐阅读：https://www-k12.atmos.washington.edu/~ovens/wrfwinds.html  "
   ]
  },
  {
   "cell_type": "markdown",
   "metadata": {
    "id": "63B922416AC14110ACF71F2D555A35EA",
    "jupyter": {},
    "notebookId": "648f9cdd02479f749d2849c2",
    "runtime": {
     "execution_status": null,
     "status": "default"
    },
    "slideshow": {
     "slide_type": "slide"
    },
    "tags": []
   },
   "source": [
    "### 4. 网格坐标风速转为地理坐标风速"
   ]
  },
  {
   "cell_type": "markdown",
   "metadata": {
    "id": "AA933F69CE3E4ECBB7CCBC00D6B7CA6F",
    "jupyter": {},
    "notebookId": "648f9cdd02479f749d2849c2",
    "runtime": {
     "execution_status": null,
     "status": "default"
    },
    "slideshow": {
     "slide_type": "slide"
    },
    "tags": []
   },
   "source": [
    "使用`uvmet10_wspd_wdir`可以直接提取地理坐标上的风速，但是我们想要自己实现网格坐标风速到地理坐标风速上的转换，需要怎么实现呢？  \n",
    "> **uvmet函数：https://wrf-python.readthedocs.io/en/latest/user_api/generated/wrf.uvmet.html**"
   ]
  },
  {
   "cell_type": "code",
   "execution_count": null,
   "metadata": {
    "collapsed": false,
    "id": "B50979E30BA54FF1BB89CF8FFA86D339",
    "jupyter": {
     "outputs_hidden": false
    },
    "notebookId": "648f9cdd02479f749d2849c2",
    "slideshow": {
     "slide_type": "slide"
    },
    "tags": []
   },
   "outputs": [],
   "source": [
    "# 导入模块\n",
    "from wrf import uvmet\n",
    "# 获取网格坐标上的1Om高度的UV风\n",
    "u10 = getvar(wrf_file, 'U10', timeidx=0)\n",
    "v10 = getvar(wrf_file, 'V10', timeidx=0)\n",
    "# 计算地理坐标系上的1Om高度的UV风\n",
    "cen_lat, cen_lon = wrf_file.CEN_LAT, wrf_file.CEN_LON\n",
    "uvmet10 = uvmet(u10, v10, u10.XLONG, u10.XLAT, cen_lon, cone=1, meta=True, units='m s-1')\n",
    "uvmet10"
   ]
  },
  {
   "cell_type": "code",
   "execution_count": null,
   "metadata": {
    "collapsed": false,
    "id": "7B952737D576431C92FA02F357FC2118",
    "jupyter": {
     "outputs_hidden": false
    },
    "notebookId": "648f9cdd02479f749d2849c2",
    "slideshow": {
     "slide_type": "slide"
    },
    "tags": []
   },
   "outputs": [],
   "source": [
    "# 纬向风的快速预览\n",
    "uvmet10[0].plot()"
   ]
  },
  {
   "cell_type": "code",
   "execution_count": null,
   "metadata": {
    "collapsed": false,
    "id": "1BA5FBE75B22487084CF42E0BD7D8E75",
    "jupyter": {
     "outputs_hidden": false
    },
    "notebookId": "648f9cdd02479f749d2849c2",
    "slideshow": {
     "slide_type": "slide"
    },
    "tags": []
   },
   "outputs": [],
   "source": [
    "# 经向风的快速预览\n",
    "uvmet10[1].plot()"
   ]
  },
  {
   "cell_type": "markdown",
   "metadata": {
    "id": "C0EEFAE0CA564BA682DF67AADB0FAC01",
    "jupyter": {},
    "notebookId": "648f9cdd02479f749d2849c2",
    "runtime": {
     "execution_status": null,
     "status": "default"
    },
    "slideshow": {
     "slide_type": "slide"
    },
    "tags": []
   },
   "source": [
    "**u为正，表示西风，从西边吹来的风。v为正，表示南风，从南边从来的风。**"
   ]
  },
  {
   "cell_type": "code",
   "execution_count": null,
   "metadata": {
    "collapsed": false,
    "id": "22C6EE36EC2F4CD99CB2D5DE4F4616E4",
    "jupyter": {
     "outputs_hidden": false
    },
    "notebookId": "648f9cdd02479f749d2849c2",
    "slideshow": {
     "slide_type": "slide"
    },
    "tags": []
   },
   "outputs": [],
   "source": [
    "# 风向的快速预览\n",
    "uvmet10_wspd_wdir[1].plot()"
   ]
  },
  {
   "cell_type": "markdown",
   "metadata": {
    "id": "A3B385FF01774933B98AE424C036CC25",
    "jupyter": {},
    "notebookId": "648f9cdd02479f749d2849c2",
    "runtime": {
     "execution_status": null,
     "status": "default"
    },
    "slideshow": {
     "slide_type": "slide"
    },
    "tags": []
   },
   "source": [
    "**风向是按正北方向起算的，0度表示北风，90度表示东风。**  \n",
    "  \n",
    "![Image Name](pic/fx.png)  \n"
   ]
  },
  {
   "cell_type": "markdown",
   "metadata": {
    "id": "B049F9B37D464A45BA5309E7F7C4095F",
    "jupyter": {},
    "notebookId": "648f9cdd02479f749d2849c2",
    "runtime": {
     "execution_status": null,
     "status": "default"
    },
    "slideshow": {
     "slide_type": "slide"
    },
    "tags": []
   },
   "source": [
    "## 三、如何计算风速数据"
   ]
  },
  {
   "cell_type": "markdown",
   "metadata": {
    "id": "95FA889E124C495D8AA49341E41159D2",
    "jupyter": {},
    "notebookId": "648f9cdd02479f749d2849c2",
    "runtime": {
     "execution_status": null,
     "status": "default"
    },
    "slideshow": {
     "slide_type": "slide"
    },
    "tags": []
   },
   "source": [
    "风速是一个矢量，不仅包含大小，还具有方向。因此，**计算风速既涉及大小的计算，又涉及方向的计算**。"
   ]
  },
  {
   "cell_type": "markdown",
   "metadata": {
    "id": "4EAC5D614D60413C9E6947F348AC1D72",
    "jupyter": {},
    "notebookId": "648f9cdd02479f749d2849c2",
    "runtime": {
     "execution_status": null,
     "status": "default"
    },
    "slideshow": {
     "slide_type": "slide"
    },
    "tags": []
   },
   "source": [
    "### UV分量转为风速风向"
   ]
  },
  {
   "cell_type": "markdown",
   "metadata": {
    "id": "2E9564B0121345CDAAD37D46670C6FD9",
    "jupyter": {},
    "notebookId": "648f9cdd02479f749d2849c2",
    "runtime": {
     "execution_status": null,
     "status": "default"
    },
    "slideshow": {
     "slide_type": "slide"
    },
    "tags": []
   },
   "source": [
    "> **metpy.calc.wind_direction()：https://unidata.github.io/MetPy/latest/api/generated/metpy.calc.wind_direction.html**  \n",
    "    \n",
    "    \n",
    "![Image Name](pic/wind_direction.png)    \n",
    "    \n",
    "    \n",
    "**我们使用wind_direction()时需要注意参数convention**，当convention默认为from时，它遵循的是气象惯例，当convention默认为to时，它遵循的是海洋惯例。由于海洋惯例和气象惯例是相反的，所以在使用的过程中需要注意。"
   ]
  },
  {
   "cell_type": "code",
   "execution_count": null,
   "metadata": {
    "collapsed": false,
    "id": "504AACE8150F46B6AE28B3679EF2ABCE",
    "jupyter": {
     "outputs_hidden": false
    },
    "notebookId": "648f9cdd02479f749d2849c2",
    "slideshow": {
     "slide_type": "slide"
    },
    "tags": []
   },
   "outputs": [],
   "source": [
    "# 提取 WRF 模拟的三维风场，通过[0]进行索引仅提取其中一个高度层的uv风速\n",
    "ua = getvar(wrf_file, 'ua', timeidx=0)[0]\n",
    "va = getvar(wrf_file, 'va', timeidx=0)[0]"
   ]
  },
  {
   "cell_type": "code",
   "execution_count": null,
   "metadata": {
    "collapsed": false,
    "id": "7B64DDCB042B41918EAED0247A5D74F6",
    "jupyter": {
     "outputs_hidden": false
    },
    "notebookId": "648f9cdd02479f749d2849c2",
    "slideshow": {
     "slide_type": "slide"
    },
    "tags": []
   },
   "outputs": [],
   "source": [
    "ua"
   ]
  },
  {
   "cell_type": "code",
   "execution_count": null,
   "metadata": {
    "collapsed": false,
    "id": "7EEA8CFC9F654BDD9CDEC89E705E6CC4",
    "jupyter": {
     "outputs_hidden": false
    },
    "notebookId": "648f9cdd02479f749d2849c2",
    "slideshow": {
     "slide_type": "slide"
    },
    "tags": []
   },
   "outputs": [],
   "source": [
    "va"
   ]
  },
  {
   "cell_type": "markdown",
   "metadata": {
    "id": "2A1550D722E84E21B885698F30870670",
    "jupyter": {},
    "notebookId": "648f9cdd02479f749d2849c2",
    "runtime": {
     "execution_status": null,
     "status": "default"
    },
    "slideshow": {
     "slide_type": "slide"
    },
    "tags": []
   },
   "source": [
    "观察 `ua` 和 `va` 两个 DataArray ，其 `Attribute` （属性） 中包含了物理单位 `units : m s-1`。这样我们就能用 `metpy` 直接进行计算，无需再申明物理单位。"
   ]
  },
  {
   "cell_type": "code",
   "execution_count": null,
   "metadata": {
    "collapsed": false,
    "id": "EF52FF3C052C47B39BE9BA4FF8AF65C7",
    "jupyter": {
     "outputs_hidden": false
    },
    "notebookId": "648f9cdd02479f749d2849c2",
    "slideshow": {
     "slide_type": "slide"
    },
    "tags": []
   },
   "outputs": [],
   "source": [
    "# 导入模块\n",
    "import metpy.calc as mpcalc\n",
    "# 根据 uv 分量计算风速\n",
    "ws = mpcalc.wind_speed(ua, va)\n",
    "ws"
   ]
  },
  {
   "cell_type": "markdown",
   "metadata": {
    "id": "62FA3FD68ABD4ABF9A9C700CF8825F9A",
    "jupyter": {},
    "notebookId": "648f9cdd02479f749d2849c2",
    "runtime": {
     "execution_status": null,
     "status": "default"
    },
    "slideshow": {
     "slide_type": "slide"
    },
    "tags": []
   },
   "source": [
    "### ✍ 小练习：比较convention参数对风向计算的影响  \n",
    "\n",
    "convention参数分别设置为`from`和`to`，比较风向计算的结果差异"
   ]
  },
  {
   "cell_type": "code",
   "execution_count": null,
   "metadata": {
    "collapsed": false,
    "id": "E454F8E7814B4807A2B335B8E4FCBFC4",
    "jupyter": {
     "outputs_hidden": false
    },
    "notebookId": "648f9cdd02479f749d2849c2",
    "slideshow": {
     "slide_type": "slide"
    },
    "tags": []
   },
   "outputs": [],
   "source": [
    "### （你的代码）###\n",
    "\n"
   ]
  },
  {
   "cell_type": "markdown",
   "metadata": {
    "id": "43C2409ED34E4C379D4DEED77806FB18",
    "jupyter": {},
    "notebookId": "648f9cdd02479f749d2849c2",
    "runtime": {
     "execution_status": null,
     "status": "default"
    },
    "slideshow": {
     "slide_type": "slide"
    },
    "tags": []
   },
   "source": [
    "### ✍ 小练习：风速风向转为UV分量  \n",
    "\n",
    "提示：可以使用[metpy.calc.wind_components](https://unidata.github.io/MetPy/latest/api/generated/metpy.calc.wind_components.html)函数实现。"
   ]
  },
  {
   "cell_type": "code",
   "execution_count": null,
   "metadata": {
    "collapsed": false,
    "id": "A8F03146EA664BBB8AE4612F2536822D",
    "jupyter": {
     "outputs_hidden": false
    },
    "notebookId": "648f9cdd02479f749d2849c2",
    "slideshow": {
     "slide_type": "slide"
    },
    "tags": []
   },
   "outputs": [],
   "source": [
    "### （你的代码）###\n",
    "\n"
   ]
  },
  {
   "cell_type": "markdown",
   "metadata": {
    "id": "28E1756BBD8741B3B826D54936B52C44",
    "jupyter": {},
    "notebookId": "648f9cdd02479f749d2849c2",
    "runtime": {
     "execution_status": null,
     "status": "default"
    },
    "slideshow": {
     "slide_type": "slide"
    },
    "tags": []
   },
   "source": [
    "## 四、绘制风速数据的三种形式"
   ]
  },
  {
   "cell_type": "markdown",
   "metadata": {
    "id": "E9B210576BCE40E3870752E2CE36E000",
    "jupyter": {},
    "notebookId": "648f9cdd02479f749d2849c2",
    "runtime": {
     "execution_status": null,
     "status": "default"
    },
    "slideshow": {
     "slide_type": "slide"
    },
    "tags": []
   },
   "source": [
    "由于风速数据的特殊性和复杂性，我们的可视化方式也更为多样，可以用**箭头图（矢量图）、风羽图（风杆图）、流线图**三种形式~"
   ]
  },
  {
   "cell_type": "markdown",
   "metadata": {
    "id": "E0460AADAD694DDAAD8A296B4AD297A3",
    "jupyter": {},
    "notebookId": "648f9cdd02479f749d2849c2",
    "runtime": {
     "execution_status": null,
     "status": "default"
    },
    "slideshow": {
     "slide_type": "slide"
    },
    "tags": []
   },
   "source": [
    "### 形式1：箭头图（矢量图）"
   ]
  },
  {
   "cell_type": "markdown",
   "metadata": {
    "id": "01852AE2FDA141EB9A3CBA44F805EE76",
    "jupyter": {},
    "notebookId": "648f9cdd02479f749d2849c2",
    "runtime": {
     "execution_status": null,
     "status": "default"
    },
    "slideshow": {
     "slide_type": "slide"
    },
    "tags": []
   },
   "source": [
    "箭头图（矢量图）是非常容易直观，大众普遍都能接受的一种表示风场的形式。**箭头大小表示风速大小，箭头方向表示风速方向。**  \n",
    "  \n",
    "Matplotlib提供了plt.quiver和plt.quiverkey两个函数，前者用于画箭头，后者用于标注箭头图例（类似于比例尺的效果），Cartopy中也继承了这两个方法。  \n",
    "  \n",
    "> **plt.quiver()：https://matplotlib.org/stable/api/_as_gen/matplotlib.pyplot.quiver.html**    \n",
    "> **plt.quiverkey()：https://matplotlib.org/stable/api/_as_gen/matplotlib.pyplot.quiverkey.html**    \n",
    "   \n",
    "   \n",
    "控制箭头的重要参数：  \n",
    "![Image Name](pic/control_arrow.png)    \n",
    "  \n",
    "  \n",
    "推荐阅读：[炸鸡人博客 | Matplotlib 系列：图解 quiver](https://zhajiman.github.io/post/matplotlib_quiver/)"
   ]
  },
  {
   "cell_type": "code",
   "execution_count": null,
   "metadata": {
    "collapsed": false,
    "id": "52FE7AE3805A4651B0B41EEAB0D39264",
    "jupyter": {
     "outputs_hidden": false
    },
    "notebookId": "648f9cdd02479f749d2849c2",
    "slideshow": {
     "slide_type": "slide"
    },
    "tags": []
   },
   "outputs": [],
   "source": [
    "# 导入模块\n",
    "from wrf import to_np, getvar, uvmet, latlon_coords, geo_bounds, get_cartopy, cartopy_xlim, cartopy_ylim\n",
    "import numpy as np\n",
    "import pandas as pd\n",
    "from datetime import datetime\n",
    "import xarray as xr\n",
    "from metpy.units import units\n",
    "from metpy.calc import height_to_geopotential, geopotential_to_height\n",
    "import matplotlib.pyplot as plt\n",
    "from matplotlib.cm import get_cmap\n",
    "from matplotlib.colors import from_levels_and_colors\n",
    "import cartopy.crs as ccrs\n",
    "import cartopy.feature as cfeature\n",
    "import cartopy.io.shapereader as shpreader\n",
    "from cartopy.feature import NaturalEarthFeature\n",
    "from cartopy.mpl.ticker import LongitudeFormatter, LatitudeFormatter\n",
    "from cartopy.mpl.gridliner import LATITUDE_FORMATTER, LONGITUDE_FORMATTER\n",
    "import shapely.geometry as sgeom\n",
    "import cmaps\n",
    "from glob import glob\n",
    "from copy import copy"
   ]
  },
  {
   "cell_type": "code",
   "execution_count": null,
   "metadata": {
    "collapsed": false,
    "hide_input": true,
    "id": "AD26AB4E5CDD45D09BC491A3265BFC67",
    "jupyter": {
     "outputs_hidden": false
    },
    "notebookId": "648f9cdd02479f749d2849c2",
    "slideshow": {
     "slide_type": "slide"
    },
    "tags": []
   },
   "outputs": [],
   "source": [
    "'''\n",
    "Andrew Dawson 提供了解决方法: https://gist.github.com/ajdawson/dd536f786741e987ae4e\n",
    "'''\n",
    "\n",
    "def find_side(ls, side):\n",
    "    \"\"\"\n",
    "    Given a shapely LineString which is assumed to be rectangular, return the\n",
    "    line corresponding to a given side of the rectangle.\n",
    "    \"\"\"\n",
    "    minx, miny, maxx, maxy = ls.bounds\n",
    "    points = {'left': [(minx, miny), (minx, maxy)],\n",
    "              'right': [(maxx, miny), (maxx, maxy)],\n",
    "              'bottom': [(minx, miny), (maxx, miny)],\n",
    "              'top': [(minx, maxy), (maxx, maxy)],}\n",
    "    return sgeom.LineString(points[side])\n",
    "\n",
    "def lambert_xticks(ax, ticks):\n",
    "    \"\"\"Draw ticks on the bottom x-axis of a Lambert Conformal projection.\"\"\"\n",
    "    te = lambda xy: xy[0]\n",
    "    lc = lambda t, n, b: np.vstack((np.zeros(n) + t, np.linspace(b[2], b[3], n))).T\n",
    "    xticks, xticklabels = _lambert_ticks(ax, ticks, 'bottom', lc, te)\n",
    "    ax.xaxis.tick_bottom()\n",
    "    ax.set_xticks(xticks)\n",
    "    ax.set_xticklabels([ax.xaxis.get_major_formatter()(xtick) for xtick in xticklabels])\n",
    "\n",
    "def lambert_yticks(ax, ticks):\n",
    "    \"\"\"Draw ricks on the left y-axis of a Lamber Conformal projection.\"\"\"\n",
    "    te = lambda xy: xy[1]\n",
    "    lc = lambda t, n, b: np.vstack((np.linspace(b[0], b[1], n), np.zeros(n) + t)).T\n",
    "    yticks, yticklabels = _lambert_ticks(ax, ticks, 'left', lc, te)\n",
    "    ax.yaxis.tick_left()\n",
    "    ax.set_yticks(yticks)\n",
    "    ax.set_yticklabels([ax.yaxis.get_major_formatter()(ytick) for ytick in yticklabels])\n",
    "\n",
    "def _lambert_ticks(ax, ticks, tick_location, line_constructor, tick_extractor):\n",
    "    \"\"\"Get the tick locations and labels for an axis of a Lambert Conformal projection.\"\"\"\n",
    "    outline_patch = sgeom.LineString(ax.outline_patch.get_path().vertices.tolist())\n",
    "    axis = find_side(outline_patch, tick_location)\n",
    "    n_steps = 30\n",
    "    extent = ax.get_extent(ccrs.PlateCarree())\n",
    "    _ticks = []\n",
    "    for t in ticks:\n",
    "        xy = line_constructor(t, n_steps, extent)\n",
    "        proj_xyz = ax.projection.transform_points(ccrs.Geodetic(), xy[:, 0], xy[:, 1])\n",
    "        xyt = proj_xyz[..., :2]\n",
    "        ls = sgeom.LineString(xyt.tolist())\n",
    "        locs = axis.intersection(ls)\n",
    "        if not locs:\n",
    "            tick = [None]\n",
    "        else:\n",
    "            tick = tick_extractor(locs.xy)\n",
    "        _ticks.append(tick[0])\n",
    "    # Remove ticks that aren't visible: \n",
    "    ticklabels = copy(ticks)\n",
    "    while True:\n",
    "        try:\n",
    "            index = _ticks.index(None)\n",
    "        except ValueError:\n",
    "            break\n",
    "        _ticks.pop(index)\n",
    "        ticklabels.pop(index)\n",
    "    return _ticks, ticklabels"
   ]
  },
  {
   "cell_type": "code",
   "execution_count": null,
   "metadata": {
    "collapsed": false,
    "id": "9D65ED999F6E42A2A5A3C3AE037E79F6",
    "jupyter": {
     "outputs_hidden": false
    },
    "notebookId": "648f9cdd02479f749d2849c2",
    "slideshow": {
     "slide_type": "slide"
    },
    "tags": []
   },
   "outputs": [],
   "source": [
    "# 提取WRF模拟的经纬度数组\n",
    "lats, lons = latlon_coords(u10)\n",
    "# 提取WRF模拟的投影设置\n",
    "wrf_proj = get_cartopy(u10)"
   ]
  },
  {
   "cell_type": "code",
   "execution_count": null,
   "metadata": {
    "collapsed": false,
    "id": "A0F58D47B6304C759355A58D3C73A75E",
    "jupyter": {
     "outputs_hidden": false
    },
    "notebookId": "648f9cdd02479f749d2849c2",
    "slideshow": {
     "slide_type": "slide"
    },
    "tags": []
   },
   "outputs": [],
   "source": [
    "# 创建画布\n",
    "fig = plt.figure(figsize=(10,8))\n",
    "# 设置地图投影\n",
    "ax = plt.axes(projection=wrf_proj)\n",
    "# 设置地图范围\n",
    "ax.set_xlim(cartopy_xlim(u10))\n",
    "ax.set_ylim(cartopy_ylim(u10))\n",
    "\n",
    "# 读取国界线\n",
    "province = shpreader.Reader('./dataset/中国地图/China_provinces/China_provinces.shp')\n",
    "# 读取九段线\n",
    "nineline = shpreader.Reader('./dataset/中国地图/China_10-dash_line/China_10-dash_line.shp')\n",
    "# 绘制国界线\n",
    "ax.add_geometries(province.geometries(), \n",
    "                  crs=ccrs.PlateCarree(), \n",
    "                  linewidth=0.5, \n",
    "                  edgecolor='k',\n",
    "                  facecolor='none',\n",
    "                  zorder=2)\n",
    "# 绘制九段线\n",
    "ax.add_geometries(nineline.geometries(), \n",
    "                  crs=ccrs.PlateCarree(), \n",
    "                  linewidth=0.5,\n",
    "                  color='k',\n",
    "                  zorder=2)\n",
    "\n",
    "# 绘制风速值（pcolormesh方法进行格点绘制）\n",
    "im = ax.pcolormesh(to_np(lons), \n",
    "                   to_np(lats), \n",
    "                   to_np(ws), \n",
    "                   vmin=0, \n",
    "                   vmax=60, \n",
    "                   cmap=cmaps.MPL_BuPu, \n",
    "                   transform=ccrs.PlateCarree())\n",
    "\n",
    "# 为风速值添加colorbar\n",
    "cbar = plt.colorbar(im, ax=ax, extend='max', shrink=1)\n",
    "cbar.set_label('Windspeed (m/s)', fontdict={'size':20})\n",
    "cbar.ax.tick_params(labelsize=20)\n",
    "\n",
    "# 绘制箭头\n",
    "Q = ax.quiver(to_np(lons), to_np(lats), \n",
    "              to_np(ua), to_np(va), \n",
    "              pivot='middle', \n",
    "              transform=ccrs.PlateCarree(), \n",
    "              regrid_shape=20)\n",
    "\n",
    "# 绘制箭头图例\n",
    "qk = ax.quiverkey(Q, \n",
    "                  0.8, 1.02,                  \n",
    "                  30, '30 m/s', \n",
    "                  labelpos='E',\n",
    "                  coordinates='axes',\n",
    "                  fontproperties={'size':15})\n",
    "\n",
    "# 添加经纬度网格线\n",
    "ax.gridlines(color='black', linestyle='dotted')\n",
    "# 添加经纬度标签\n",
    "xticks = list(np.arange(100,140,2))\n",
    "yticks = list(np.arange(20,40,2))\n",
    "fig.canvas.draw()\n",
    "ax.xaxis.set_major_formatter(LONGITUDE_FORMATTER) \n",
    "ax.yaxis.set_major_formatter(LATITUDE_FORMATTER)\n",
    "lambert_xticks(ax, xticks)\n",
    "lambert_yticks(ax, yticks)\n",
    "\n",
    "# 添加标题\n",
    "plt.title(str(u10.Time.values)[0:16]+'(UTC)', loc='left', fontsize=15)\n",
    "plt.show()"
   ]
  },
  {
   "cell_type": "markdown",
   "metadata": {
    "id": "D581BD7248FC4B988F1015CCB17F1A3E",
    "jupyter": {},
    "notebookId": "648f9cdd02479f749d2849c2",
    "runtime": {
     "execution_status": null,
     "status": "default"
    },
    "slideshow": {
     "slide_type": "slide"
    },
    "tags": []
   },
   "source": [
    "### ✍小练习：调整regrid_shape参数"
   ]
  },
  {
   "cell_type": "markdown",
   "metadata": {
    "id": "51F5276651504A638E35E3FC78A06CCD",
    "jupyter": {},
    "notebookId": "648f9cdd02479f749d2849c2",
    "runtime": {
     "execution_status": null,
     "status": "default"
    },
    "slideshow": {
     "slide_type": "slide"
    },
    "tags": []
   },
   "source": [
    "Cartopy 还提供了一个非常便利的参数`regrid_shape`，可以将矢量场重新插值到投影坐标系中的规则网格上，以达到**规整矢量位置或稀疏箭头密度的目的**。  \n",
    "> 参考：https://scitools.org.uk/cartopy/docs/latest/gallery/vector_data/regridding_arrows.html  \n",
    "  \n",
    "![Image Name](pic/regrid_shape.png)  \n"
   ]
  },
  {
   "cell_type": "markdown",
   "metadata": {
    "id": "1EF49417202D4A3F9C8B3AA6D2EEC74E",
    "jupyter": {},
    "notebookId": "648f9cdd02479f749d2849c2",
    "runtime": {
     "execution_status": null,
     "status": "default"
    },
    "slideshow": {
     "slide_type": "slide"
    },
    "tags": []
   },
   "source": [
    "### 形式二：风羽图（风杆图）"
   ]
  },
  {
   "cell_type": "markdown",
   "metadata": {
    "id": "1B086A9C9580455C8F0FECA3FAC4C019",
    "jupyter": {},
    "notebookId": "648f9cdd02479f749d2849c2",
    "runtime": {
     "execution_status": null,
     "status": "default"
    },
    "slideshow": {
     "slide_type": "slide"
    },
    "tags": []
   },
   "source": [
    "风羽图（风杆图）是一种专业的风场绘制方式，在论文里会经常出现，在业务中也有广泛应用。但需要注意的是**风杆表示的风速大小**。"
   ]
  },
  {
   "cell_type": "code",
   "execution_count": null,
   "metadata": {
    "collapsed": false,
    "id": "16E15B85EC0046B7AEC25AE77D643969",
    "jupyter": {
     "outputs_hidden": false
    },
    "notebookId": "648f9cdd02479f749d2849c2",
    "slideshow": {
     "slide_type": "slide"
    },
    "tags": []
   },
   "outputs": [],
   "source": [
    "# 创建画布\n",
    "fig = plt.figure(figsize=(10,8))\n",
    "# 设置地图投影\n",
    "ax = plt.axes(projection=wrf_proj)\n",
    "# 设置地图范围\n",
    "ax.set_xlim(cartopy_xlim(u10))\n",
    "ax.set_ylim(cartopy_ylim(u10))\n",
    "\n",
    "# 读取国界线和九段线\n",
    "province = shpreader.Reader('./dataset/中国地图/China_provinces/China_provinces.shp')\n",
    "nineline = shpreader.Reader('./dataset/中国地图/China_10-dash_line/China_10-dash_line.shp')\n",
    "# 绘制国界线和九段线\n",
    "ax.add_geometries(province.geometries(), \n",
    "                  crs=ccrs.PlateCarree(), \n",
    "                  linewidth=0.5, \n",
    "                  edgecolor='k',\n",
    "                  facecolor='none',\n",
    "                  zorder=2)\n",
    "ax.add_geometries(nineline.geometries(), \n",
    "                  crs=ccrs.PlateCarree(), \n",
    "                  linewidth=0.5,\n",
    "                  color='k',\n",
    "                  zorder=2)\n",
    "\n",
    "# 绘制风速值\n",
    "im = ax.pcolormesh(to_np(lons), \n",
    "                   to_np(lats), \n",
    "                   to_np(ws), \n",
    "                   vmin=0, \n",
    "                   vmax=60, \n",
    "                   cmap=cmaps.MPL_BuPu, \n",
    "                   transform=ccrs.PlateCarree())\n",
    "\n",
    "# 为风速值添加colorbar\n",
    "cbar = plt.colorbar(im, ax=ax, extend='max', shrink=1)\n",
    "cbar.set_label('Windspeed (m/s)', fontdict={'size':20})\n",
    "cbar.ax.tick_params(labelsize=20)\n",
    "\n",
    "\n",
    "# 绘制风羽\n",
    "# ::25表示数据抽稀，每隔25个格点绘制风羽\n",
    "# dict(half=2, full=4, flag=20)表示短线代表风速2m/s，长线代表风速4m/s，旗帜代表风速20m/s\n",
    "ax.barbs(to_np(lons)[::25,::25], to_np(lats)[::25,::25], \n",
    "         to_np(ua)[::25,::25], to_np(va)[::25,::25], \n",
    "         length=8, \n",
    "         linewidth=0.5, \n",
    "         barb_increments=dict(half=2, full=4, flag=20),\n",
    "         transform=ccrs.PlateCarree())\n",
    "\n",
    "\n",
    "# 添加经纬度网格线\n",
    "ax.gridlines(color='black', linestyle='dotted')\n",
    "# 添加经纬度标签\n",
    "xticks = list(np.arange(100,140,2))\n",
    "yticks = list(np.arange(20,40,2))\n",
    "fig.canvas.draw()\n",
    "ax.xaxis.set_major_formatter(LONGITUDE_FORMATTER) \n",
    "ax.yaxis.set_major_formatter(LATITUDE_FORMATTER)\n",
    "lambert_xticks(ax, xticks)\n",
    "lambert_yticks(ax, yticks)\n",
    "\n",
    "# 添加标题\n",
    "plt.title(str(u10.Time.values)[0:16]+'(UTC)', loc='left', fontsize=15)\n",
    "plt.show()"
   ]
  },
  {
   "cell_type": "markdown",
   "metadata": {
    "id": "89103ABB47E7456CBD81F62DE1DFE3D3",
    "jupyter": {},
    "notebookId": "648f9cdd02479f749d2849c2",
    "runtime": {
     "execution_status": null,
     "status": "default"
    },
    "slideshow": {
     "slide_type": "slide"
    },
    "tags": []
   },
   "source": [
    "#### 小练习：自定义风羽"
   ]
  },
  {
   "cell_type": "markdown",
   "metadata": {
    "id": "4DEC06A134254E91A40AF5BCFCB4D0E9",
    "jupyter": {},
    "notebookId": "648f9cdd02479f749d2849c2",
    "runtime": {
     "execution_status": null,
     "status": "default"
    },
    "slideshow": {
     "slide_type": "slide"
    },
    "tags": []
   },
   "source": [
    "`barb_increments`参数非常重要，直接决定了风羽所表示的风速大小。  \n",
    "  \n",
    "`dict(half=2, full=4, flag=20)`表示**短线代表风速2m/s，长线代表风速4m/s，旗帜代表风速20m/s**。  \n",
    "  \n",
    "  \n",
    "但是，如果我们想设置4类属性，例如：短线代表风速2m/s，长线代表风速4m/s，空心三角代表风速20m/s，实心三角代表风速50m/s。这样是否可以实现呢？  \n",
    "  \n",
    "> 推荐阅读：[Matplotlib风羽自定义](https://www.cnblogs.com/kallan/p/6279932.html) "
   ]
  },
  {
   "cell_type": "code",
   "execution_count": null,
   "metadata": {
    "collapsed": false,
    "id": "AD09EC54CA1E4D039309E4594A14E31B",
    "jupyter": {
     "outputs_hidden": false
    },
    "notebookId": "648f9cdd02479f749d2849c2",
    "slideshow": {
     "slide_type": "slide"
    },
    "tags": []
   },
   "outputs": [],
   "source": [
    "### （你的代码）###\n",
    "\n"
   ]
  },
  {
   "cell_type": "markdown",
   "metadata": {
    "id": "4CFD5C45B0D14EAA81D6695FAF6936BD",
    "jupyter": {},
    "notebookId": "648f9cdd02479f749d2849c2",
    "runtime": {
     "execution_status": null,
     "status": "default"
    },
    "slideshow": {
     "slide_type": "slide"
    },
    "tags": []
   },
   "source": [
    "### 形式三：流线图"
   ]
  },
  {
   "cell_type": "markdown",
   "metadata": {
    "id": "F745D22272FC40A18BC2411857B293F8",
    "jupyter": {},
    "notebookId": "648f9cdd02479f749d2849c2",
    "runtime": {
     "execution_status": null,
     "status": "default"
    },
    "slideshow": {
     "slide_type": "slide"
    },
    "tags": []
   },
   "source": [
    "matplotlib绘图要求数据是列表或者`numpy.array()`格式。`xarray.Dataarray()`格式可能会在`steamplot`、`barbs`、`quiver`等绘制中报错，需要用**values或者to_np函数**将数据转为`numpy.array`格式。  \n",
    "  \n",
    "> **streamplot函数：https://matplotlib.org/stable/gallery/images_contours_and_fields/plot_streamplot.html**  \n",
    "\n",
    "\n",
    "![Image Name](pic/lxt.png)  \n",
    "\n",
    "\n",
    "流线图的绘制逻辑与之前的一样的，这部分作为小练习啦~~  \n"
   ]
  },
  {
   "cell_type": "code",
   "execution_count": null,
   "metadata": {
    "collapsed": false,
    "id": "F4CB071984444AE997F59D0B88D5EF88",
    "jupyter": {
     "outputs_hidden": false
    },
    "notebookId": "648f9cdd02479f749d2849c2",
    "slideshow": {
     "slide_type": "slide"
    },
    "tags": []
   },
   "outputs": [],
   "source": [
    "### （你的代码）###\n",
    "\n"
   ]
  },
  {
   "cell_type": "markdown",
   "metadata": {
    "id": "B41EBD6E21E14ACE8060909305E6C5A1",
    "jupyter": {},
    "notebookId": "648f9cdd02479f749d2849c2",
    "runtime": {
     "execution_status": null,
     "status": "default"
    },
    "slideshow": {
     "slide_type": "slide"
    },
    "tags": []
   },
   "source": [
    "恭喜你完成了WRF后处理训练营第三关的学习材料，对风速数据有了更深入的认识，**掌握UV分量与风速风向之间转换**，并能够用**不同形式（风羽图、箭头图、流线图）** 来展示WRF模拟的风速数据。"
   ]
  },
  {
   "cell_type": "markdown",
   "metadata": {
    "id": "577FEE16118849CE91F8B25118197A37",
    "jupyter": {},
    "notebookId": "648f9cdd02479f749d2849c2",
    "runtime": {
     "execution_status": null,
     "status": "default"
    },
    "slideshow": {
     "slide_type": "slide"
    },
    "tags": []
   },
   "source": [
    "## 闯关题  \n",
    "\n",
    "### STEP1：根据要求完成题目"
   ]
  },
  {
   "cell_type": "markdown",
   "metadata": {
    "id": "BC7C5B4F966343779CF36746C199329A",
    "jupyter": {},
    "notebookId": "648f9cdd02479f749d2849c2",
    "runtime": {
     "execution_status": null,
     "status": "default"
    },
    "slideshow": {
     "slide_type": "slide"
    },
    "tags": []
   },
   "source": [
    "1.WRF模拟数据中的 **风**数据属于？  \n",
    "A. 矢量，瞬时量  \n",
    "B. 矢量，累积量  \n",
    "C. 标量，瞬时量  \n",
    "D. 标量，累积量  \n",
    "  \n",
    "2.绘制台风利奇马在**对流层低层和高层的风场**，它们分别是？  \n",
    "A. 低层顺时针，高层顺时针  \n",
    "B. 低层逆时针，高层逆时针  \n",
    "C. 低层逆时针，高层顺时针  \n",
    "D. 低层顺时针，高层逆时针  \n",
    "  \n",
    "3.从WRF模拟初始时刻2019-08-08_18_00_00（UTC）到2019-08-09_06_00_00（UTC），台风利奇马10m风速的最大值出现在哪一时次？（答案请转换为北京时间，格式例如：'08-09_06'）"
   ]
  },
  {
   "cell_type": "code",
   "execution_count": null,
   "metadata": {
    "collapsed": false,
    "id": "FE33D549A5ED4F5DB796B7B18E2300CB",
    "jupyter": {
     "outputs_hidden": false
    },
    "notebookId": "648f9cdd02479f749d2849c2",
    "slideshow": {
     "slide_type": "slide"
    },
    "tags": []
   },
   "outputs": [],
   "source": [
    "# 填入你的答案\n",
    "answer_1 = ''\n",
    "answer_2 = ''\n",
    "answer_3 = '' #格式例如：'08-09_06'"
   ]
  },
  {
   "cell_type": "markdown",
   "metadata": {
    "id": "BFDCDABD142A44A892C8A21596581E0E",
    "jupyter": {},
    "notebookId": "648f9cdd02479f749d2849c2",
    "runtime": {
     "execution_status": null,
     "status": "default"
    },
    "slideshow": {
     "slide_type": "slide"
    },
    "tags": []
   },
   "source": [
    "## ⚡ 下一关预告：  \n",
    "\n",
    "下一关我们将介绍如何计算WRF模拟的衍生变量，得到你最感兴趣的模拟变量~~"
   ]
  }
 ],
 "metadata": {
  "kernelspec": {
   "display_name": "Python 3 (ipykernel)",
   "language": "python",
   "name": "python3"
  },
  "language_info": {
   "codemirror_mode": {
    "name": "ipython",
    "version": 3
   },
   "file_extension": ".py",
   "mimetype": "text/x-python",
   "name": "python",
   "nbconvert_exporter": "python",
   "pygments_lexer": "ipython3",
   "version": "3.7.10"
  }
 },
 "nbformat": 4,
 "nbformat_minor": 4
}
