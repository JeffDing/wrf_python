{
 "cells": [
  {
   "cell_type": "markdown",
   "metadata": {
    "id": "AA6B8B1931F440F7AA37C424CC075DF4",
    "jupyter": {},
    "notebookId": "6490dd58bf6a19bd4c9df511",
    "runtime": {
     "execution_status": null,
     "status": "default"
    },
    "slideshow": {
     "slide_type": "slide"
    },
    "tags": []
   },
   "source": [
    "\n",
    "![ImageName](pic/title.jpg)  \n",
    "\n",
    "**作者：[lqy](https://www.heywhale.com/home/user/profile/5f27fd9633e1be002cc65a1d)** 华东师范大学气象学研究生、和鲸社区气象数据科学频道版主"
   ]
  },
  {
   "cell_type": "markdown",
   "metadata": {
    "id": "6C9712B99A8B4BBC82EA98EFF6AFFF0E",
    "jupyter": {},
    "notebookId": "6490dd58bf6a19bd4c9df511",
    "runtime": {
     "execution_status": null,
     "status": "default"
    },
    "slideshow": {
     "slide_type": "slide"
    },
    "tags": []
   },
   "source": [
    "🐋：本项目来自和鲸社区《[气象训练营⑦：WRF模式后处理](https://www.heywhale.com/home/competition/64478fec113e81a18dc70cd1)》活动，所有教案代码都可以一键跑通，你可以 fork 后在线在线运行、调试学习、完成作业练习。  \n",
    "\n",
    "学习过程中如果你遇到任何问题，欢迎使用搜索引擎，或在 [讨论区](https://www.heywhale.com/home/competition/forumlist/64478fec113e81a18dc70cd1) 中发帖提出，我们很乐意为你提供帮助。"
   ]
  },
  {
   "cell_type": "markdown",
   "metadata": {
    "id": "34410BBDD8BD428683497F400EE5EF06",
    "jupyter": {},
    "notebookId": "6490dd58bf6a19bd4c9df511",
    "runtime": {
     "execution_status": null,
     "status": "default"
    },
    "slideshow": {
     "slide_type": "slide"
    },
    "tags": []
   },
   "source": [
    "# 关卡六：绘制WRF模拟的天气图"
   ]
  },
  {
   "cell_type": "markdown",
   "metadata": {
    "id": "29F7583871834DB781A41F2F1B3B43F3",
    "jupyter": {},
    "notebookId": "6490dd58bf6a19bd4c9df511",
    "runtime": {
     "execution_status": null,
     "status": "default"
    },
    "slideshow": {
     "slide_type": "slide"
    },
    "tags": []
   },
   "source": [
    "天气分析中，天气图是非常重要的。天气图包含了许多物理要素，**如风向、气压、温度、湿度、降水等，这些要素是天气预报的基础**。天气图的分析可以帮助预报员更好地**理解天气系统的演变和发展趋势，从而提高预报的准确性**。"
   ]
  },
  {
   "cell_type": "markdown",
   "metadata": {
    "id": "27132FD5F2F34CAA812A1148EBC8DE90",
    "jupyter": {},
    "notebookId": "6490dd58bf6a19bd4c9df511",
    "runtime": {
     "execution_status": null,
     "status": "default"
    },
    "slideshow": {
     "slide_type": "slide"
    },
    "tags": []
   },
   "source": [
    "## 一、什么是天气图"
   ]
  },
  {
   "cell_type": "markdown",
   "metadata": {
    "id": "C6EF8414EF0C4CB2BB29DFA673B963E4",
    "jupyter": {},
    "notebookId": "6490dd58bf6a19bd4c9df511",
    "runtime": {
     "execution_status": null,
     "status": "default"
    },
    "slideshow": {
     "slide_type": "slide"
    },
    "tags": []
   },
   "source": [
    "天气图是填有**各地同一时间气象观测记录的特种地图**，它描述了**某一瞬间某一区域的天气状况**。运用天气学原理，对天气图连续分析和研究，就可获得天气过程发展的规律，从而做出天气预报。因此，天气图是制作天气预报的基本工具，**可以分为地面图和高空图**。"
   ]
  },
  {
   "cell_type": "markdown",
   "metadata": {
    "id": "6FA8F9CDCE264159AF2164894889E1FF",
    "jupyter": {},
    "notebookId": "6490dd58bf6a19bd4c9df511",
    "runtime": {
     "execution_status": null,
     "status": "default"
    },
    "slideshow": {
     "slide_type": "slide"
    },
    "tags": []
   },
   "source": [
    "> 中央气象台天气图：http://www.nmc.cn/publish/observations/china/dm/weatherchart-h000.htm"
   ]
  },
  {
   "cell_type": "markdown",
   "metadata": {
    "id": "93B9B097D31B4024935C83BF1170E416",
    "jupyter": {},
    "notebookId": "6490dd58bf6a19bd4c9df511",
    "runtime": {
     "execution_status": null,
     "status": "default"
    },
    "slideshow": {
     "slide_type": "slide"
    },
    "tags": []
   },
   "source": [
    "  \n",
    "![Image Name](pic/weathermap.png)  \n"
   ]
  },
  {
   "cell_type": "markdown",
   "metadata": {
    "id": "54C0CA652C114D4099FF49F08E67E8C9",
    "jupyter": {},
    "notebookId": "6490dd58bf6a19bd4c9df511",
    "runtime": {
     "execution_status": null,
     "status": "default"
    },
    "slideshow": {
     "slide_type": "slide"
    },
    "tags": []
   },
   "source": [
    "由于**天气形成、发展、消亡都具有一定的连贯性**，我们可以通过分析连续几天或者几时次的天气图平判断某**天气系统的移动速度、强度变化，以及可能有新的系统生成**等等。  \n",
    "\n",
    "\n",
    "\n"
   ]
  },
  {
   "cell_type": "markdown",
   "metadata": {
    "id": "BABB291E573747A7BDC67B16E29D73D4",
    "jupyter": {},
    "notebookId": "6490dd58bf6a19bd4c9df511",
    "runtime": {
     "execution_status": null,
     "status": "default"
    },
    "slideshow": {
     "slide_type": "slide"
    },
    "tags": []
   },
   "source": [
    "## 二、绘制地面天气图"
   ]
  },
  {
   "cell_type": "markdown",
   "metadata": {
    "id": "F058FA2A8B1B47F7918EFCD4817D8178",
    "jupyter": {},
    "notebookId": "6490dd58bf6a19bd4c9df511",
    "runtime": {
     "execution_status": null,
     "status": "default"
    },
    "slideshow": {
     "slide_type": "slide"
    },
    "tags": []
   },
   "source": [
    "地面天气图是一种用于描述地面天气状况的图表，通常包括气压、温度、湿度、风向和风速等信息。"
   ]
  },
  {
   "cell_type": "markdown",
   "metadata": {
    "id": "FCC2DA63BFD14D45B93B165547D56CD9",
    "jupyter": {},
    "notebookId": "6490dd58bf6a19bd4c9df511",
    "runtime": {
     "execution_status": null,
     "status": "default"
    },
    "slideshow": {
     "slide_type": "slide"
    },
    "tags": []
   },
   "source": [
    "### 导入模块"
   ]
  },
  {
   "cell_type": "code",
   "execution_count": null,
   "metadata": {
    "collapsed": false,
    "id": "A32F2D9070764F738273019AD511AE4B",
    "jupyter": {
     "outputs_hidden": false
    },
    "notebookId": "6490dd58bf6a19bd4c9df511",
    "slideshow": {
     "slide_type": "slide"
    },
    "tags": []
   },
   "outputs": [],
   "source": [
    "# 一次性导入所有模块\n",
    "from wrf import uvmet, to_np, getvar, interplevel, smooth2d, get_cartopy, cartopy_xlim, cartopy_ylim, latlon_coords\n",
    "import numpy as np\n",
    "import pandas as pd\n",
    "from datetime import datetime\n",
    "from netCDF4 import Dataset\n",
    "import xarray as xr\n",
    "from metpy.units import units\n",
    "from metpy.calc import height_to_geopotential, geopotential_to_height\n",
    "import matplotlib.pyplot as plt\n",
    "from matplotlib.cm import get_cmap\n",
    "from matplotlib.colors import from_levels_and_colors\n",
    "import cartopy.crs as ccrs\n",
    "import cartopy.feature as cfeature\n",
    "import cartopy.io.shapereader as shpreader\n",
    "from cartopy.feature import NaturalEarthFeature\n",
    "from cartopy.mpl.ticker import LongitudeFormatter, LatitudeFormatter\n",
    "from cartopy.mpl.gridliner import LATITUDE_FORMATTER, LONGITUDE_FORMATTER\n",
    "import shapely.geometry as sgeom\n",
    "import cmaps\n",
    "from glob import glob\n",
    "from copy import copy\n",
    "\n",
    "import warnings\n",
    "warnings.filterwarnings('ignore')"
   ]
  },
  {
   "cell_type": "markdown",
   "metadata": {
    "id": "1784D8878FCB45F6BB1EF1833C745D82",
    "jupyter": {},
    "notebookId": "6490dd58bf6a19bd4c9df511",
    "runtime": {
     "execution_status": null,
     "status": "default"
    },
    "slideshow": {
     "slide_type": "slide"
    },
    "tags": []
   },
   "source": [
    "### 标注高压和低压中心"
   ]
  },
  {
   "cell_type": "markdown",
   "metadata": {
    "id": "6C8434A52300436BB1398C03158B4C49",
    "jupyter": {},
    "notebookId": "6490dd58bf6a19bd4c9df511",
    "runtime": {
     "execution_status": null,
     "status": "default"
    },
    "slideshow": {
     "slide_type": "slide"
    },
    "tags": []
   },
   "source": [
    "我们需要找到从气压数据中找到高压系统和低压系统，并在其中心进行标注。"
   ]
  },
  {
   "cell_type": "code",
   "execution_count": null,
   "metadata": {
    "collapsed": false,
    "id": "C0A55E2808AD4229811FBD69A81E42C1",
    "jupyter": {
     "outputs_hidden": false
    },
    "notebookId": "6490dd58bf6a19bd4c9df511",
    "slideshow": {
     "slide_type": "slide"
    },
    "tags": []
   },
   "outputs": [],
   "source": [
    "# 参考来源：https://unidata.github.io/python-gallery/examples/HILO_Symbol_Plot.html\n",
    "\n",
    "# 标注高压系统中心为H，低压系统中心为L\n",
    "def plot_maxmin_points(lon, lat, data, extrema, nsize, symbol, color='k', plotValue=True, transform=None):\n",
    "    \"\"\"\n",
    "    This function will find and plot relative maximum and minimum for a 2D grid. The function\n",
    "    can be used to plot an H for maximum values (e.g., High pressure) and an L for minimum\n",
    "    values (e.g., low pressue). It is best to used filetered data to obtain  a synoptic scale\n",
    "    max/min value. The symbol text can be set to a string value and optionally the color of the\n",
    "    symbol and any plotted value can be set with the parameter color\n",
    "    lon = plotting longitude values (2D)\n",
    "    lat = plotting latitude values (2D)\n",
    "    data = 2D data that you wish to plot the max/min symbol placement\n",
    "    extrema = Either a value of max for Maximum Values or min for Minimum Values\n",
    "    nsize = Size of the grid box to filter the max and min values to plot a reasonable number\n",
    "    symbol = String to be placed at location of max/min value\n",
    "    color = String matplotlib colorname to plot the symbol (and numerica value, if plotted)\n",
    "    plot_value = Boolean (True/False) of whether to plot the numeric value of max/min point\n",
    "    The max/min symbol will be plotted on the current axes within the bounding frame\n",
    "    (e.g., clip_on=True)\n",
    "    \"\"\"\n",
    "    from scipy.ndimage.filters import maximum_filter, minimum_filter\n",
    "\n",
    "    if (extrema == 'max'):\n",
    "        data_ext = maximum_filter(data, nsize, mode='nearest')\n",
    "    elif (extrema == 'min'):\n",
    "        data_ext = minimum_filter(data, nsize, mode='nearest')\n",
    "    else:\n",
    "        raise ValueError('Value for hilo must be either max or min')\n",
    "\n",
    "    mxy, mxx = np.where(data_ext == data)\n",
    "\n",
    "    for i in range(len(mxy)):\n",
    "        ax.text(lon[mxy[i], mxx[i]], lat[mxy[i], mxx[i]], symbol, color=color, size=25,\n",
    "                clip_on=True, horizontalalignment='center', verticalalignment='center',\n",
    "                transform=transform)\n",
    "        ax.text(lon[mxy[i], mxx[i]], lat[mxy[i], mxx[i]],\n",
    "                '\\n' + str(np.int(data[mxy[i], mxx[i]])),\n",
    "                color=color, size=25, clip_on=True, fontweight='bold',\n",
    "                horizontalalignment='center', verticalalignment='top', transform=transform)"
   ]
  },
  {
   "cell_type": "markdown",
   "metadata": {
    "id": "1316BB4FB2204A8D9971F29A9C6EBC5D",
    "jupyter": {},
    "notebookId": "6490dd58bf6a19bd4c9df511",
    "runtime": {
     "execution_status": null,
     "status": "default"
    },
    "slideshow": {
     "slide_type": "slide"
    },
    "tags": []
   },
   "source": [
    "### 添加经纬度标签"
   ]
  },
  {
   "cell_type": "markdown",
   "metadata": {
    "id": "76F419D8F3A24994AF6D017BBBC05393",
    "jupyter": {},
    "notebookId": "6490dd58bf6a19bd4c9df511",
    "runtime": {
     "execution_status": null,
     "status": "default"
    },
    "slideshow": {
     "slide_type": "slide"
    },
    "tags": []
   },
   "source": [
    "由于Cartopy尚不能对非等经纬投影添加经纬度标签，因此我们需要自定义函数来额外实现这一功能。"
   ]
  },
  {
   "cell_type": "code",
   "execution_count": null,
   "metadata": {
    "collapsed": false,
    "hide_input": false,
    "id": "66871977A9DE451BAB48D158D7211BBA",
    "jupyter": {
     "outputs_hidden": false
    },
    "notebookId": "6490dd58bf6a19bd4c9df511",
    "slideshow": {
     "slide_type": "slide"
    },
    "tags": []
   },
   "outputs": [],
   "source": [
    "'''\n",
    "Andrew Dawson 提供了解决方法: https://gist.github.com/ajdawson/dd536f786741e987ae4e\n",
    "'''\n",
    "# 由于Cartopy尚不能对非等经纬投影添加经纬度标签，因此我们需要自定义函数来额外实现这一功能。\n",
    "def find_side(ls, side):\n",
    "    \"\"\"\n",
    "    Given a shapely LineString which is assumed to be rectangular, return the\n",
    "    line corresponding to a given side of the rectangle.\n",
    "    \"\"\"\n",
    "    minx, miny, maxx, maxy = ls.bounds\n",
    "    points = {'left': [(minx, miny), (minx, maxy)],\n",
    "              'right': [(maxx, miny), (maxx, maxy)],\n",
    "              'bottom': [(minx, miny), (maxx, miny)],\n",
    "              'top': [(minx, maxy), (maxx, maxy)],}\n",
    "    return sgeom.LineString(points[side])\n",
    "\n",
    "# 在兰伯特投影的底部X轴上绘制刻度线\n",
    "def lambert_xticks(ax, ticks):\n",
    "    \"\"\"Draw ticks on the bottom x-axis of a Lambert Conformal projection.\"\"\"\n",
    "    te = lambda xy: xy[0]\n",
    "    lc = lambda t, n, b: np.vstack((np.zeros(n) + t, np.linspace(b[2], b[3], n))).T\n",
    "    xticks, xticklabels = _lambert_ticks(ax, ticks, 'bottom', lc, te)\n",
    "    ax.xaxis.tick_bottom()\n",
    "    ax.set_xticks(xticks)\n",
    "    ax.set_xticklabels([ax.xaxis.get_major_formatter()(xtick) for xtick in xticklabels])\n",
    "\n",
    "# 在兰伯特投影的左侧y轴上绘制刻度线\n",
    "def lambert_yticks(ax, ticks):\n",
    "    \"\"\"Draw ricks on the left y-axis of a Lamber Conformal projection.\"\"\"\n",
    "    te = lambda xy: xy[1]\n",
    "    lc = lambda t, n, b: np.vstack((np.linspace(b[0], b[1], n), np.zeros(n) + t)).T\n",
    "    yticks, yticklabels = _lambert_ticks(ax, ticks, 'left', lc, te)\n",
    "    ax.yaxis.tick_left()\n",
    "    ax.set_yticks(yticks)\n",
    "    ax.set_yticklabels([ax.yaxis.get_major_formatter()(ytick) for ytick in yticklabels])\n",
    "\n",
    "# 在兰伯特投影的左侧y轴上绘制刻度线\n",
    "def _lambert_ticks(ax, ticks, tick_location, line_constructor, tick_extractor):\n",
    "    \"\"\"Get the tick locations and labels for an axis of a Lambert Conformal projection.\"\"\"\n",
    "    outline_patch = sgeom.LineString(ax.outline_patch.get_path().vertices.tolist())\n",
    "    axis = find_side(outline_patch, tick_location)\n",
    "    n_steps = 30\n",
    "    extent = ax.get_extent(ccrs.PlateCarree())\n",
    "    _ticks = []\n",
    "    for t in ticks:\n",
    "        xy = line_constructor(t, n_steps, extent)\n",
    "        proj_xyz = ax.projection.transform_points(ccrs.Geodetic(), xy[:, 0], xy[:, 1])\n",
    "        xyt = proj_xyz[..., :2]\n",
    "        ls = sgeom.LineString(xyt.tolist())\n",
    "        locs = axis.intersection(ls)\n",
    "        if not locs:\n",
    "            tick = [None]\n",
    "        else:\n",
    "            tick = tick_extractor(locs.xy)\n",
    "        _ticks.append(tick[0])\n",
    "    # Remove ticks that aren't visible: \n",
    "    ticklabels = copy(ticks)\n",
    "    while True:\n",
    "        try:\n",
    "            index = _ticks.index(None)\n",
    "        except ValueError:\n",
    "            break\n",
    "        _ticks.pop(index)\n",
    "        ticklabels.pop(index)\n",
    "    return _ticks, ticklabels"
   ]
  },
  {
   "cell_type": "markdown",
   "metadata": {
    "id": "4049771953694F8D9341EABB2F5E517B",
    "jupyter": {},
    "notebookId": "6490dd58bf6a19bd4c9df511",
    "runtime": {
     "execution_status": null,
     "status": "default"
    },
    "slideshow": {
     "slide_type": "slide"
    },
    "tags": []
   },
   "source": [
    "### WRF数据读取与变量提取"
   ]
  },
  {
   "cell_type": "code",
   "execution_count": null,
   "metadata": {
    "collapsed": false,
    "id": "B9A1E09DF5D64AABB2E404FA9A0560CC",
    "jupyter": {
     "outputs_hidden": false
    },
    "notebookId": "6490dd58bf6a19bd4c9df511",
    "slideshow": {
     "slide_type": "slide"
    },
    "tags": []
   },
   "outputs": [],
   "source": [
    "# WRF数据目录\n",
    "wrfout_path = '/home/mw/input/typhoon9537/'\n",
    "\n",
    "# 用 netCDF4 包读取 WRF 模拟数据\n",
    "wrf_file = Dataset(wrfout_path + '/wrfout_d01_2019-08-08_18_00_00')\n",
    "\n",
    "# 提取海平面气压、10m高度的u和v风速\n",
    "slp = getvar(wrf_file, 'slp', timeidx=0)\n",
    "u10 = getvar(wrf_file, 'U10', timeidx=0)\n",
    "v10 = getvar(wrf_file, 'V10', timeidx=0)\n",
    "\n",
    "# 提取WRF模拟的经纬度数组\n",
    "lats, lons = latlon_coords(slp)\n",
    "\n",
    "# 提取WRF模拟的地图投影\n",
    "wrf_proj = get_cartopy(slp)"
   ]
  },
  {
   "cell_type": "markdown",
   "metadata": {
    "id": "991EE8DA7BD14878B91218344D68A9E2",
    "jupyter": {},
    "notebookId": "6490dd58bf6a19bd4c9df511",
    "runtime": {
     "execution_status": null,
     "status": "default"
    },
    "slideshow": {
     "slide_type": "slide"
    },
    "tags": []
   },
   "source": [
    "### 地面天气图绘制"
   ]
  },
  {
   "cell_type": "code",
   "execution_count": null,
   "metadata": {
    "collapsed": false,
    "id": "637B032EAE784D2B9C1CD82458B430A2",
    "jupyter": {
     "outputs_hidden": false
    },
    "notebookId": "6490dd58bf6a19bd4c9df511",
    "slideshow": {
     "slide_type": "slide"
    },
    "tags": []
   },
   "outputs": [],
   "source": [
    "# 创建画布\n",
    "fig = plt.figure(figsize=(10,8))\n",
    "# 设置地图投影\n",
    "ax = plt.axes(projection=wrf_proj)\n",
    "# 设置地图范围\n",
    "ax.set_xlim(cartopy_xlim(slp))\n",
    "ax.set_ylim(cartopy_ylim(slp))\n",
    "\n",
    "# 读取国界线和九段线\n",
    "province = shpreader.Reader('/home/mw/input/data5246/中国地图/China_provinces/China_provinces.shp')\n",
    "nineline = shpreader.Reader('/home/mw/input/data5246/中国地图/China_10-dash_line/China_10-dash_line.shp')\n",
    "# 绘制国界线和九段线\n",
    "ax.add_geometries(province.geometries(), \n",
    "                  crs=ccrs.PlateCarree(), \n",
    "                  linewidth=0.5, \n",
    "                  edgecolor='k',\n",
    "                  facecolor='none',\n",
    "                  zorder=2)\n",
    "ax.add_geometries(nineline.geometries(), \n",
    "                  crs=ccrs.PlateCarree(), \n",
    "                  linewidth=0.5,\n",
    "                  color='k',\n",
    "                  zorder=2)\n",
    "\n",
    "# 绘制海平面气压（等值线）\n",
    "plt.contour(to_np(lons), \n",
    "            to_np(lats), \n",
    "            to_np(slp), \n",
    "            levels=np.arange(930,1020,5),\n",
    "            extend='both',\n",
    "            colors='black', \n",
    "            transform=ccrs.PlateCarree())\n",
    "\n",
    "# 绘制海平面气压（用contourf方法实现等值线填充）\n",
    "plt.contourf(to_np(lons), \n",
    "            to_np(lats), \n",
    "            to_np(slp), \n",
    "            levels=np.arange(930,1020,5),\n",
    "            extend='both',\n",
    "            transform=ccrs.PlateCarree(),\n",
    "            cmap=cmaps.MPL_BuPu_r)\n",
    "\n",
    "# 标注低压系统中心L\n",
    "plot_maxmin_points(to_np(lons)[10:-10,10:-10],\n",
    "                   to_np(lats)[10:-10,10:-10],\n",
    "                   to_np(slp)[10:-10,10:-10],\n",
    "                   'min', 200, symbol='L', color='white', \n",
    "                   transform=ccrs.PlateCarree())\n",
    "\n",
    "# 绘制10m风场\n",
    "# dict(half=2, full=4, flag=20)表示短线代表风速2m/s，长线代表风速4m/s，旗帜代表风速20m/s\n",
    "ax.barbs(to_np(lons)[::25,::25], to_np(lats)[::25,::25], \n",
    "         to_np(u10)[::25,::25], to_np(v10)[::25,::25], \n",
    "         length=8, \n",
    "         linewidth=0.5, \n",
    "         barb_increments=dict(half=2, full=4, flag=20),\n",
    "         transform=ccrs.PlateCarree())\n",
    "\n",
    "# 添加colorbar\n",
    "cbar = plt.colorbar(ax=ax, extend='both', shrink=1)\n",
    "cbar.set_label('Pressure (hPa)', fontdict={'size':20})\n",
    "cbar.ax.tick_params(labelsize=20)\n",
    "\n",
    "# 添加经纬度网格线\n",
    "ax.gridlines(color='black', linestyle='dotted')\n",
    "# 添加经纬度标签\n",
    "xticks = list(np.arange(100,140,2))\n",
    "yticks = list(np.arange(20,40,2))\n",
    "fig.canvas.draw()\n",
    "ax.xaxis.set_major_formatter(LONGITUDE_FORMATTER) \n",
    "ax.yaxis.set_major_formatter(LATITUDE_FORMATTER)\n",
    "lambert_xticks(ax, xticks)\n",
    "lambert_yticks(ax, yticks)\n",
    "\n",
    "# 设置刻度标签的字体大小\n",
    "plt.tick_params(labelsize=15)\n",
    "# 添加标题\n",
    "plt.title(str(slp.Time.values)[0:16]+'(UTC)', loc='left', fontsize=20)\n",
    "plt.show()"
   ]
  },
  {
   "cell_type": "markdown",
   "metadata": {
    "id": "B5F931C34DD241258641E38E06B95C4D",
    "jupyter": {},
    "notebookId": "6490dd58bf6a19bd4c9df511",
    "runtime": {
     "execution_status": null,
     "status": "default"
    },
    "slideshow": {
     "slide_type": "slide"
    },
    "tags": []
   },
   "source": [
    "### ✍小练习：调节平滑效果"
   ]
  },
  {
   "cell_type": "markdown",
   "metadata": {
    "id": "CC570BD68564402EB7413090A806BDF3",
    "jupyter": {},
    "notebookId": "6490dd58bf6a19bd4c9df511",
    "runtime": {
     "execution_status": null,
     "status": "default"
    },
    "slideshow": {
     "slide_type": "slide"
    },
    "tags": []
   },
   "source": [
    "平滑可以有效地**去除天气数据中的噪声和异常值**，使得数据更加**平滑和稳定**，从而更**容易进行分析和预测**。  \n",
    "\n",
    "> **smooth2d函数：https://wrf-python.readthedocs.io/en/latest/user_api/generated/wrf.smooth2d.html**  \n",
    "  \n",
    "平滑本质上是一种滤波，smooth2d函数使用的平滑核是  \n",
    "  \n",
    "$$\\begin{split}\\frac{1}{4 + cenweight} * \\begin{bmatrix}  \n",
    "                       0 & 1 & 0 \\\\  \n",
    "                       1 & cenweight & 1 \\\\  \n",
    "                       0 & 1 & 0  \n",
    "                     \\end{bmatrix}\\end{split}$$  \n"
   ]
  },
  {
   "cell_type": "code",
   "execution_count": null,
   "metadata": {
    "collapsed": false,
    "id": "08D48A0600D94AD484BE60838C7F933E",
    "jupyter": {
     "outputs_hidden": false
    },
    "notebookId": "6490dd58bf6a19bd4c9df511",
    "slideshow": {
     "slide_type": "slide"
    },
    "tags": []
   },
   "outputs": [],
   "source": [
    "### （你的代码）###\n",
    "\n",
    "\n"
   ]
  },
  {
   "cell_type": "markdown",
   "metadata": {
    "id": "58FE7A91082F49F3B2491EE3A4649698",
    "jupyter": {},
    "notebookId": "6490dd58bf6a19bd4c9df511",
    "runtime": {
     "execution_status": null,
     "status": "default"
    },
    "slideshow": {
     "slide_type": "slide"
    },
    "tags": []
   },
   "source": [
    "### ✍小练习：绘制一张高空图"
   ]
  },
  {
   "cell_type": "markdown",
   "metadata": {
    "id": "BEBD9C0116C84E7A967FF774DA015B7B",
    "jupyter": {},
    "notebookId": "6490dd58bf6a19bd4c9df511",
    "runtime": {
     "execution_status": null,
     "status": "default"
    },
    "slideshow": {
     "slide_type": "slide"
    },
    "tags": []
   },
   "source": [
    "**高空天气图形式更为多样，反映的信息也更为丰富，选择一种你感兴趣的高空图进行绘制**  \n",
    "\n",
    "![Image Name](pic/gaokong.png)"
   ]
  },
  {
   "cell_type": "code",
   "execution_count": null,
   "metadata": {
    "collapsed": false,
    "id": "22F0FE7D2D56442A8E636A7287CB8777",
    "jupyter": {
     "outputs_hidden": false
    },
    "notebookId": "6490dd58bf6a19bd4c9df511",
    "slideshow": {
     "slide_type": "slide"
    },
    "tags": []
   },
   "outputs": [],
   "source": [
    "### （你的代码）###\n",
    "\n",
    "\n"
   ]
  },
  {
   "cell_type": "markdown",
   "metadata": {
    "id": "9ED532CDBD4041AEB061C931154B4EEA",
    "jupyter": {},
    "notebookId": "6490dd58bf6a19bd4c9df511",
    "runtime": {
     "execution_status": null,
     "status": "default"
    },
    "slideshow": {
     "slide_type": "slide"
    },
    "tags": []
   },
   "source": [
    "恭喜你完成了WRF后处理训练营第六关的学习材料，能够顺利地**绘制出 WRF 模拟的地面和高空天气图**，可以感受一下预报员是如何分析天气过程的~~~"
   ]
  },
  {
   "cell_type": "markdown",
   "metadata": {
    "id": "9C1A6A54358E44249EB481AD8D9EE9C4",
    "jupyter": {},
    "notebookId": "6490dd58bf6a19bd4c9df511",
    "runtime": {
     "execution_status": null,
     "status": "default"
    },
    "slideshow": {
     "slide_type": "slide"
    },
    "tags": []
   },
   "source": [
    "## 闯关题  \n",
    "\n",
    "### STEP1：根据要求完成题目：  \n"
   ]
  },
  {
   "cell_type": "markdown",
   "metadata": {
    "id": "0ABFDC6CBE8647F1B43CD279865CA387",
    "jupyter": {},
    "notebookId": "6490dd58bf6a19bd4c9df511",
    "runtime": {
     "execution_status": null,
     "status": "default"
    },
    "slideshow": {
     "slide_type": "slide"
    },
    "tags": []
   },
   "source": [
    "1. 根据案例中绘制 WRF 模拟的地面天气图，台风中心等压线具有什么特点？  \n",
    "A. 密集  \n",
    "B. 稀疏  \n",
    " \n",
    "\n",
    "2. 绘制 WRF 模拟的高空天气图，台风中心的气温与周围环境温度相比？  \n",
    "A. 更高  \n",
    "B. 无明显变化  \n",
    "C. 更低  \n",
    "\n",
    "\n",
    "3. 基于ERA5再分析资料（数据位于`/home/mw/input/ERA5_Lekima4742/ERA5_Lekima.nc`），绘制 500 hPa 高空天气图，副热带高压位于台风的哪里？  \n",
    "A. 东南  \n",
    "B. 东北  \n",
    "C. 西南  \n",
    "D. 西北  \n",
    "\n"
   ]
  },
  {
   "cell_type": "code",
   "execution_count": null,
   "metadata": {
    "collapsed": false,
    "id": "6FA07973983246478FA2F60A42DDB9FA",
    "jupyter": {
     "outputs_hidden": false
    },
    "notebookId": "6490dd58bf6a19bd4c9df511",
    "slideshow": {
     "slide_type": "slide"
    },
    "tags": []
   },
   "outputs": [],
   "source": [
    "# 填入你的答案\n",
    "answer_1 = ''\n",
    "answer_2 = ''\n",
    "answer_3 = '' "
   ]
  },
  {
   "cell_type": "markdown",
   "metadata": {
    "id": "3722034A4B44488690F5AC9850C63C26",
    "jupyter": {},
    "notebookId": "6490dd58bf6a19bd4c9df511",
    "runtime": {
     "execution_status": null,
     "status": "default"
    },
    "slideshow": {
     "slide_type": "slide"
    },
    "tags": []
   },
   "source": [
    "## ⚡ 下一关预告：  \n",
    "\n",
    "下一关我们将介绍如何绘制 WRF 模拟的剖面图，深入分析台风利奇马的空间结构模拟~~"
   ]
  }
 ],
 "metadata": {
  "kernelspec": {
   "display_name": "Python 3 (ipykernel)",
   "language": "python",
   "name": "python3"
  },
  "language_info": {
   "codemirror_mode": {
    "name": "ipython",
    "version": 3
   },
   "file_extension": ".py",
   "mimetype": "text/x-python",
   "name": "python",
   "nbconvert_exporter": "python",
   "pygments_lexer": "ipython3",
   "version": "3.10.10"
  }
 },
 "nbformat": 4,
 "nbformat_minor": 4
}
