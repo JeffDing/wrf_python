{
 "cells": [
  {
   "cell_type": "markdown",
   "metadata": {
    "id": "0158D2D9ADAE4B7B831E0FF1E6B87BF8",
    "jupyter": {},
    "notebookId": "6490b5dfc4655e152a627ca6",
    "runtime": {
     "execution_status": null,
     "status": "default"
    },
    "slideshow": {
     "slide_type": "slide"
    },
    "tags": []
   },
   "source": [
    "\n",
    "![ImageName](pic/title.jpg)  \n",
    "\n",
    "**作者：[lqy](https://www.heywhale.com/home/user/profile/5f27fd9633e1be002cc65a1d)** 华东师范大学气象学研究生、和鲸社区气象数据科学频道版主"
   ]
  },
  {
   "cell_type": "markdown",
   "metadata": {
    "id": "EDA013BA10ED4F4D850CD21FFA0CA4F4",
    "jupyter": {},
    "notebookId": "6490b5dfc4655e152a627ca6",
    "runtime": {
     "execution_status": null,
     "status": "default"
    },
    "slideshow": {
     "slide_type": "slide"
    },
    "tags": []
   },
   "source": [
    "🐋：本项目来自和鲸社区《[气象训练营⑦：WRF模式后处理](https://www.heywhale.com/home/competition/64478fec113e81a18dc70cd1)》活动，所有教案代码都可以一键跑通，你可以 fork 后在线在线运行、调试学习、完成作业练习。  \n",
    "\n",
    "学习过程中如果你遇到任何问题，欢迎使用搜索引擎，或在 [讨论区](https://www.heywhale.com/home/competition/forumlist/64478fec113e81a18dc70cd1) 中发帖提出，我们很乐意为你提供帮助。"
   ]
  },
  {
   "cell_type": "markdown",
   "metadata": {
    "id": "5BE7323B491749C09F118816419CFBD6",
    "jupyter": {},
    "notebookId": "6490b5dfc4655e152a627ca6",
    "runtime": {
     "execution_status": null,
     "status": "default"
    },
    "slideshow": {
     "slide_type": "slide"
    },
    "tags": []
   },
   "source": [
    "# 关卡四：计算WRF模拟的衍生变量"
   ]
  },
  {
   "cell_type": "markdown",
   "metadata": {
    "id": "C5AB15D58E3945ADAE21A3946715E7DB",
    "jupyter": {},
    "notebookId": "6490b5dfc4655e152a627ca6",
    "runtime": {
     "execution_status": null,
     "status": "default"
    },
    "slideshow": {
     "slide_type": "slide"
    },
    "tags": []
   },
   "source": [
    "WRF 模拟数据里的变量非常多，可以达到上百个变量，用于描述**大气运动基本属性和关键物理过程**，能够对大气运动进行多维度的分析。  \n",
    "\n",
    "在不同的业务分析和科研方向上，我们感兴趣的 WRF 模拟变量可能存在差异，那么 WRF 模式能否提供我们所需的变量，这一点是大家非常关心的。  \n",
    "\n",
    "如果发现变量在WRF模拟数据中没有直接输出（不用担心），我们可以通过 WRF 基础变量计算得到 WRF 模拟的衍生变量，例如：**能见度、云顶亮温、云覆盖**等数据。  \n"
   ]
  },
  {
   "cell_type": "code",
   "execution_count": null,
   "metadata": {
    "collapsed": false,
    "id": "A548A87BCF344244977C514CBD6B94CE",
    "jupyter": {
     "outputs_hidden": false
    },
    "notebookId": "6490b5dfc4655e152a627ca6",
    "slideshow": {
     "slide_type": "slide"
    },
    "tags": []
   },
   "outputs": [],
   "source": [
    "# 导入模块\n",
    "import numpy as np\n",
    "import matplotlib.pyplot as plt\n",
    "from netCDF4 import Dataset\n",
    "from wrf import getvar\n",
    "import metpy.calc as mpcalc\n",
    "from metpy.units import units\n",
    "import cmaps"
   ]
  },
  {
   "cell_type": "code",
   "execution_count": null,
   "metadata": {
    "collapsed": false,
    "id": "5F26A2B685974855B64D5F3B311DC33D",
    "jupyter": {
     "outputs_hidden": false
    },
    "notebookId": "6490b5dfc4655e152a627ca6",
    "slideshow": {
     "slide_type": "slide"
    },
    "tags": []
   },
   "outputs": [],
   "source": [
    "# WRF数据目录\n",
    "wrfout_path = './dataset/wrfout/'\n",
    "\n",
    "# 用netCDF4包读取数据\n",
    "wrf_file = Dataset(wrfout_path + 'wrfout_d01_2019-08-08_18_00_00')"
   ]
  },
  {
   "cell_type": "markdown",
   "metadata": {
    "id": "34F2D8E706464370B9C0DD6F72DAF8D8",
    "jupyter": {},
    "notebookId": "6490b5dfc4655e152a627ca6",
    "runtime": {
     "execution_status": null,
     "status": "default"
    },
    "slideshow": {
     "slide_type": "slide"
    },
    "tags": []
   },
   "source": [
    "## 一、基于wrf-python计算WRF衍生变量"
   ]
  },
  {
   "cell_type": "markdown",
   "metadata": {
    "id": "FEEE6C112CA247C59DCEAB21DAE1F58F",
    "jupyter": {},
    "notebookId": "6490b5dfc4655e152a627ca6",
    "runtime": {
     "execution_status": null,
     "status": "default"
    },
    "slideshow": {
     "slide_type": "slide"
    },
    "tags": []
   },
   "source": [
    "getvar函数十分强大，不仅能够提取 WRF 模式的输出变量，还能直接计算 WRF 衍生变量。  \n",
    "\n",
    "> WRF常用的诊断变量（getvar函数）：https://wrf-python.readthedocs.io/en/latest/diagnostics.html  "
   ]
  },
  {
   "cell_type": "markdown",
   "metadata": {
    "id": "B44AAEF2BC7642C797DFFC59671BB0B8",
    "jupyter": {},
    "notebookId": "6490b5dfc4655e152a627ca6",
    "runtime": {
     "execution_status": null,
     "status": "default"
    },
    "slideshow": {
     "slide_type": "slide"
    },
    "tags": []
   },
   "source": [
    "### （1）云顶亮温"
   ]
  },
  {
   "cell_type": "markdown",
   "metadata": {
    "id": "3D6FD620829145F691494172BDBF1F21",
    "jupyter": {},
    "notebookId": "6490b5dfc4655e152a627ca6",
    "runtime": {
     "execution_status": null,
     "status": "default"
    },
    "slideshow": {
     "slide_type": "slide"
    },
    "tags": []
   },
   "source": [
    "云顶亮温是云顶的温度，通常是由气象卫星进行观测，可以表征云顶高度和大气垂直对流的发展情况。云顶亮温越低，说明云的发展高度越高，大气对流越旺盛。"
   ]
  },
  {
   "cell_type": "code",
   "execution_count": null,
   "metadata": {
    "collapsed": false,
    "id": "E293DE5B18A0402B96A91C7947BBC674",
    "jupyter": {
     "outputs_hidden": false
    },
    "notebookId": "6490b5dfc4655e152a627ca6",
    "slideshow": {
     "slide_type": "slide"
    },
    "tags": []
   },
   "outputs": [],
   "source": [
    "# 提取云顶亮温（Cloud Top Temperature）\n",
    "ctt = getvar(wrf_file, 'ctt')\n",
    "ctt.plot(x='XLONG', y='XLAT', figsize=(10,6))"
   ]
  },
  {
   "cell_type": "markdown",
   "metadata": {
    "id": "99AE496AAA904B9492169BA621AAF25B",
    "jupyter": {},
    "notebookId": "6490b5dfc4655e152a627ca6",
    "runtime": {
     "execution_status": null,
     "status": "default"
    },
    "slideshow": {
     "slide_type": "slide"
    },
    "tags": []
   },
   "source": [
    "### （2）云覆盖"
   ]
  },
  {
   "cell_type": "markdown",
   "metadata": {
    "id": "609949FA72DE4D1992BF52571AABE10A",
    "jupyter": {},
    "notebookId": "6490b5dfc4655e152a627ca6",
    "runtime": {
     "execution_status": null,
     "status": "default"
    },
    "slideshow": {
     "slide_type": "slide"
    },
    "tags": []
   },
   "source": [
    "云覆盖是所有的某个高度层的云占天空的百分比，数值范围为0-1，0即表示晴天，1即表示阴天/雨天。WRF模拟提供了低层、中层和高层的云覆盖。"
   ]
  },
  {
   "cell_type": "code",
   "execution_count": null,
   "metadata": {
    "collapsed": false,
    "id": "01530E3D234E408C9685D1E265DD0F5F",
    "jupyter": {
     "outputs_hidden": false
    },
    "notebookId": "6490b5dfc4655e152a627ca6",
    "slideshow": {
     "slide_type": "slide"
    },
    "tags": []
   },
   "outputs": [],
   "source": [
    "cloudfrac = getvar(wrf_file, 'cloudfrac')\n",
    "cloudfrac"
   ]
  },
  {
   "cell_type": "markdown",
   "metadata": {
    "id": "34040F750BE14226B8D6D8540145607E",
    "jupyter": {},
    "notebookId": "6490b5dfc4655e152a627ca6",
    "runtime": {
     "execution_status": null,
     "status": "default"
    },
    "slideshow": {
     "slide_type": "slide"
    },
    "tags": []
   },
   "source": [
    "### ✍ 小练习：分别绘制低层、中层和高层的云覆盖"
   ]
  },
  {
   "cell_type": "code",
   "execution_count": null,
   "metadata": {
    "collapsed": false,
    "id": "E8D4075896504BDCB924A0CAC2E848DB",
    "jupyter": {
     "outputs_hidden": false
    },
    "notebookId": "6490b5dfc4655e152a627ca6",
    "slideshow": {
     "slide_type": "slide"
    },
    "tags": []
   },
   "outputs": [],
   "source": [
    "### （你的代码）###\n",
    "# 提示：用索引来获取低层、中层和高层云覆盖\n",
    "# 低层云覆盖\n",
    "cloudfrac[0]\n",
    "\n",
    "# 中层云覆盖\n",
    "cloudfrac[1]\n",
    "\n",
    "# 高层云覆盖\n",
    "cloudfrac[2]"
   ]
  },
  {
   "cell_type": "markdown",
   "metadata": {
    "id": "D232C75A5D884F788737EB5485EC7568",
    "jupyter": {},
    "notebookId": "6490b5dfc4655e152a627ca6",
    "runtime": {
     "execution_status": null,
     "status": "default"
    },
    "slideshow": {
     "slide_type": "slide"
    },
    "tags": []
   },
   "source": [
    "### （3）可降水量"
   ]
  },
  {
   "cell_type": "markdown",
   "metadata": {
    "id": "D77EF343E6454B3B9D2F96F943F80D8C",
    "jupyter": {},
    "notebookId": "6490b5dfc4655e152a627ca6",
    "runtime": {
     "execution_status": null,
     "status": "default"
    },
    "slideshow": {
     "slide_type": "slide"
    },
    "tags": []
   },
   "source": [
    "可降水量是指空气柱里含有的水汽的总数量。它对应于空气中的水分全部凝结成雨、雪降落所能形成的降水量，即理论上当前大气状态的降雨量极大值。"
   ]
  },
  {
   "cell_type": "code",
   "execution_count": null,
   "metadata": {
    "collapsed": false,
    "id": "0498D529BFCE4DDD89FA8C708CE287EA",
    "jupyter": {
     "outputs_hidden": false
    },
    "notebookId": "6490b5dfc4655e152a627ca6",
    "slideshow": {
     "slide_type": "slide"
    },
    "tags": []
   },
   "outputs": [],
   "source": [
    "# 可降水量\n",
    "pw = getvar(wrf_file, 'pw')\n",
    "pw.plot(x='XLONG', y='XLAT', figsize=(10,6))"
   ]
  },
  {
   "cell_type": "markdown",
   "metadata": {
    "id": "CCDDEB15304D461DA9A417E785ADD2B1",
    "jupyter": {},
    "notebookId": "6490b5dfc4655e152a627ca6",
    "runtime": {
     "execution_status": null,
     "status": "default"
    },
    "slideshow": {
     "slide_type": "slide"
    },
    "tags": []
   },
   "source": [
    "### （4）雷达反射率"
   ]
  },
  {
   "cell_type": "markdown",
   "metadata": {
    "id": "C486EC699C6D4DA898D7B77BC10B9310",
    "jupyter": {},
    "notebookId": "6490b5dfc4655e152a627ca6",
    "runtime": {
     "execution_status": null,
     "status": "default"
    },
    "slideshow": {
     "slide_type": "slide"
    },
    "tags": []
   },
   "source": [
    "不同高度层的 WRF 模拟的雷达反射率，可以与地面雷达的反射率进行比对"
   ]
  },
  {
   "cell_type": "code",
   "execution_count": null,
   "metadata": {
    "collapsed": false,
    "id": "18A2C5D79F6E485284624860001949DD",
    "jupyter": {
     "outputs_hidden": false
    },
    "notebookId": "6490b5dfc4655e152a627ca6",
    "scrolled": true,
    "slideshow": {
     "slide_type": "slide"
    },
    "tags": []
   },
   "outputs": [],
   "source": [
    "dbz = getvar(wrf_file, 'dbz')\n",
    "dbz"
   ]
  },
  {
   "cell_type": "markdown",
   "metadata": {
    "id": "6F7A24E7D1D24DE4AD18F1DB4ECEB173",
    "jupyter": {},
    "notebookId": "6490b5dfc4655e152a627ca6",
    "runtime": {
     "execution_status": null,
     "status": "default"
    },
    "slideshow": {
     "slide_type": "slide"
    },
    "tags": []
   },
   "source": [
    "### （5）最大雷达反射率"
   ]
  },
  {
   "cell_type": "markdown",
   "metadata": {
    "id": "F01CAD903C214A48BA4EF0D6D1CDE671",
    "jupyter": {},
    "notebookId": "6490b5dfc4655e152a627ca6",
    "runtime": {
     "execution_status": null,
     "status": "default"
    },
    "slideshow": {
     "slide_type": "slide"
    },
    "tags": []
   },
   "source": [
    "WRF 模拟的最大雷达反射率，局地的对流云团更为明显"
   ]
  },
  {
   "cell_type": "code",
   "execution_count": null,
   "metadata": {
    "collapsed": false,
    "id": "B57F01E5D0114A9DA94802430E261118",
    "jupyter": {
     "outputs_hidden": false
    },
    "notebookId": "6490b5dfc4655e152a627ca6",
    "slideshow": {
     "slide_type": "slide"
    },
    "tags": []
   },
   "outputs": [],
   "source": [
    "mdbz = getvar(wrf_file, 'mdbz')\n",
    "mdbz.plot(x='XLONG', y='XLAT', figsize=(10,6))"
   ]
  },
  {
   "cell_type": "markdown",
   "metadata": {
    "id": "DBF15B739EFE4D54BA05971F4CDE0FCF",
    "jupyter": {},
    "notebookId": "6490b5dfc4655e152a627ca6",
    "runtime": {
     "execution_status": null,
     "status": "default"
    },
    "slideshow": {
     "slide_type": "slide"
    },
    "tags": []
   },
   "source": [
    "### （6）有效对流位能"
   ]
  },
  {
   "cell_type": "markdown",
   "metadata": {
    "id": "2E39C5162F0341D9B32A5807DDB97339",
    "jupyter": {},
    "notebookId": "6490b5dfc4655e152a627ca6",
    "runtime": {
     "execution_status": null,
     "status": "default"
    },
    "slideshow": {
     "slide_type": "slide"
    },
    "tags": []
   },
   "source": [
    "通过`cape_2d`提取二维（不包含高度层）的有效对流位能，共返回四个变量。  \n",
    "\n",
    "+ mcape：最大有效对流位能 (Max convective available potential energy）  \n",
    "+ mcin：最大对流抑制能 (Max convective inhibition）  \n",
    "+ lcl：对流凝结高度（convective condensation level）  \n",
    "+ lfc：自由对流高度（level of Free Convection）"
   ]
  },
  {
   "cell_type": "code",
   "execution_count": null,
   "metadata": {
    "collapsed": false,
    "id": "2E7C7E1BA7E64780916B5447C22D889C",
    "jupyter": {
     "outputs_hidden": false
    },
    "notebookId": "6490b5dfc4655e152a627ca6",
    "slideshow": {
     "slide_type": "slide"
    },
    "tags": []
   },
   "outputs": [],
   "source": [
    "# 提取二维有效对流位能\n",
    "cape_2d = getvar(wrf_file, 'cape_2d')\n",
    "cape_2d"
   ]
  },
  {
   "cell_type": "code",
   "execution_count": null,
   "metadata": {
    "collapsed": false,
    "id": "2E410A5F3ACB4D3C8D7D11EA9A222D80",
    "jupyter": {
     "outputs_hidden": false
    },
    "notebookId": "6490b5dfc4655e152a627ca6",
    "slideshow": {
     "slide_type": "slide"
    },
    "tags": []
   },
   "outputs": [],
   "source": [
    "cape_2d[0].plot(x='XLONG', y='XLAT', figsize=(10,6))"
   ]
  },
  {
   "cell_type": "markdown",
   "metadata": {
    "id": "58DDDEFD3F134C31BA276A04B4106125",
    "jupyter": {},
    "notebookId": "6490b5dfc4655e152a627ca6",
    "runtime": {
     "execution_status": null,
     "status": "default"
    },
    "slideshow": {
     "slide_type": "slide"
    },
    "tags": []
   },
   "source": [
    "通过`cape_3d`提取三维（包含高度层）的有效对流位能，共返回两个变量。  \n",
    "\n",
    "+ cape：有效对流位能 (convective available potential energy）  \n",
    "+ cin：对流抑制能 (convective inhibition）"
   ]
  },
  {
   "cell_type": "code",
   "execution_count": null,
   "metadata": {
    "collapsed": false,
    "id": "A0CBC3379A14487D8605EDB26375FA11",
    "jupyter": {
     "outputs_hidden": false
    },
    "notebookId": "6490b5dfc4655e152a627ca6",
    "slideshow": {
     "slide_type": "slide"
    },
    "tags": []
   },
   "outputs": [],
   "source": [
    "# 提取三维有效对流位能\n",
    "cape_3d = getvar(wrf_file, 'cape_3d')\n",
    "cape_3d"
   ]
  },
  {
   "cell_type": "markdown",
   "metadata": {
    "id": "3ABB01FD98C840B499CA8072B2D50B56",
    "jupyter": {},
    "notebookId": "6490b5dfc4655e152a627ca6",
    "runtime": {
     "execution_status": null,
     "status": "default"
    },
    "slideshow": {
     "slide_type": "slide"
    },
    "tags": []
   },
   "source": [
    "下面我们来介绍另一种提取诊断变量的方法，特定变量导入特定函数来提取。  \n",
    "\n",
    "该方法可以支持更多的诊断变量，具体衍生变量说明：https://wrf-python.readthedocs.io/en/latest/internal_api/index.html 。"
   ]
  },
  {
   "cell_type": "markdown",
   "metadata": {
    "id": "9970BE9178C94791887CBBF30BCA6EED",
    "jupyter": {},
    "notebookId": "6490b5dfc4655e152a627ca6",
    "runtime": {
     "execution_status": null,
     "status": "default"
    },
    "slideshow": {
     "slide_type": "slide"
    },
    "tags": []
   },
   "source": [
    "### （7）绝对涡度"
   ]
  },
  {
   "cell_type": "markdown",
   "metadata": {
    "id": "78C08DAE976C44CEB98B762638F0682E",
    "jupyter": {},
    "notebookId": "6490b5dfc4655e152a627ca6",
    "runtime": {
     "execution_status": null,
     "status": "default"
    },
    "slideshow": {
     "slide_type": "slide"
    },
    "tags": []
   },
   "source": [
    "当有水平辐散时，绝对涡度减小；有水平辐合时，绝对涡度增加。"
   ]
  },
  {
   "cell_type": "code",
   "execution_count": null,
   "metadata": {
    "collapsed": false,
    "id": "C1F1C20B106148D4B6C23C47CFED8D0B",
    "jupyter": {
     "outputs_hidden": false
    },
    "notebookId": "6490b5dfc4655e152a627ca6",
    "slideshow": {
     "slide_type": "slide"
    },
    "tags": []
   },
   "outputs": [],
   "source": [
    "from wrf.g_vorticity import get_avo\n",
    "\n",
    "avo = get_avo(wrf_file)\n",
    "avo"
   ]
  },
  {
   "cell_type": "markdown",
   "metadata": {
    "id": "CA4D7420E815434591C307BD6CBFC1A7",
    "jupyter": {},
    "notebookId": "6490b5dfc4655e152a627ca6",
    "runtime": {
     "execution_status": null,
     "status": "default"
    },
    "slideshow": {
     "slide_type": "slide"
    },
    "tags": []
   },
   "source": [
    "### （8）位势涡度"
   ]
  },
  {
   "cell_type": "markdown",
   "metadata": {
    "id": "AD03E9D469FF4ED7B0720A62486CB3EE",
    "jupyter": {},
    "notebookId": "6490b5dfc4655e152a627ca6",
    "runtime": {
     "execution_status": null,
     "status": "default"
    },
    "slideshow": {
     "slide_type": "slide"
    },
    "tags": []
   },
   "source": [
    "**位势涡度是一个标量，是一个综合表征大气运动状态和热力状态的物理量**，它的重要性在于绝热无摩擦运动中微团的位涡守恒，位涡守恒定理揭示了涡度变化是受到大气热力结构制约的。位势涡度是由绝对涡度和静力稳定度两部分组成的，平流层和对流层顶及高空锋区附近的高位涡主要是因为温度垂直梯度很大。"
   ]
  },
  {
   "cell_type": "code",
   "execution_count": null,
   "metadata": {
    "collapsed": false,
    "id": "9BE9EFF2FF3F4535831769634118C317",
    "jupyter": {
     "outputs_hidden": false
    },
    "notebookId": "6490b5dfc4655e152a627ca6",
    "slideshow": {
     "slide_type": "slide"
    },
    "tags": []
   },
   "outputs": [],
   "source": [
    "from wrf.g_vorticity import get_pvo\n",
    "\n",
    "pvo = get_pvo(wrf_file)\n",
    "pvo"
   ]
  },
  {
   "cell_type": "markdown",
   "metadata": {
    "id": "C3F935599EEA4C349125EE34CC11D2FD",
    "jupyter": {},
    "notebookId": "6490b5dfc4655e152a627ca6",
    "runtime": {
     "execution_status": null,
     "status": "default"
    },
    "slideshow": {
     "slide_type": "slide"
    },
    "tags": []
   },
   "source": [
    "### （9）垂直速度"
   ]
  },
  {
   "cell_type": "markdown",
   "metadata": {
    "id": "A333CDF4283B4118AFAF48FA897BA71D",
    "jupyter": {},
    "notebookId": "6490b5dfc4655e152a627ca6",
    "runtime": {
     "execution_status": null,
     "status": "default"
    },
    "slideshow": {
     "slide_type": "slide"
    },
    "tags": []
   },
   "source": [
    "**气块在垂直方向上的运动速度**，此处单位是$Pa$  $s^{-1}$ 。**数值为正，表示下沉运动；数值为负，表示上升运动。**"
   ]
  },
  {
   "cell_type": "code",
   "execution_count": null,
   "metadata": {
    "collapsed": false,
    "id": "80CD3EC68F894105A195847DC4059497",
    "jupyter": {
     "outputs_hidden": false
    },
    "notebookId": "6490b5dfc4655e152a627ca6",
    "slideshow": {
     "slide_type": "slide"
    },
    "tags": []
   },
   "outputs": [],
   "source": [
    "from wrf.g_omega import get_omega\n",
    "\n",
    "omega = get_omega(wrf_file)\n",
    "omega"
   ]
  },
  {
   "cell_type": "markdown",
   "metadata": {
    "id": "AFFA65F7DAB540E68A819AA14C1536EA",
    "jupyter": {},
    "notebookId": "6490b5dfc4655e152a627ca6",
    "runtime": {
     "execution_status": null,
     "status": "default"
    },
    "slideshow": {
     "slide_type": "slide"
    },
    "tags": []
   },
   "source": [
    "## 二、Stager和Destager"
   ]
  },
  {
   "cell_type": "markdown",
   "metadata": {
    "id": "75B5149C21C14409928E666FAFA024CF",
    "jupyter": {},
    "notebookId": "6490b5dfc4655e152a627ca6",
    "runtime": {
     "execution_status": null,
     "status": "default"
    },
    "slideshow": {
     "slide_type": "slide"
    },
    "tags": []
   },
   "source": [
    "仔细观察的小伙伴会发现如下这些函数，它们都带有destag标签，而且都是风速相关的变量。这究竟是怎么回事呢？"
   ]
  },
  {
   "cell_type": "markdown",
   "metadata": {
    "id": "71653DE4882D4AED9115CE3D280FB5E1",
    "jupyter": {},
    "notebookId": "6490b5dfc4655e152a627ca6",
    "runtime": {
     "execution_status": null,
     "status": "default"
    },
    "slideshow": {
     "slide_type": "slide"
    },
    "tags": []
   },
   "source": [
    "  \n",
    "![Image Name](pic/destag.png)  \n"
   ]
  },
  {
   "cell_type": "markdown",
   "metadata": {
    "id": "D95691B04B3C439B9D14A8D311A51F0F",
    "jupyter": {},
    "notebookId": "6490b5dfc4655e152a627ca6",
    "runtime": {
     "execution_status": null,
     "status": "default"
    },
    "slideshow": {
     "slide_type": "slide"
    },
    "tags": []
   },
   "source": [
    "让我们再回来看原始的WRF模拟数据，不难发现wrfout里有些变量输出在交错格点(stag)，为了计算中保持变量维度一致，需要destag(去stag)。  \n",
    "\n",
    "\n",
    "\n",
    "![Image Name](pic/destag_2.png)  \n"
   ]
  },
  {
   "cell_type": "markdown",
   "metadata": {
    "id": "5CF7F304CD0F4B0FA5BB666D48BCB669",
    "jupyter": {},
    "notebookId": "6490b5dfc4655e152a627ca6",
    "runtime": {
     "execution_status": null,
     "status": "default"
    },
    "slideshow": {
     "slide_type": "slide"
    },
    "tags": []
   },
   "source": [
    "特别的是，上一关案例中我们给出了风速在地图投影上的绘制方法，而这里destag函数的功能是为了与观测资料进行比较。所以两者并不冲突，需要根据需求选择合适的函数。"
   ]
  },
  {
   "cell_type": "code",
   "execution_count": null,
   "metadata": {
    "collapsed": false,
    "id": "F7B95E8ACB5B4A76A03278BB186D6283",
    "jupyter": {
     "outputs_hidden": false
    },
    "notebookId": "6490b5dfc4655e152a627ca6",
    "slideshow": {
     "slide_type": "slide"
    },
    "tags": []
   },
   "outputs": [],
   "source": [
    "from wrf.g_wind import get_destag_wspd_wdir\n",
    "\n",
    "get_destag_wspd_wdir(wrf_file)"
   ]
  },
  {
   "cell_type": "markdown",
   "metadata": {
    "id": "513BD736644D4B2583F23CCC0F17BC3B",
    "jupyter": {},
    "notebookId": "6490b5dfc4655e152a627ca6",
    "runtime": {
     "execution_status": null,
     "status": "default"
    },
    "slideshow": {
     "slide_type": "slide"
    },
    "tags": []
   },
   "source": [
    "### ✍ 小练习：比较原始风速和Destag后的风速大小"
   ]
  },
  {
   "cell_type": "markdown",
   "metadata": {
    "id": "E0AA0399AA3340D896716ED919DFFBB7",
    "jupyter": {},
    "notebookId": "6490b5dfc4655e152a627ca6",
    "runtime": {
     "execution_status": null,
     "status": "default"
    },
    "slideshow": {
     "slide_type": "slide"
    },
    "tags": []
   },
   "source": [
    "本次案例主要介绍了衍生变量的计算工具以及常用的衍生变量的计算方法。  通过wrf-python模块，我们可以计算非常多的WRF衍生变量，**计算这些变量是为了更好地验证模拟的结果**，例如通过卫星观测的云顶亮温、地面雷达观测反射率来评估WRF模拟结果。  \n",
    "\n",
    "当然，如果wrf-python模块里没有我们想要的变量，也不妨根据相关公式原理进行计算。例如：[利用wrfout数据计算能见度 | 气象备忘录](https://www.heywhale.com/mw/project/6210d9b368364e0017a4659f)。  \n",
    "\n",
    "希望大家通过本次学习，能快速地找到并计算自己想要的模拟变量。"
   ]
  },
  {
   "cell_type": "code",
   "execution_count": null,
   "metadata": {
    "collapsed": false,
    "id": "32D325E41E564ECFA36313E56F650083",
    "jupyter": {
     "outputs_hidden": false
    },
    "notebookId": "6490b5dfc4655e152a627ca6",
    "slideshow": {
     "slide_type": "slide"
    },
    "tags": []
   },
   "outputs": [],
   "source": [
    "### （你的代码）###\n",
    "\n"
   ]
  },
  {
   "cell_type": "markdown",
   "metadata": {
    "id": "78F2E9A4BEB348D391A824B7B9FEDDB1",
    "jupyter": {},
    "notebookId": "6490b5dfc4655e152a627ca6",
    "runtime": {
     "execution_status": null,
     "status": "default"
    },
    "slideshow": {
     "slide_type": "slide"
    },
    "tags": []
   },
   "source": [
    "恭喜你完成了WRF后处理训练营第四关的学习材料，能够利用wrf-python计算更多的模拟变量，对数值模式的结果进行更深入的诊断分析。"
   ]
  },
  {
   "cell_type": "markdown",
   "metadata": {
    "id": "6AF0FBE9CDD045FFADB5879DDFC12948",
    "jupyter": {},
    "notebookId": "6490b5dfc4655e152a627ca6",
    "runtime": {
     "execution_status": null,
     "status": "default"
    },
    "slideshow": {
     "slide_type": "slide"
    },
    "tags": []
   },
   "source": [
    "## 闯关题  \n",
    "\n",
    "### STEP1：根据要求完成题目：  \n"
   ]
  },
  {
   "cell_type": "markdown",
   "metadata": {
    "id": "C7677530F662465987F2D50F446057E7",
    "jupyter": {},
    "notebookId": "6490b5dfc4655e152a627ca6",
    "runtime": {
     "execution_status": null,
     "status": "default"
    },
    "slideshow": {
     "slide_type": "slide"
    },
    "tags": []
   },
   "source": [
    "基于`wrfout_d01_2019-08-09_00_00_00`时刻的 WRF 模拟数据进行分析，回答以下问题：  \n",
    "\n",
    "\n",
    "1. 绘制云顶亮温分布，其最低值为多少℃ ？（使用 round 取整）      \n",
    "\n",
    "\n",
    "2. 绘制可降水量分布，其最大值为多少mm ？（使用 round 取整）      \n",
    "\n",
    "\n",
    "3. 绘制最大雷达反射率分布，其最大值为多少dBZ ？（使用 round 取整）      "
   ]
  },
  {
   "cell_type": "code",
   "execution_count": null,
   "metadata": {
    "collapsed": false,
    "id": "1BC02CC05B5344908BCA86412D2279D1",
    "jupyter": {
     "outputs_hidden": false
    },
    "notebookId": "6490b5dfc4655e152a627ca6",
    "slideshow": {
     "slide_type": "slide"
    },
    "tags": []
   },
   "outputs": [],
   "source": [
    "# 填入你的答案\n",
    "answer_1 = ''\n",
    "answer_2 = ''\n",
    "answer_3 = '' "
   ]
  },
  {
   "cell_type": "markdown",
   "metadata": {
    "id": "D59517A290B74DB58EED4070307ED6F5",
    "jupyter": {},
    "notebookId": "6490b5dfc4655e152a627ca6",
    "runtime": {
     "execution_status": null,
     "status": "default"
    },
    "slideshow": {
     "slide_type": "slide"
    },
    "tags": []
   },
   "source": [
    "## ⚡ 下一关预告：  \n",
    "\n",
    "下一关我们将介绍 WRF 模拟数据的**不同插值场景及常用插值方法**，让模式数据分析更加丝滑~~"
   ]
  }
 ],
 "metadata": {
  "kernelspec": {
   "display_name": "Python 3 (ipykernel)",
   "language": "python",
   "name": "python3"
  },
  "language_info": {
   "codemirror_mode": {
    "name": "ipython",
    "version": 3
   },
   "file_extension": ".py",
   "mimetype": "text/x-python",
   "name": "python",
   "nbconvert_exporter": "python",
   "pygments_lexer": "ipython3",
   "version": "3.10.10"
  }
 },
 "nbformat": 4,
 "nbformat_minor": 4
}
