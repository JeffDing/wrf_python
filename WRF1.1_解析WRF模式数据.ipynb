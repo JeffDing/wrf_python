{
 "cells": [
  {
   "cell_type": "markdown",
   "metadata": {
    "_id": "D75DE3ADCC4D4CF78C028E68651C1BCD",
    "id": "B82DF0CF18884DA8B0C72B4B5865F7CF",
    "jupyter": {},
    "notebookId": "648d8f769de7b81463ae885e",
    "runtime": {
     "execution_status": null,
     "status": "default"
    },
    "slideshow": {
     "slide_type": "slide"
    },
    "tags": []
   },
   "source": [
    "\n",
    "![ImageName](pic/title.jpg)  \n",
    "\n",
    "**作者：[lqy](https://www.heywhale.com/home/user/profile/5f27fd9633e1be002cc65a1d)** 华东师范大学气象学研究生、和鲸社区气象数据科学频道版主"
   ]
  },
  {
   "cell_type": "markdown",
   "metadata": {
    "_id": "9A9F4D38564A409F8219781348C5D6CC",
    "id": "F49AAED2E17A455281C3F0AC4F31C6D3",
    "jupyter": {},
    "notebookId": "648d8f769de7b81463ae885e",
    "runtime": {
     "execution_status": null,
     "status": "default"
    },
    "slideshow": {
     "slide_type": "slide"
    },
    "tags": []
   },
   "source": [
    "🐋：本项目来自《[气象训练营⑦：WRF模式后处理](https://www.heywhale.com/home/competition/64478fec113e81a18dc70cd1)》活动，所有教案代码都可以一键跑通，你可以 fork 后在线在线运行、调试学习、完成作业练习。  \n",
    "\n",
    "学习过程中如果你遇到任何问题，欢迎使用搜索引擎，或在 [讨论区](https://www.heywhale.com/home/competition/forumlist/64478fec113e81a18dc70cd1) 中发帖提出，我们很乐意为你提供帮助。"
   ]
  },
  {
   "cell_type": "markdown",
   "metadata": {
    "_id": "216DF7B318AE4EB6977804A0B88290B9",
    "id": "C33CD46238D145E8B019F93BE1850FAB",
    "jupyter": {},
    "notebookId": "648d8f769de7b81463ae885e",
    "runtime": {
     "execution_status": null,
     "status": "default"
    },
    "slideshow": {
     "slide_type": "slide"
    },
    "tags": []
   },
   "source": [
    "# 写在前面  \n",
    "\n",
    "## 1. 活动背景    \n",
    "    \n",
    "+ WRF 模式是一个模拟天气过程的物理模式，作为一个 **免费开源**的气象模式，**高度灵活**，不仅在国内外气象业务和研究中被广泛使用，在地理、遥感、交通、环境、能源等领域也得到了广泛应用，能够与很多学科进行交叉研究。由于 WRF 模拟**数据格式特殊、维度高、体积大** 等，WRF 数据处理对于初学者有一定的难度。    \n",
    "    \n",
    "+ 因此，[本次训练营](https://www.heywhale.com/home/competition/64478fec113e81a18dc70cd1) 希望帮助大家 **更快速掌握 WRF 后处理技能，实现气象业务和科研的基本需求**，进一步挖掘气象数值模拟的价值。    \n",
    "    \n",
    "    \n",
    "## 2. 学习内容    \n",
    "    \n",
    "+ WRF 后处理（Post-processing）是非常关键的一项技能，能够帮助我们更好地实现 **处理（Process）、可视化（Visualize）、比较（Compare）、分析（Analyze）、评估（Evaluate）** WRF 模拟结果。    \n",
    "    \n",
    "+ 本次训练营全部基于 Python 编程语言，利用 Python 工具 **（wrf-python、salem、xarray 和 cartopy 等）**实现 WRF 后处理，包含**数据读取、变量提取、物理量计算、时序分析、空间分布、时空演变等**，包括大量练习与闯关题，希望可以切实提高你的 WRF 后处理技术，更好地应对以后的科研与业务挑战。    \n",
    "    \n",
    "    \n",
    "    \n",
    "## 3. 基础预备        \n",
    "    \n",
    "    \n",
    "+ 本次训练营提供了 **台风利奇马的 WRF 模拟结果（无需自己运行 WRF 模式）**。    \n",
    "    \n",
    "+ WRF 模式后处理需要一定的 **气象数据处理和可视化**的基本技能，建议提前熟悉**cartopy 和 xarray** 基础，非常推荐这两个训练营：    \n",
    "    \n",
    "\t+ [超友好！气象Python训练营⑤xarray使用](https://www.heywhale.com/home/activity/detail/624408cb31153c001798cab2)    \n",
    "    \n",
    "\t+ [超友好！气象Python训练营⑥绘图详解](https://www.heywhale.com/home/activity/detail/62c29fed0123ec8270e8a7b9/content/0)    \n"
   ]
  },
  {
   "cell_type": "markdown",
   "metadata": {
    "_id": "AADE66D840554666AEF2BA1137B80A83",
    "id": "F42300550BCB42D9981BE8A903564A16",
    "jupyter": {},
    "notebookId": "648d8f769de7b81463ae885e",
    "runtime": {
     "execution_status": null,
     "status": "default"
    },
    "slideshow": {
     "slide_type": "slide"
    },
    "tags": []
   },
   "source": [
    "\n",
    "# 关卡一：解析 WRF 模式数据"
   ]
  },
  {
   "cell_type": "markdown",
   "metadata": {
    "_id": "E5EEF8A318274C928912A62C5E76650E",
    "id": "F3F2DD66BB8E4FB58025687FD130CA7A",
    "jupyter": {},
    "notebookId": "648d8f769de7b81463ae885e",
    "runtime": {
     "execution_status": null,
     "status": "default"
    },
    "slideshow": {
     "slide_type": "slide"
    },
    "tags": []
   },
   "source": [
    "作为第一关，我们需要**熟悉WRF模式数据的读取，并实现模拟变量的提取**，为实现WRF数据处理和可视化打下基础。"
   ]
  },
  {
   "cell_type": "markdown",
   "metadata": {
    "_id": "DACBC93B92934943A1572B9152313BC8",
    "id": "EF0AF5D874314CA49B9E848B09EC6108",
    "jupyter": {},
    "notebookId": "648d8f769de7b81463ae885e",
    "runtime": {
     "execution_status": null,
     "status": "default"
    },
    "slideshow": {
     "slide_type": "slide"
    },
    "tags": []
   },
   "source": [
    "## 一、WRF 模式后处理（Post-processing）  \n",
    "\n",
    "WRF模式后处理就是基于WRF模式的模拟结果进行处理，由于WRF模式是一个物理模型，我们需要先运行WRF模式，才能得到模拟结果，这也是为什么称之为**后处理**的原因。"
   ]
  },
  {
   "cell_type": "markdown",
   "metadata": {
    "_id": "604D6C1A882A4ED48E0EF0EA51010A14",
    "id": "EA60FC1ECFF44D889E823CD5C4EA091C",
    "jupyter": {},
    "notebookId": "648d8f769de7b81463ae885e",
    "runtime": {
     "execution_status": null,
     "status": "default"
    },
    "slideshow": {
     "slide_type": "slide"
    },
    "tags": []
   },
   "source": [
    "WRF后处理与往常的数据处理流程是类似的，需要经过**读取数据→提取数据→处理数据→可视化数据**四个流程。但是，我们处理数据时更多是关注物理量的计算，可视化也需要在传统方式的基础上，实现高维空间数据可视化。"
   ]
  },
  {
   "cell_type": "markdown",
   "metadata": {
    "_id": "95DF15BA17364C57800481AAA7C5CD17",
    "id": "AE5A5A21B08D40949A51F17F9CEE31D4",
    "jupyter": {},
    "notebookId": "648d8f769de7b81463ae885e",
    "runtime": {
     "execution_status": null,
     "status": "default"
    },
    "slideshow": {
     "slide_type": "slide"
    },
    "tags": []
   },
   "source": [
    "### （1）关于 WRF 模式"
   ]
  },
  {
   "cell_type": "markdown",
   "metadata": {
    "_id": "7799B62E7737409A8CB5BF611D532FA3",
    "id": "1B10BA67F5BF47A6A9E8619C580957B9",
    "jupyter": {},
    "notebookId": "648d8f769de7b81463ae885e",
    "runtime": {
     "execution_status": null,
     "status": "default"
    },
    "slideshow": {
     "slide_type": "slide"
    },
    "tags": []
   },
   "source": [
    "**WRF（Weather Research & Forecasting Model）**，是一个 **中尺度数值天气预报（Numeric Weather Prediction，NWP）** 模式，由美国环境预测中心（NCEP）和美国国家大气研究中心（NCAR）等科研机构中心联合研发，为大气研究和业务预报应用而设计。        \n",
    "        \n",
    "对于研究人员来说，WRF 可以根据实际的大气条件（即来自观测和分析）或理想化条件进行模拟，同时融合了很多专家学者在 **大气动力学、物理参数化方案和模式资料同化**方面的最新进展，从**中小尺度到全球尺度的数值预报和模拟** 都有广泛的应用 [^1]。.        \n",
    "    \n",
    "WRF 模式编译不仅需要一定的 Linux 基础，其运行也需要高性能的计算资源，造成了一定的使用门槛 [^2]。  \n",
    "\n",
    "[^1]:如果想深入了解WRF模式，可以看下这三份材料：[WRF模式介绍](https://www.mmm.ucar.edu/models/wrf)、[WRF源码下载](https://github.com/wrf-model/WRF/releases)、[WRF使用手册](https://www2.mmm.ucar.edu/wrf/users/download/get_source.html)。  \n",
    "\n",
    "[^2]:大家可以无痛点、不踩坑地在ModelWhale上进行WRF线上模拟。如果想尝试在线运行WRF模式，可以试试[Workshop|Python气象海洋数据分析II](https://www.heywhale.com/home/activity/detail/62de53410bbb187a397cbe76)第四期中[Hollis冬青老师](https://www.heywhale.com/home/user/profile/5f20f9b533e1be002cc5551f)发布的[中尺度天气预报模式WRF入门](https://www.heywhale.com/mw/project/628dc16d843e3c9fdc944a69)。 "
   ]
  },
  {
   "cell_type": "markdown",
   "metadata": {
    "_id": "D330DD06E2A746CA900B2515A172E8EB",
    "id": "84B575F375F14B78BADC11F9DB6D8B3D",
    "jupyter": {},
    "notebookId": "648d8f769de7b81463ae885e",
    "runtime": {
     "execution_status": null,
     "status": "default"
    },
    "slideshow": {
     "slide_type": "slide"
    },
    "tags": []
   },
   "source": [
    "### （2）WRF 数据预览工具"
   ]
  },
  {
   "cell_type": "markdown",
   "metadata": {
    "_id": "1124A1C6B30C403D83BDCEF1DEB2BC4E",
    "id": "A5CDE3CB46624682990B6C9B2BDABE5C",
    "jupyter": {},
    "notebookId": "648d8f769de7b81463ae885e",
    "runtime": {
     "execution_status": null,
     "status": "default"
    },
    "slideshow": {
     "slide_type": "slide"
    },
    "tags": []
   },
   "source": [
    "已有一些工具可以快速查看 WRF 数据变量，你可以在个人 PC 上安装后预览 WRF 模拟结果。这里推荐常用的3种工具：  \n",
    "        \n",
    "#### 1. Ncview （一般在支持图形显示的Linux系统上运行）  \n",
    "> 使用手册：http://meteora.ucsd.edu/~pierce/ncview_home_page.html        \n",
    "        \n",
    "![ImageName](pic/ncview.png)        \n",
    "        \n",
    "        \n",
    "#### 2. Panoply （支持Linux、Windows和Mac系统，方便好用）  \n",
    "> Panoply 官网：https://www.giss.nasa.gov/tools/panoply/        \n",
    "        \n",
    "![ImageName](pic/panoply.png)        \n",
    "      \n",
    "#### 3. IDV  （支持Linux和Windows，有三维显示等高级功能）  \n",
    "> IDV 官网：https://www.unidata.ucar.edu/software/idv/      \n",
    "> 使用手册：https://docs.unidata.ucar.edu/idv/current/workshop/datadisplays/wrf/InteractiveWRFGridDisplays.html      \n",
    "      \n",
    "![ImageName](pic/idv.png)      \n"
   ]
  },
  {
   "cell_type": "markdown",
   "metadata": {
    "_id": "B17FF3F0F9854513BB2CCA5C588BE0DC",
    "id": "B6DB1F855CB44BF3A60F7A992B2D4135",
    "jupyter": {},
    "notebookId": "648d8f769de7b81463ae885e",
    "runtime": {
     "execution_status": null,
     "status": "default"
    },
    "slideshow": {
     "slide_type": "slide"
    },
    "tags": []
   },
   "source": [
    "### （3）WRF 数据处理工具"
   ]
  },
  {
   "cell_type": "markdown",
   "metadata": {
    "_id": "B8591A8F6332434FAB126C68F7E37735",
    "id": "3626BBCBD45D4A339628BFD28A88C90F",
    "jupyter": {},
    "notebookId": "648d8f769de7b81463ae885e",
    "runtime": {
     "execution_status": null,
     "status": "default"
    },
    "slideshow": {
     "slide_type": "slide"
    },
    "tags": []
   },
   "source": [
    "WRF 数据预览工具只能初步查看模拟结果，想要个性化地处理 WRF 数据，还是离不开自己动手编程。  \n",
    "        \n",
    "#### 1. NCL        \n",
    "> 官网示例非常多，运行速度较快，绘图也很好看（但 NCL 已不再继续维护和开发）        \n",
    "> 使用手册：https://www.ncl.ucar.edu/        \n",
    "        \n",
    "#### 2. wrf-python        \n",
    "> 使用手册：https://wrf-python.readthedocs.io/en/latest/        \n",
    "> 同样是 NCAR 官方开发，能够实现 NCL 的功能，对 Python 用户友好，兼容 xarray、cartopy 等模块        \n",
    "        \n",
    "#### 3. salem        \n",
    "> 与 wrf-python 类似，有很多 WRF 数据处理功能，对 Python 用户友好，兼容 xarray、cartopy 等模块        \n",
    "> 使用手册：https://salem.readthedocs.io/en/stable/index.html        \n",
    "        \n",
    "        \n",
    "NCL 是一门相对古老的语言，使用起来较 Python 更为复杂。其实，熟练掌握 **wrf-python 和 salem** 能很大程度满足研究 / 业务需要。"
   ]
  },
  {
   "cell_type": "markdown",
   "metadata": {
    "_id": "0E9A3E47F4074481844C1FFE3DD0012F",
    "id": "D0F7990607284048A94DA3DC648E2298",
    "jupyter": {},
    "notebookId": "648d8f769de7b81463ae885e",
    "runtime": {
     "execution_status": null,
     "status": "default"
    },
    "slideshow": {
     "slide_type": "slide"
    },
    "tags": []
   },
   "source": [
    "### （4）WRF 模拟数据案例：模拟超强台风 “利奇马”"
   ]
  },
  {
   "cell_type": "markdown",
   "metadata": {
    "_id": "4868529E2DAF467EB43BF56496137958",
    "id": "F56E3F0B2C2940ABB0AF08077DDC94B6",
    "jupyter": {},
    "notebookId": "648d8f769de7b81463ae885e",
    "runtime": {
     "execution_status": null,
     "status": "default"
    },
    "slideshow": {
     "slide_type": "slide"
    },
    "tags": []
   },
   "source": [
    "灾害性天气是大家非常关注的，台风的影响面积广且持续时间长，其风雨对我国沿海地区造成较大的威胁。因此，我们利用 WRF 4.2.2 版本模拟 **1909 号超强台风利奇马**，驱动场是 [NCEP0.25°FNL资料](https://rda.ucar.edu/datasets/ds083.2/)，积分开始时间是 2019 年 8 月 18 日 18 时（UTC）。数据集已挂载完毕，可以直接读取、使用。        \n",
    "        \n",
    "> [关于超强台风“利奇马”的一生](https://www.cma.gov.cn/2011xwzx/2011xqxxw/2011xzytq/201908/t20190814_533010.html)        \n",
    "        \n",
    "2019 年 8 月 10 日凌晨，“利奇马” 以超强台风姿态登陆浙江，中心附近最大风力 16 级（52 米 / 秒），一举成为 **1949 年以来登陆我国大陆地区第五强、登陆浙江第三强**。在浙江停滞 20 小时后，穿过江苏移入黄海，成为 **滞留浙江时间最长的超强台风**。        \n",
    "        \n",
    "超强台风 “利奇马”**两次登陆我国，两次入海**，最终在渤海缓缓结束一生。它 **登陆强度强、陆地滞留时间长、降雨强度大且极端性显著、大风影响范围广且持续时间长**，使华东及环渤海等地遭受严重风雨影响，浙江、安徽、江苏、山东等地均出现不同程度的城乡积涝、中小河流洪水、山洪和滑坡等灾害。        \n",
    "        \n",
    "        \n",
    "![ImageName](pic/lqm_path.png)        \n",
    "        \n"
   ]
  },
  {
   "cell_type": "markdown",
   "metadata": {
    "_id": "BEF2238FDD3840A8AB59B0F7C666F900",
    "id": "620DE320D8A242ECA84D7C84E9BD23E9",
    "jupyter": {},
    "notebookId": "648d8f769de7b81463ae885e",
    "runtime": {
     "execution_status": null,
     "status": "default"
    },
    "slideshow": {
     "slide_type": "slide"
    },
    "tags": []
   },
   "source": [
    "## 二、熟悉 WRF 数据的文件名"
   ]
  },
  {
   "cell_type": "code",
   "execution_count": null,
   "metadata": {
    "_id": "AB3AC18A681948F0AE6E80E8D121669B",
    "collapsed": false,
    "id": "5EC040F28C8C4501AFB24F4B571773F3",
    "jupyter": {
     "outputs_hidden": false
    },
    "notebookId": "648d8f769de7b81463ae885e",
    "slideshow": {
     "slide_type": "slide"
    },
    "tags": []
   },
   "outputs": [],
   "source": [
    "!ls ./dataset/wrfout  # 🐋：摁Ctrl/Shift+Enter即可运行本cell，不用谢"
   ]
  },
  {
   "cell_type": "markdown",
   "metadata": {
    "_id": "256E374DF5E0412D8CB70458BF0D2670",
    "id": "DB07E5395A72453C85AA20A7F2F1E10F",
    "jupyter": {},
    "notebookId": "648d8f769de7b81463ae885e",
    "runtime": {
     "execution_status": null,
     "status": "default"
    },
    "slideshow": {
     "slide_type": "slide"
    },
    "tags": []
   },
   "source": [
    "WRF 输出数据的命名可以拆解为三个部分：        \n",
    "        \n",
    "1. WRF 模式输出数据都会以 `wrfout_` 开头        \n",
    "        \n",
    "2. `d01` 表示第一层网格（这里是单层模拟，只有 d01，如果是三层嵌套模拟，则有 d01、d02 和 d03）。        \n",
    "        \n",
    "3. 表示时间的字符串 `2019-08-08_18_00_00`，格式为 yyyy（年）\\_mm（月）\\_dd（日）\\_hh（时）\\_mm（分）\\_ss（秒），注意这并不是北京时间，而是 **世界协调时（UTC）**。        \n",
    "        \n",
    "本次给出的 WRF 模拟结果是按逐小时输出的 [^1]。  \n",
    "\n",
    "[^1]: 这个是在运行 WRF 时候自行设定的。"
   ]
  },
  {
   "cell_type": "markdown",
   "metadata": {
    "_id": "C67DC6018461491DA12FA471CDA9641F",
    "id": "0F05A1863ADE481A957B0106B1CFE607",
    "jupyter": {},
    "notebookId": "648d8f769de7b81463ae885e",
    "runtime": {
     "execution_status": null,
     "status": "default"
    },
    "slideshow": {
     "slide_type": "slide"
    },
    "tags": []
   },
   "source": [
    "## 三、读取单个 WRF 模拟数据"
   ]
  },
  {
   "cell_type": "markdown",
   "metadata": {
    "_id": "A28D202E3AE1461D8F5BFFEA9FB8717F",
    "id": "C4439ED8AEED4337B53BC19907392B3C",
    "jupyter": {},
    "notebookId": "648d8f769de7b81463ae885e",
    "runtime": {
     "execution_status": null,
     "status": "default"
    },
    "slideshow": {
     "slide_type": "slide"
    },
    "tags": []
   },
   "source": [
    "虽然 wrfout 数据没有后缀格式，但 **本质上是 NETCDF 格式** 的数据。所以我们可以利用 netcdf4 或 xarray 模块读取 WRF 模拟数据、查看模拟设置。"
   ]
  },
  {
   "cell_type": "markdown",
   "metadata": {
    "_id": "C09C47A018684CAAA538C605F8B8C4D1",
    "id": "18733B012BD64E51A5CD18DE8871D97D",
    "jupyter": {},
    "notebookId": "648d8f769de7b81463ae885e",
    "runtime": {
     "execution_status": null,
     "status": "default"
    },
    "slideshow": {
     "slide_type": "slide"
    },
    "tags": []
   },
   "source": [
    "### （1）基于 netCDF4 模块  \n",
    "\n",
    "netcdf4-python 使用手册：https://unidata.github.io/netcdf4-python/"
   ]
  },
  {
   "cell_type": "code",
   "execution_count": null,
   "metadata": {
    "collapsed": false,
    "id": "DE84B86C6EA84A45B5D5981A28D4AADD",
    "jupyter": {
     "outputs_hidden": false
    },
    "notebookId": "648d8f769de7b81463ae885e",
    "slideshow": {
     "slide_type": "slide"
    },
    "tags": []
   },
   "outputs": [],
   "source": [
    "# 设置WRF数据目录\n",
    "wrfout_path = './dataset/wrfout/'"
   ]
  },
  {
   "cell_type": "code",
   "execution_count": null,
   "metadata": {
    "_id": "5A848EF8D9CD493B9B9C79EE41A60B8D",
    "collapsed": false,
    "id": "B1F3A4A24F504304AA60C3BA2AE66337",
    "jupyter": {
     "outputs_hidden": false
    },
    "notebookId": "648d8f769de7b81463ae885e",
    "slideshow": {
     "slide_type": "slide"
    },
    "tags": []
   },
   "outputs": [],
   "source": [
    "from netCDF4 import Dataset\n",
    "\n",
    "# 用netCDF4模块读取WRF模拟数据\n",
    "ncfile = Dataset(wrfout_path + 'wrfout_d01_2019-08-08_18_00_00')\n",
    "type(ncfile)"
   ]
  },
  {
   "cell_type": "code",
   "execution_count": null,
   "metadata": {
    "_id": "0A32DB3D3C7C4969B169E6D7AF3EF8E4",
    "collapsed": false,
    "id": "D53DDC0C6CFD49D38E21B36F54A12C66",
    "jupyter": {
     "outputs_hidden": false
    },
    "notebookId": "648d8f769de7b81463ae885e",
    "slideshow": {
     "slide_type": "slide"
    },
    "tags": []
   },
   "outputs": [],
   "source": [
    "# 查看基于netcdf4模块读取的变量个数\n",
    "var_all = list(ncfile.variables.keys())\n",
    "print(len(var_all))"
   ]
  },
  {
   "cell_type": "markdown",
   "metadata": {
    "_id": "81D50007F1154345BD4FA3560CA2FE37",
    "id": "2ADE454B6E3F4723B24025528E430CEF",
    "jupyter": {},
    "notebookId": "648d8f769de7b81463ae885e",
    "runtime": {
     "execution_status": null,
     "status": "default"
    },
    "slideshow": {
     "slide_type": "slide"
    },
    "tags": []
   },
   "source": [
    "##### ✍ 小练习：查看 WRF 模拟设置"
   ]
  },
  {
   "cell_type": "code",
   "execution_count": null,
   "metadata": {
    "_id": "620878F57F374F9788D76C1C0B247A3F",
    "collapsed": false,
    "id": "0ECBB2868ED1431F85B680EAA9DD1F0D",
    "jupyter": {
     "outputs_hidden": false
    },
    "notebookId": "648d8f769de7b81463ae885e",
    "slideshow": {
     "slide_type": "slide"
    },
    "tags": []
   },
   "outputs": [],
   "source": [
    "# 查看ncfile的属性（由于返回结果较长，在此注释）\n",
    "# 这里包含了WRF模拟设置（模拟范围、时间、分辨率、物理方案等等）\n",
    "print(ncfile) "
   ]
  },
  {
   "cell_type": "markdown",
   "metadata": {
    "_id": "41EB077E66144A6691D86A2D564F3C44",
    "id": "474B2E37735C41B280A10EA1D409C0B7",
    "jupyter": {},
    "notebookId": "648d8f769de7b81463ae885e",
    "runtime": {
     "execution_status": null,
     "status": "default"
    },
    "slideshow": {
     "slide_type": "slide"
    },
    "tags": []
   },
   "source": [
    "### （2）基于 xarray 模块"
   ]
  },
  {
   "cell_type": "markdown",
   "metadata": {
    "_id": "B40260F2C64D4173A1404DEB056D76B0",
    "id": "78FAB6AD60B2471A8AF9502709CB59FD",
    "jupyter": {},
    "notebookId": "648d8f769de7b81463ae885e",
    "runtime": {
     "execution_status": null,
     "status": "default"
    },
    "slideshow": {
     "slide_type": "slide"
    },
    "tags": []
   },
   "source": [
    "xarray 使用手册：https://docs.xarray.dev/en/stable/index.html  \n",
    "\n",
    "xarray 不仅能读取netCDF4数据，还能实现多维数据的运算和可视化，是一个功能强大、应用广泛的气象数据处理模块。"
   ]
  },
  {
   "cell_type": "code",
   "execution_count": null,
   "metadata": {
    "_id": "DFF05DCABAED4D4C9E5B5DC1A5353AC8",
    "collapsed": false,
    "id": "DEF97CB754584D19B8356749CEEF050D",
    "jupyter": {
     "outputs_hidden": false
    },
    "notebookId": "648d8f769de7b81463ae885e",
    "slideshow": {
     "slide_type": "slide"
    },
    "tags": []
   },
   "outputs": [],
   "source": [
    "import xarray as xr\n",
    "\n",
    "# 用xarray包读取WRF模拟数据\n",
    "ds = xr.open_dataset(wrfout_path + 'wrfout_d01_2019-08-08_18_00_00')\n",
    "ds"
   ]
  },
  {
   "cell_type": "code",
   "execution_count": null,
   "metadata": {
    "_id": "5484BC8474874719926969BF43384C00",
    "collapsed": false,
    "id": "F4383B917F68449C907765D97EB44D5F",
    "jupyter": {
     "outputs_hidden": false
    },
    "notebookId": "648d8f769de7b81463ae885e",
    "slideshow": {
     "slide_type": "slide"
    },
    "tags": []
   },
   "outputs": [],
   "source": [
    "# 查看基于xarray模块读取的变量个数\n",
    "var_all = list(ds.keys())\n",
    "print(len(var_all))"
   ]
  },
  {
   "cell_type": "markdown",
   "metadata": {
    "_id": "5D36D829028A47808C36E6609E49E4F6",
    "id": "A47AFAE58F4D403D9691F964E2BFBC12",
    "jupyter": {},
    "notebookId": "648d8f769de7b81463ae885e",
    "runtime": {
     "execution_status": null,
     "status": "default"
    },
    "slideshow": {
     "slide_type": "slide"
    },
    "tags": []
   },
   "source": [
    "### （3）基于 salem 模块读取"
   ]
  },
  {
   "cell_type": "markdown",
   "metadata": {
    "_id": "C55D9919B99046D59FCAA3360628ECED",
    "id": "B7DD6516E11747958EBDC605AFFD49C1",
    "jupyter": {},
    "notebookId": "648d8f769de7b81463ae885e",
    "runtime": {
     "execution_status": null,
     "status": "default"
    },
    "slideshow": {
     "slide_type": "slide"
    },
    "tags": []
   },
   "source": [
    "> salem 使用手册：https://salem.readthedocs.io/en/stable/index.html        "
   ]
  },
  {
   "cell_type": "markdown",
   "metadata": {
    "id": "A01B118BE1474789A600DCB9881462FC",
    "jupyter": {},
    "notebookId": "648d8f769de7b81463ae885e",
    "runtime": {
     "execution_status": null,
     "status": "default"
    },
    "slideshow": {
     "slide_type": "slide"
    },
    "tags": []
   },
   "source": [
    "第一次使用 `salem` 需要在 `home` 目录中创建 `.salem_cache` 文件夹，并下载 `salem-sample-data` 的数据包。为了更友好地直接导入 `salem` ，本项目已挂载社区的共享数据集[salem_cache文件集合](https://www.heywhale.com/mw/dataset/64716032b1251d62bfb38aa8/file)，再把该数据集的数据复制到 `/home/mw/.salem_cache/`  内，实现手动下载，避免卡住。"
   ]
  },
  {
   "cell_type": "code",
   "execution_count": null,
   "metadata": {
    "collapsed": false,
    "id": "D718944911554CF389A18172E6E5AC9A",
    "jupyter": {
     "outputs_hidden": false
    },
    "notebookId": "648d8f769de7b81463ae885e",
    "slideshow": {
     "slide_type": "slide"
    },
    "tags": []
   },
   "outputs": [],
   "source": [
    "import os\n",
    "import os.path\n",
    "\n",
    "if(not os.path.exists('/root/.salem_cache')):\n",
    "    os.mkdir('/root/.salem_cache') # 创建后它隐形的\n",
    "\n",
    "! cp -r ./dataset/salem_cache /root/.salem_cache/ # 拷贝文件\n",
    "! ls -ll /root/.salem_cache/  # 检查有无成功"
   ]
  },
  {
   "cell_type": "code",
   "execution_count": null,
   "metadata": {
    "_id": "8CC39462C48E4FD491476555D9AA1CED",
    "collapsed": false,
    "id": "8FF5582353A84375A1E56F93756BD7C1",
    "jupyter": {
     "outputs_hidden": false
    },
    "notebookId": "648d8f769de7b81463ae885e",
    "slideshow": {
     "slide_type": "slide"
    },
    "tags": []
   },
   "outputs": [],
   "source": [
    "import salem\n",
    "# 用salem包读取数据\n",
    "ds = salem.open_wrf_dataset(wrfout_path + 'wrfout_d01_2019-08-08_18_00_00')\n",
    "ds"
   ]
  },
  {
   "cell_type": "code",
   "execution_count": null,
   "metadata": {
    "_id": "79D8C9F670DC46CF9A5138ACFBD8F977",
    "collapsed": false,
    "id": "9E2B127EFBED4CE89834EA259BDAEE8B",
    "jupyter": {
     "outputs_hidden": false
    },
    "notebookId": "648d8f769de7b81463ae885e",
    "slideshow": {
     "slide_type": "slide"
    },
    "tags": []
   },
   "outputs": [],
   "source": [
    "# 查看基于salem模块读取的变量个数\n",
    "var_all = list(ds.keys())\n",
    "print(len(var_all))"
   ]
  },
  {
   "cell_type": "markdown",
   "metadata": {
    "_id": "79B7E3BABD3446168FD51E39AB6CEDED",
    "id": "41814FBA8FBA472D93987D4C03C77A00",
    "jupyter": {},
    "notebookId": "648d8f769de7b81463ae885e",
    "runtime": {
     "execution_status": null,
     "status": "default"
    },
    "slideshow": {
     "slide_type": "slide"
    },
    "tags": []
   },
   "source": [
    "对比下 netcdf4 读取出来的变量结果，让我们做一个小练习。"
   ]
  },
  {
   "cell_type": "markdown",
   "metadata": {
    "_id": "4EB35BD00D184D419FAF287487ADFC80",
    "id": "9F50E6B74D814225B4486C2E81A996CE",
    "jupyter": {},
    "notebookId": "648d8f769de7b81463ae885e",
    "runtime": {
     "execution_status": null,
     "status": "default"
    },
    "slideshow": {
     "slide_type": "slide"
    },
    "tags": []
   },
   "source": [
    "#### ✍ 小练习：比较基于 xarray 和 salem 模块读取的 WRF 模拟数据变量差异"
   ]
  },
  {
   "cell_type": "markdown",
   "metadata": {
    "_id": "8A4D3393B8A14444B0D62B8CAD0C391F",
    "id": "C3BB3FDF82D44CBCB7CC17D515835357",
    "jupyter": {},
    "notebookId": "648d8f769de7b81463ae885e",
    "runtime": {
     "execution_status": null,
     "status": "default"
    },
    "slideshow": {
     "slide_type": "slide"
    },
    "tags": []
   },
   "source": [
    "我们分别用 netcdf4、xarray 和 salem 模块读取的 WRF 模拟数据变量名（列表 `var_all`），可以看到 netcdf4 和 salem 模块读取的变量为 166 个，而 xarray 读取的变量为 159 个，你能找到它们之间的差异吗？  \n",
    "\n",
    "提示：将变量名称添加到列表，并计算两个列表的差集"
   ]
  },
  {
   "cell_type": "markdown",
   "metadata": {
    "_id": "C146497C8AE34CD9A180ADEFEFEB4F94",
    "id": "C5ADFDD6D44D4B419A85EEFCAD743B99",
    "jupyter": {},
    "notebookId": "648d8f769de7b81463ae885e",
    "runtime": {
     "execution_status": null,
     "status": "default"
    },
    "slideshow": {
     "slide_type": "slide"
    },
    "tags": []
   },
   "source": [
    "## 四、合并多个 WRF 模拟数据"
   ]
  },
  {
   "cell_type": "markdown",
   "metadata": {
    "_id": "13F4581327F048299DDB7E597FB02414",
    "id": "76B94E55BB954BCB8F058DD2C9F8C40A",
    "jupyter": {},
    "notebookId": "648d8f769de7b81463ae885e",
    "runtime": {
     "execution_status": null,
     "status": "default"
    },
    "slideshow": {
     "slide_type": "slide"
    },
    "tags": []
   },
   "source": [
    "通常一次 WRF 模拟会输出很多时次的数据，为了更好地分析时序变化，需要将所需模拟时次的 WRF 数据进行合并。"
   ]
  },
  {
   "cell_type": "markdown",
   "metadata": {
    "_id": "56F4C90736D0483E9B4CE92B04447C87",
    "id": "6B14438170C048C1BF4A6C18EDEDFBB1",
    "jupyter": {},
    "notebookId": "648d8f769de7b81463ae885e",
    "runtime": {
     "execution_status": null,
     "status": "default"
    },
    "slideshow": {
     "slide_type": "slide"
    },
    "tags": []
   },
   "source": [
    "### 会失败的尝试 1：基于 xarray 模块读取"
   ]
  },
  {
   "cell_type": "code",
   "execution_count": null,
   "metadata": {
    "_id": "106C69A9D9DF4B2E87521AA7E91EADC8",
    "collapsed": false,
    "id": "5316BF5D4FCD4EB19FCF0DAAF888791A",
    "jupyter": {
     "outputs_hidden": false
    },
    "notebookId": "648d8f769de7b81463ae885e",
    "slideshow": {
     "slide_type": "slide"
    },
    "tags": []
   },
   "outputs": [],
   "source": [
    "# 尝试1：基于xarray模块无法读取  \n",
    "# 传统的nc数据是可以根据时间维度拼接的，但是对WRF模拟数据并不支持  \n",
    "# ds = xr.open_mfdataset(wrfout_path + 'wrfout_d01_*')  "
   ]
  },
  {
   "cell_type": "markdown",
   "metadata": {
    "_id": "5699F77B9EDA4C2595EA18B31D2B21D7",
    "id": "57C6FFFB000046FB8E966D7B28459DEE",
    "jupyter": {},
    "notebookId": "648d8f769de7b81463ae885e",
    "runtime": {
     "execution_status": null,
     "status": "default"
    },
    "slideshow": {
     "slide_type": "slide"
    },
    "tags": []
   },
   "source": [
    "### 不推荐的尝试 2：使用循环读取内存溢出"
   ]
  },
  {
   "cell_type": "markdown",
   "metadata": {
    "_id": "36FEC050F07046D393FA8F24A521555A",
    "id": "828F00264BC8463F8384DD227D8F7F93",
    "jupyter": {},
    "notebookId": "648d8f769de7b81463ae885e",
    "runtime": {
     "execution_status": null,
     "status": "default"
    },
    "slideshow": {
     "slide_type": "slide"
    },
    "tags": []
   },
   "source": [
    "虽然 xarray 的合并读取报错了，于是有同学会想到用自己构建一个列表，然后按照指定的维度（Time）进行合并。        \n"
   ]
  },
  {
   "cell_type": "code",
   "execution_count": null,
   "metadata": {
    "_id": "1D4721962D4D437181A964655F077474",
    "collapsed": false,
    "id": "F73A3D8FA48E4A1B9CDF6A6E923EE109",
    "jupyter": {
     "outputs_hidden": false
    },
    "notebookId": "648d8f769de7b81463ae885e",
    "slideshow": {
     "slide_type": "slide"
    },
    "tags": []
   },
   "outputs": [],
   "source": [
    "# from glob import glob        \n",
    "# # 得到wrfout数据列表        \n",
    "# wrf_list = sorted(glob(wrfout_path + 'wrfout_*'))        \n",
    "        \n",
    "# # 循环的方式将xarray读取结果添加到ds_list        \n",
    "# ds_list = []        \n",
    "# for i in wrf_list:        \n",
    "#     ds = xr.open_dataset(i)        \n",
    "#     ds_list.append(ds)        \n",
    "        \n",
    "# # 按时间维度合并数据        \n",
    "# ds_all = xr.concat(ds_list, \"Time\")        \n",
    "# ds_all   "
   ]
  },
  {
   "cell_type": "markdown",
   "metadata": {
    "_id": "50BCD6FDA4D644BDBDC4BAF454EE7FC5",
    "id": "FCF77D53C41F413E9F65D92E42E52771",
    "jupyter": {},
    "notebookId": "648d8f769de7b81463ae885e",
    "runtime": {
     "execution_status": null,
     "status": "default"
    },
    "slideshow": {
     "slide_type": "slide"
    },
    "tags": []
   },
   "source": [
    "\n",
    "        \n",
    "        \n",
    "**这个方法非常不推荐！！因为 WRF 数据比较大，非常容易超出内存限制！！**"
   ]
  },
  {
   "cell_type": "markdown",
   "metadata": {
    "_id": "1E40641B7ACC4B73920125D87901C988",
    "id": "DE7C93C05005469B90984C415D0AA58D",
    "jupyter": {},
    "notebookId": "648d8f769de7b81463ae885e",
    "runtime": {
     "execution_status": null,
     "status": "default"
    },
    "slideshow": {
     "slide_type": "slide"
    },
    "tags": []
   },
   "source": [
    "### 正解：salem 模块一行搞定"
   ]
  },
  {
   "cell_type": "markdown",
   "metadata": {
    "_id": "33A9184EF8FE4FD2836D94EFE4A1031C",
    "id": "ABB315A181A34221B187224E97A05879",
    "jupyter": {},
    "notebookId": "648d8f769de7b81463ae885e",
    "runtime": {
     "execution_status": null,
     "status": "default"
    },
    "slideshow": {
     "slide_type": "slide"
    },
    "tags": []
   },
   "source": [
    "最简单高效的方法：使用`salem.open_mf_wrf_dataset`函数"
   ]
  },
  {
   "cell_type": "code",
   "execution_count": null,
   "metadata": {
    "_id": "9C76DCAB4C4E4D9EB5A0EBDA3A9F2149",
    "collapsed": false,
    "id": "79178EB4825F46D59DBCD2CD4AB62C0C",
    "jupyter": {
     "outputs_hidden": false
    },
    "notebookId": "648d8f769de7b81463ae885e",
    "slideshow": {
     "slide_type": "slide"
    },
    "tags": []
   },
   "outputs": [],
   "source": [
    "import salem\n",
    "# 用salem模块进行合并读取\n",
    "ds_all = salem.open_mf_wrf_dataset(wrfout_path + 'wrfout_d01_*')\n",
    "ds_all"
   ]
  },
  {
   "cell_type": "markdown",
   "metadata": {
    "_id": "9F92D3AF80604ED29853DA8D822694EF",
    "id": "4806C25B4C52428D8FC4A2FA5F38E46D",
    "jupyter": {},
    "notebookId": "648d8f769de7b81463ae885e",
    "runtime": {
     "execution_status": null,
     "status": "default"
    },
    "slideshow": {
     "slide_type": "slide"
    },
    "tags": []
   },
   "source": [
    "这个函数读取不仅代码简单，而且效率高，是因为其采用了并行读取的方式，并没有直接将全部数据加载进内存。感兴趣可以与上述循环读取方式进行比对。"
   ]
  },
  {
   "cell_type": "markdown",
   "metadata": {
    "_id": "414238E06BED4D9C8CDF1B7C5FDD4D2D",
    "id": "39884B8A086F4606BE97905802D9C5F4",
    "jupyter": {},
    "notebookId": "648d8f769de7b81463ae885e",
    "runtime": {
     "execution_status": null,
     "status": "default"
    },
    "slideshow": {
     "slide_type": "slide"
    },
    "tags": []
   },
   "source": [
    "## 五、WRF 模拟变量的提取（含合并提取）"
   ]
  },
  {
   "cell_type": "markdown",
   "metadata": {
    "_id": "A9E1FC4185464B5BB1F6605F7EC07039",
    "id": "0A3FD336A4034A9787E0E40FE06947A7",
    "jupyter": {},
    "notebookId": "648d8f769de7b81463ae885e",
    "runtime": {
     "execution_status": null,
     "status": "default"
    },
    "slideshow": {
     "slide_type": "slide"
    },
    "tags": []
   },
   "source": [
    "由于使用了不同的读取方式，xarray 和 salem 模块读取的返回结果都是 xarray.Dataset 格式，而 netCDF4 读取的返回结果是 netCDF4.\\_netCDF4.Dataset 格式。因此，变量提取方法上也会存在一些差异。"
   ]
  },
  {
   "cell_type": "markdown",
   "metadata": {
    "_id": "6542A34C92EC40AD988BDE7D4D09F8B6",
    "id": "E806F274C53E41909B72317104C9B82D",
    "jupyter": {},
    "notebookId": "648d8f769de7b81463ae885e",
    "runtime": {
     "execution_status": null,
     "status": "default"
    },
    "slideshow": {
     "slide_type": "slide"
    },
    "tags": []
   },
   "source": [
    "### 读取方法一：使用 xarray/salem  \n",
    "\n",
    "友情提醒：对 FNL 数据结构不熟悉的同学，可以看看这篇《[用python轻松提取grib文件数据，只用3个步骤](https://www.heywhale.com/mw/project/62537e970b30350017514b5d)》。"
   ]
  },
  {
   "cell_type": "code",
   "execution_count": null,
   "metadata": {
    "_id": "822B4940EFEA4EC78BF54C335477582A",
    "collapsed": false,
    "id": "2E2CD2F9A8D84132AB911087A06A20E5",
    "jupyter": {
     "outputs_hidden": false
    },
    "notebookId": "648d8f769de7b81463ae885e",
    "slideshow": {
     "slide_type": "slide"
    },
    "tags": []
   },
   "outputs": [],
   "source": [
    "# 提取特定变量，以海平面气压为例，找到变量名称即可访问数据\n",
    "ds_all.SLP"
   ]
  },
  {
   "cell_type": "code",
   "execution_count": null,
   "metadata": {
    "_id": "F681E7C8DE794D35A126D9B36725319B",
    "collapsed": false,
    "id": "85683D1518C541CE992660FCAF998D51",
    "jupyter": {
     "outputs_hidden": false
    },
    "notebookId": "648d8f769de7b81463ae885e",
    "slideshow": {
     "slide_type": "slide"
    },
    "tags": []
   },
   "outputs": [],
   "source": [
    "# 筛选特定的时间范围\n",
    "ds_all.SLP.sel(time=slice('2019-08-08 18:00:00', '2019-08-09 00:00:00'))"
   ]
  },
  {
   "cell_type": "markdown",
   "metadata": {
    "_id": "067DAF66852D4744AFFA82D13DD4C1AC",
    "id": "06C16C994F6D49ABBDD878F8E1AFED5B",
    "jupyter": {},
    "notebookId": "648d8f769de7b81463ae885e",
    "runtime": {
     "execution_status": null,
     "status": "default"
    },
    "slideshow": {
     "slide_type": "slide"
    },
    "tags": []
   },
   "source": [
    "### 读取方法二：使用 netCDF4"
   ]
  },
  {
   "cell_type": "markdown",
   "metadata": {
    "_id": "30CDC27B8ED345C68D77E28217092F26",
    "id": "3394CCD2FC6D4FDBBB5CC168720DED37",
    "jupyter": {},
    "notebookId": "648d8f769de7b81463ae885e",
    "runtime": {
     "execution_status": null,
     "status": "default"
    },
    "slideshow": {
     "slide_type": "slide"
    },
    "tags": []
   },
   "source": [
    "`wrf-python` 模块中的 `getvar` 函数可以提取 netCDF4 读取的结果 [^1]。此处getvar函数与之前xarray模块提取的结果不会存在数值上的差异。  \n",
    "        \n",
    "[^1]: `getvar` 可以提取的 WRF 变量：https://wrf-python.readthedocs.io/en/latest/user_api/generated/wrf.getvar.html"
   ]
  },
  {
   "cell_type": "code",
   "execution_count": null,
   "metadata": {
    "_id": "B9CB53485041483CADFEB94E5915D362",
    "collapsed": false,
    "id": "1C7005E9FF234BA29A262521A8FE76AF",
    "jupyter": {
     "outputs_hidden": false
    },
    "notebookId": "648d8f769de7b81463ae885e",
    "slideshow": {
     "slide_type": "slide"
    },
    "tags": []
   },
   "outputs": [],
   "source": [
    "from wrf import getvar\n",
    "# 用netCDF4包读取WRF模拟数据\n",
    "wrf_file = Dataset(wrfout_path + 'wrfout_d01_2019-08-08_18_00_00')\n",
    "# timeidx可以表示时间序列的顺序，可为正（顺序索引），可为负（倒序索引）\n",
    "slp = getvar(wrf_file, 'slp', timeidx=-1)\n",
    "slp"
   ]
  },
  {
   "cell_type": "code",
   "execution_count": null,
   "metadata": {
    "_id": "BB125E0A8E034061AFE5B611805765DB",
    "collapsed": false,
    "id": "B4E22D2CBE19488CBCE6F6E6EF89C1DD",
    "jupyter": {
     "outputs_hidden": false
    },
    "notebookId": "648d8f769de7b81463ae885e",
    "slideshow": {
     "slide_type": "slide"
    },
    "tags": []
   },
   "outputs": [],
   "source": [
    "# 如果想将xarray.DataArray()换成更为熟悉的numpy.array()，可以设置禁用xarray\n",
    "# 方法一：在getvar函数中添加meta参数，并设置为False\n",
    "slp_np_1 = getvar(wrf_file, 'slp', timeidx=-1, meta=False)\n",
    "# 方法二：使用to_np函数\n",
    "from wrf import to_np\n",
    "slp_np_2 = to_np(slp)"
   ]
  },
  {
   "cell_type": "markdown",
   "metadata": {
    "_id": "DD0CADB1B30A46B4A7D64189514BBB34",
    "id": "8EE38B6F16A8467082E64076D6A53F97",
    "jupyter": {},
    "notebookId": "648d8f769de7b81463ae885e",
    "runtime": {
     "execution_status": null,
     "status": "default"
    },
    "slideshow": {
     "slide_type": "slide"
    },
    "tags": []
   },
   "source": [
    "### 合并提取方法一：利用 cat 方法  \n",
    "\n",
    "有时候，我们为了避免单个WRF模拟数据存储过大，会将其分为多个时次的数据输出。这样虽然减少了单个数据的存储大小，但是对时间连续分析造成了不便，因此需要有一个根据时间来合并提取的方法。  \n",
    "\n",
    "下面这个案例展示了合并提取多个时次的海平面气压数据。"
   ]
  },
  {
   "cell_type": "code",
   "execution_count": null,
   "metadata": {
    "_id": "17C1FD30070E445A95CB3575555F601B",
    "collapsed": false,
    "id": "0DC748851C5242BDB34620B51F49A92E",
    "jupyter": {
     "outputs_hidden": false
    },
    "notebookId": "648d8f769de7b81463ae885e",
    "slideshow": {
     "slide_type": "slide"
    },
    "tags": []
   },
   "outputs": [],
   "source": [
    "from wrf import getvar, ALL_TIMES\n",
    "import os\n",
    "\n",
    "# 构建一个WRF数据列表\n",
    "'''\n",
    "wrf_list = [Dataset(wrfout_path + \"wrfout_d01_2019-08-08_18_00_00\"),\n",
    "            Dataset(wrfout_path + \"wrfout_d01_2019-08-08_19_00_00\"),\n",
    "            Dataset(wrfout_path + \"wrfout_d01_2019-08-08_20_00_00\"),\n",
    "            Dataset(wrfout_path + \"wrfout_d01_2019-08-08_21_00_00\"),\n",
    "            Dataset(wrfout_path + \"wrfout_d01_2019-08-08_22_00_00\"),\n",
    "            Dataset(wrfout_path + \"wrfout_d01_2019-08-08_23_00_00\"),\n",
    "            Dataset(wrfout_path + \"wrfout_d01_2019-08-09_00_00_00\")]\n",
    "'''\n",
    "\n",
    "wrf_list = [Dataset(wrfout_path + f)\n",
    "            for f in os.listdir(wrfout_path) if f.startswith(\"wrfout_d01_\")]\n",
    "\n",
    "# 利用cat方法，提取所有模拟时段的海平面气压（slp）数据\n",
    "# cat方法会将序列中所有文件沿着 'Time' 维进行合并，时间维度将作为返回数组的最左侧维度。\n",
    "# 为了在输出数组中包含所有文件中的所有时间，设置 timeidx 参数为 wrf.ALL_TIMES（或设置为 None）。\n",
    "# 如果 timeidx 是单个值，那么将假设时间索引取自所有文件所有时间的连接。\n",
    "\n",
    "slp = getvar(wrf_list, 'slp', timeidx=ALL_TIMES, method='cat')\n",
    "slp"
   ]
  },
  {
   "cell_type": "markdown",
   "metadata": {
    "_id": "B59445548AFF469493B9DE847326D8FA",
    "id": "B51491AD536444029FF4386BB61DC9A3",
    "jupyter": {},
    "notebookId": "648d8f769de7b81463ae885e",
    "runtime": {
     "execution_status": null,
     "status": "default"
    },
    "slideshow": {
     "slide_type": "slide"
    },
    "tags": []
   },
   "source": [
    "### 合并提取方法二：利用 join 方法  \n",
    "\n",
    "+ 使用join方法合并一系列文件时，会将文件/序列索引作为新数组的最左侧维度。  \n",
    "+ 当有多个文件并且每个文件具有多个时间时，如果最后一个文件的时间数少于之前文件的时间数，那么剩余的数组将用缺省值填充。"
   ]
  },
  {
   "cell_type": "code",
   "execution_count": null,
   "metadata": {
    "_id": "ECFA67312E4249CD914149D63C521B0D",
    "collapsed": false,
    "id": "AA4AB42250AD4EC390E3EE47719C39EA",
    "jupyter": {
     "outputs_hidden": false
    },
    "notebookId": "648d8f769de7b81463ae885e",
    "slideshow": {
     "slide_type": "slide"
    },
    "tags": []
   },
   "outputs": [],
   "source": [
    "# 构建一个WRF数据列表\n",
    "wrf_list = [Dataset(wrfout_path + f)\n",
    "            for f in os.listdir(wrfout_path) if f.startswith(\"wrfout_d01_\")]\n",
    "\n",
    "# 利用join方法，提取所有模拟时段的海平面气压（slp）数据\n",
    "# 虽然本次案例中join方法和cat方法效果一样，但大部分情况下，只需要使用 cat 方法即可。\n",
    "\n",
    "slp = getvar(wrf_list, 'slp', timeidx=ALL_TIMES, method='join')\n",
    "slp"
   ]
  },
  {
   "cell_type": "markdown",
   "metadata": {
    "_id": "98E52790A3A44C368BAE9518AC2C0BDE",
    "id": "8526C1A8D9F449099936BCF5ABE621D9",
    "jupyter": {},
    "notebookId": "648d8f769de7b81463ae885e",
    "runtime": {
     "execution_status": null,
     "status": "default"
    },
    "slideshow": {
     "slide_type": "slide"
    },
    "tags": []
   },
   "source": [
    "### ✍ 小练习：从多时次数据中提取多个变量"
   ]
  },
  {
   "cell_type": "markdown",
   "metadata": {
    "_id": "BF08FD90A7D44EF08EFA3B9A4A900B2E",
    "id": "31AFF49F85FE4163A74666889BA4F5B9",
    "jupyter": {},
    "notebookId": "648d8f769de7b81463ae885e",
    "runtime": {
     "execution_status": null,
     "status": "default"
    },
    "slideshow": {
     "slide_type": "slide"
    },
    "tags": []
   },
   "source": [
    "我们学习了如何从多个 wrfout 数中提取单个变量，但有时候我们想同时提取多个变量。尝试提取海平面气压和 2m 温度这两个变量并写入到同一个文件。"
   ]
  },
  {
   "cell_type": "code",
   "execution_count": null,
   "metadata": {
    "_id": "1CBF9A6244B04D16BCAF4B220766507F",
    "collapsed": false,
    "id": "17FB7346A38A42D68648F2B77DA61CC0",
    "jupyter": {
     "outputs_hidden": false
    },
    "notebookId": "648d8f769de7b81463ae885e",
    "slideshow": {
     "slide_type": "slide"
    },
    "tags": []
   },
   "outputs": [],
   "source": [
    "# WRF数据列表\n",
    "wrf_list = [Dataset(wrfout_path + f)\n",
    "            for f in os.listdir(wrfout_path) if f.startswith(\"wrfout_d01_\")]\n",
    "# 提取海平面气压数据\n",
    "slp = getvar(wrf_list, 'slp', timeidx=ALL_TIMES, method='cat')\n",
    "# 提取2m温度数据\n",
    "t2m = getvar(wrf_list, 'T2', timeidx=ALL_TIMES, method='cat')\n",
    "\n",
    "# 合并海平面气压和2m温度数据（你的代码）"
   ]
  },
  {
   "cell_type": "markdown",
   "metadata": {
    "_id": "61374689175144EDABFAB0E731FD561B",
    "id": "5946A4B870AF4F9E97E9A08837EAA483",
    "jupyter": {},
    "notebookId": "648d8f769de7b81463ae885e",
    "runtime": {
     "execution_status": null,
     "status": "default"
    },
    "slideshow": {
     "slide_type": "slide"
    },
    "tags": []
   },
   "source": [
    "### ✍ 小练习：提取 WRF 数据的时间列表"
   ]
  },
  {
   "cell_type": "markdown",
   "metadata": {
    "_id": "97C51C5993EF4CD49AD61362DFEEA640",
    "id": "1827CF6F8E1440FFA62D02642DC9C11E",
    "jupyter": {},
    "notebookId": "648d8f769de7b81463ae885e",
    "runtime": {
     "execution_status": null,
     "status": "default"
    },
    "slideshow": {
     "slide_type": "slide"
    },
    "tags": []
   },
   "source": [
    "通过 `extract_times` 函数，我们可以提取 WRF 数据对应的时间。"
   ]
  },
  {
   "cell_type": "code",
   "execution_count": null,
   "metadata": {
    "_id": "B42B5C31334A484084C49C3F88F29111",
    "collapsed": false,
    "id": "35058CDB0C01404F81D243E6E22CCB2C",
    "jupyter": {
     "outputs_hidden": false
    },
    "notebookId": "648d8f769de7b81463ae885e",
    "slideshow": {
     "slide_type": "slide"
    },
    "tags": []
   },
   "outputs": [],
   "source": [
    "from wrf import extract_times\n",
    "# # 从WRF数据列表中提取时间列表\n",
    "times_all = extract_times(wrf_list, timeidx=ALL_TIMES)\n",
    "times_all"
   ]
  },
  {
   "cell_type": "markdown",
   "metadata": {
    "_id": "8CE656C5C57D41FEBB9A356F861DF64D",
    "id": "33515EFD98834AD9B3420422FA7E6C64",
    "jupyter": {},
    "notebookId": "648d8f769de7b81463ae885e",
    "runtime": {
     "execution_status": null,
     "status": "default"
    },
    "slideshow": {
     "slide_type": "slide"
    },
    "tags": []
   },
   "source": [
    "## 六、WRF 数据读取的高级功能"
   ]
  },
  {
   "cell_type": "markdown",
   "metadata": {
    "_id": "AEF31018957A48D0AAD8A11C8B062A71",
    "id": "6E1ADC7C5E3E49A99FE23B713C3763ED",
    "jupyter": {},
    "notebookId": "648d8f769de7b81463ae885e",
    "runtime": {
     "execution_status": null,
     "status": "default"
    },
    "slideshow": {
     "slide_type": "slide"
    },
    "tags": []
   },
   "source": [
    "如果我们有多套方案的 WRF 模拟数据，通常会存放在不同的文件夹内。这时候可以采用如下方式，在合并 WRF 数据的时候，再增加一个维度，来表示我们设定的模拟方案。"
   ]
  },
  {
   "cell_type": "code",
   "execution_count": null,
   "metadata": {
    "_id": "866D9980EA6E43EC8C89026E7465D5EB",
    "collapsed": false,
    "id": "76AB31CD90BE4E8DA632A660C8094797",
    "jupyter": {
     "outputs_hidden": false
    },
    "notebookId": "648d8f769de7b81463ae885e",
    "slideshow": {
     "slide_type": "slide"
    },
    "tags": []
   },
   "outputs": [],
   "source": [
    "# case1表示实验方案1，case2表示实验方案2，……\n",
    "wrf_dict = {\"case1\": [Dataset(wrfout_path + \"wrfout_d01_2019-08-08_18_00_00\"),\n",
    "                      Dataset(wrfout_path + \"wrfout_d01_2019-08-08_19_00_00\"),\n",
    "                      Dataset(wrfout_path + \"wrfout_d01_2019-08-08_20_00_00\")],\n",
    "            \"case2\": [Dataset(wrfout_path + \"wrfout_d01_2019-08-08_18_00_00\"),\n",
    "                      Dataset(wrfout_path + \"wrfout_d01_2019-08-08_19_00_00\"),\n",
    "                      Dataset(wrfout_path + \"wrfout_d01_2019-08-08_20_00_00\")]\n",
    "            }\n",
    "\n",
    "slp = getvar(wrf_dict, 'slp', timeidx=ALL_TIMES)\n",
    "slp"
   ]
  },
  {
   "cell_type": "markdown",
   "metadata": {
    "_id": "E93700F951524535AA04DD6D399D63B9",
    "id": "AB95DB64003A4037849121A9B36BBBE8",
    "jupyter": {},
    "notebookId": "648d8f769de7b81463ae885e",
    "runtime": {
     "execution_status": null,
     "status": "default"
    },
    "slideshow": {
     "slide_type": "slide"
    },
    "tags": []
   },
   "source": [
    "恭喜你完成了 WRF 后处理训练营第一关的学习材料，学会了 WRF 数据的读取、变量的提取，更重要的是如何高效合并数据、合并变量，以 **更低的代码量、更高的运行速率来解析 WRF 数据**。  \n",
    "\n",
    "接下来让我们完成一点闯关题，巩固一下。"
   ]
  },
  {
   "cell_type": "markdown",
   "metadata": {
    "_id": "84C3F0A6D4D1486E8431BD8E156168EC",
    "id": "321BB7E03D3C47FA9111C7805EF8D6B7",
    "jupyter": {},
    "notebookId": "648d8f769de7b81463ae885e",
    "runtime": {
     "execution_status": null,
     "status": "default"
    },
    "slideshow": {
     "slide_type": "slide"
    },
    "tags": []
   },
   "source": [
    "## 闯关题  \n",
    "\n",
    "### STEP1：根据要求完成题目：  \n"
   ]
  },
  {
   "cell_type": "markdown",
   "metadata": {
    "_id": "71343584600F4DC1837F08F622A34890",
    "id": "72EC07F1F46C4432928C47A6F07F9892",
    "jupyter": {},
    "notebookId": "648d8f769de7b81463ae885e",
    "runtime": {
     "execution_status": null,
     "status": "default"
    },
    "slideshow": {
     "slide_type": "slide"
    },
    "tags": []
   },
   "source": [
    "1. 查看 WRF 数据读取后的属性，本次模拟的水平分辨率是？        \n",
    "        \n",
    "\tA. 1km    B. 2km   C. 3km   D. 4km        \n",
    "        \n",
    "\n",
    "2. `wrfout_d01_2019-08-08_18_00_00` 表示的时间是？        \n",
    "\tA. 北京时间 2019 年 8 月 8 日 18 时        \n",
    "\tB. 北京时间 2019 年 8 月 8 日 10 时        \n",
    "\tC. 北京时间 2019 年 8 月 9 日 02 时        \n",
    "\tD. 北京时间 2019 年 8 月 9 日 06 时        \n",
    "\n",
    "  \n",
    "3. 以下哪种读取方式 **无法** 实现多个 WRF 数据的合并？        \n",
    "\tA. xr.open_mfdataset ()        \n",
    "\tB. salem.open_mf_wrf_dataset ()        \n",
    "\n",
    "    \n",
    "4. 如果想禁用 / 关闭 xarray，应该将 getvar 函数中的 meta 参数设置为？        \n",
    "\tA. True        \n",
    "\tB. False        \n"
   ]
  },
  {
   "cell_type": "code",
   "execution_count": null,
   "metadata": {
    "collapsed": false,
    "id": "801F16C75B354D69B95187B21E036ECF",
    "jupyter": {
     "outputs_hidden": false
    },
    "notebookId": "648d8f769de7b81463ae885e",
    "slideshow": {
     "slide_type": "slide"
    },
    "tags": []
   },
   "outputs": [],
   "source": [
    "# 填入你的答案\n",
    "answer_1 = ''  # 如 answer_1 = 'A'\n",
    "answer_2 = ''\n",
    "answer_3 = ''\n",
    "answer_4 = ''"
   ]
  },
  {
   "cell_type": "markdown",
   "metadata": {
    "id": "E2226800CFD74A1BB7696AE84EB02DDA",
    "jupyter": {},
    "notebookId": "648d8f769de7b81463ae885e",
    "runtime": {
     "execution_status": null,
     "status": "default"
    },
    "slideshow": {
     "slide_type": "slide"
    },
    "tags": []
   },
   "source": [
    "## ⚡ 下一关预告：  \n",
    "\n",
    "下一关我们将介绍 WRF 模拟的降雨量的计算及空间绘制，实现初步的 WRF 模拟数据处理与可视化"
   ]
  }
 ],
 "metadata": {
  "kernelspec": {
   "display_name": "Python 3 (ipykernel)",
   "language": "python",
   "name": "python3"
  },
  "language_info": {
   "codemirror_mode": {
    "name": "ipython",
    "version": 3
   },
   "file_extension": ".py",
   "mimetype": "text/x-python",
   "name": "python",
   "nbconvert_exporter": "python",
   "pygments_lexer": "ipython3",
   "version": "3.10.10"
  }
 },
 "nbformat": 4,
 "nbformat_minor": 4
}
